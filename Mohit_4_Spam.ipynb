{
  "nbformat": 4,
  "nbformat_minor": 0,
  "metadata": {
    "colab": {
      "provenance": []
    },
    "kernelspec": {
      "name": "python3",
      "display_name": "Python 3"
    },
    "language_info": {
      "name": "python"
    }
  },
  "cells": [
    {
      "cell_type": "code",
      "execution_count": null,
      "metadata": {
        "id": "zOQIB6e3HbkG"
      },
      "outputs": [],
      "source": [
        "import pandas as pd\n",
        "import numpy as np\n",
        "import matplotlib.pyplot as plt\n",
        "import seaborn as sns"
      ]
    },
    {
      "cell_type": "code",
      "source": [
        "data = pd.read_csv('SMSSpamCollection(1)', sep='\\t', names=['label','message'])"
      ],
      "metadata": {
        "id": "2qteCfcfIsza"
      },
      "execution_count": null,
      "outputs": []
    },
    {
      "cell_type": "code",
      "source": [
        "data"
      ],
      "metadata": {
        "colab": {
          "base_uri": "https://localhost:8080/",
          "height": 694
        },
        "id": "YovO0IbEJyfr",
        "outputId": "db53f4c5-e1a3-4f0f-aee5-993e5cd22ef0"
      },
      "execution_count": null,
      "outputs": [
        {
          "output_type": "execute_result",
          "data": {
            "text/plain": [
              "     label                                            message\n",
              "0      ham  Go until jurong point, crazy.. Available only ...\n",
              "1      ham                      Ok lar... Joking wif u oni...\n",
              "2     spam  Free entry in 2 a wkly comp to win FA Cup fina...\n",
              "3      ham  U dun say so early hor... U c already then say...\n",
              "4      ham  Nah I don't think he goes to usf, he lives aro...\n",
              "...    ...                                                ...\n",
              "5567  spam  This is the 2nd time we have tried 2 contact u...\n",
              "5568   ham               Will ü b going to esplanade fr home?\n",
              "5569   ham  Pity, * was in mood for that. So...any other s...\n",
              "5570   ham  The guy did some bitching but I acted like i'd...\n",
              "5571   ham                         Rofl. Its true to its name\n",
              "\n",
              "[5572 rows x 2 columns]"
            ],
            "text/html": [
              "\n",
              "  <div id=\"df-8b9da9ef-d553-4b17-84ba-2cd95e940025\" class=\"colab-df-container\">\n",
              "    <div>\n",
              "<style scoped>\n",
              "    .dataframe tbody tr th:only-of-type {\n",
              "        vertical-align: middle;\n",
              "    }\n",
              "\n",
              "    .dataframe tbody tr th {\n",
              "        vertical-align: top;\n",
              "    }\n",
              "\n",
              "    .dataframe thead th {\n",
              "        text-align: right;\n",
              "    }\n",
              "</style>\n",
              "<table border=\"1\" class=\"dataframe\">\n",
              "  <thead>\n",
              "    <tr style=\"text-align: right;\">\n",
              "      <th></th>\n",
              "      <th>label</th>\n",
              "      <th>message</th>\n",
              "    </tr>\n",
              "  </thead>\n",
              "  <tbody>\n",
              "    <tr>\n",
              "      <th>0</th>\n",
              "      <td>ham</td>\n",
              "      <td>Go until jurong point, crazy.. Available only ...</td>\n",
              "    </tr>\n",
              "    <tr>\n",
              "      <th>1</th>\n",
              "      <td>ham</td>\n",
              "      <td>Ok lar... Joking wif u oni...</td>\n",
              "    </tr>\n",
              "    <tr>\n",
              "      <th>2</th>\n",
              "      <td>spam</td>\n",
              "      <td>Free entry in 2 a wkly comp to win FA Cup fina...</td>\n",
              "    </tr>\n",
              "    <tr>\n",
              "      <th>3</th>\n",
              "      <td>ham</td>\n",
              "      <td>U dun say so early hor... U c already then say...</td>\n",
              "    </tr>\n",
              "    <tr>\n",
              "      <th>4</th>\n",
              "      <td>ham</td>\n",
              "      <td>Nah I don't think he goes to usf, he lives aro...</td>\n",
              "    </tr>\n",
              "    <tr>\n",
              "      <th>...</th>\n",
              "      <td>...</td>\n",
              "      <td>...</td>\n",
              "    </tr>\n",
              "    <tr>\n",
              "      <th>5567</th>\n",
              "      <td>spam</td>\n",
              "      <td>This is the 2nd time we have tried 2 contact u...</td>\n",
              "    </tr>\n",
              "    <tr>\n",
              "      <th>5568</th>\n",
              "      <td>ham</td>\n",
              "      <td>Will ü b going to esplanade fr home?</td>\n",
              "    </tr>\n",
              "    <tr>\n",
              "      <th>5569</th>\n",
              "      <td>ham</td>\n",
              "      <td>Pity, * was in mood for that. So...any other s...</td>\n",
              "    </tr>\n",
              "    <tr>\n",
              "      <th>5570</th>\n",
              "      <td>ham</td>\n",
              "      <td>The guy did some bitching but I acted like i'd...</td>\n",
              "    </tr>\n",
              "    <tr>\n",
              "      <th>5571</th>\n",
              "      <td>ham</td>\n",
              "      <td>Rofl. Its true to its name</td>\n",
              "    </tr>\n",
              "  </tbody>\n",
              "</table>\n",
              "<p>5572 rows × 2 columns</p>\n",
              "</div>\n",
              "    <div class=\"colab-df-buttons\">\n",
              "\n",
              "  <div class=\"colab-df-container\">\n",
              "    <button class=\"colab-df-convert\" onclick=\"convertToInteractive('df-8b9da9ef-d553-4b17-84ba-2cd95e940025')\"\n",
              "            title=\"Convert this dataframe to an interactive table.\"\n",
              "            style=\"display:none;\">\n",
              "\n",
              "  <svg xmlns=\"http://www.w3.org/2000/svg\" height=\"24px\" viewBox=\"0 -960 960 960\">\n",
              "    <path d=\"M120-120v-720h720v720H120Zm60-500h600v-160H180v160Zm220 220h160v-160H400v160Zm0 220h160v-160H400v160ZM180-400h160v-160H180v160Zm440 0h160v-160H620v160ZM180-180h160v-160H180v160Zm440 0h160v-160H620v160Z\"/>\n",
              "  </svg>\n",
              "    </button>\n",
              "\n",
              "  <style>\n",
              "    .colab-df-container {\n",
              "      display:flex;\n",
              "      gap: 12px;\n",
              "    }\n",
              "\n",
              "    .colab-df-convert {\n",
              "      background-color: #E8F0FE;\n",
              "      border: none;\n",
              "      border-radius: 50%;\n",
              "      cursor: pointer;\n",
              "      display: none;\n",
              "      fill: #1967D2;\n",
              "      height: 32px;\n",
              "      padding: 0 0 0 0;\n",
              "      width: 32px;\n",
              "    }\n",
              "\n",
              "    .colab-df-convert:hover {\n",
              "      background-color: #E2EBFA;\n",
              "      box-shadow: 0px 1px 2px rgba(60, 64, 67, 0.3), 0px 1px 3px 1px rgba(60, 64, 67, 0.15);\n",
              "      fill: #174EA6;\n",
              "    }\n",
              "\n",
              "    .colab-df-buttons div {\n",
              "      margin-bottom: 4px;\n",
              "    }\n",
              "\n",
              "    [theme=dark] .colab-df-convert {\n",
              "      background-color: #3B4455;\n",
              "      fill: #D2E3FC;\n",
              "    }\n",
              "\n",
              "    [theme=dark] .colab-df-convert:hover {\n",
              "      background-color: #434B5C;\n",
              "      box-shadow: 0px 1px 3px 1px rgba(0, 0, 0, 0.15);\n",
              "      filter: drop-shadow(0px 1px 2px rgba(0, 0, 0, 0.3));\n",
              "      fill: #FFFFFF;\n",
              "    }\n",
              "  </style>\n",
              "\n",
              "    <script>\n",
              "      const buttonEl =\n",
              "        document.querySelector('#df-8b9da9ef-d553-4b17-84ba-2cd95e940025 button.colab-df-convert');\n",
              "      buttonEl.style.display =\n",
              "        google.colab.kernel.accessAllowed ? 'block' : 'none';\n",
              "\n",
              "      async function convertToInteractive(key) {\n",
              "        const element = document.querySelector('#df-8b9da9ef-d553-4b17-84ba-2cd95e940025');\n",
              "        const dataTable =\n",
              "          await google.colab.kernel.invokeFunction('convertToInteractive',\n",
              "                                                    [key], {});\n",
              "        if (!dataTable) return;\n",
              "\n",
              "        const docLinkHtml = 'Like what you see? Visit the ' +\n",
              "          '<a target=\"_blank\" href=https://colab.research.google.com/notebooks/data_table.ipynb>data table notebook</a>'\n",
              "          + ' to learn more about interactive tables.';\n",
              "        element.innerHTML = '';\n",
              "        dataTable['output_type'] = 'display_data';\n",
              "        await google.colab.output.renderOutput(dataTable, element);\n",
              "        const docLink = document.createElement('div');\n",
              "        docLink.innerHTML = docLinkHtml;\n",
              "        element.appendChild(docLink);\n",
              "      }\n",
              "    </script>\n",
              "  </div>\n",
              "\n",
              "\n",
              "<div id=\"df-647f8763-c75c-42bb-a864-5b2c6c447c4f\">\n",
              "  <button class=\"colab-df-quickchart\" onclick=\"quickchart('df-647f8763-c75c-42bb-a864-5b2c6c447c4f')\"\n",
              "            title=\"Suggest charts\"\n",
              "            style=\"display:none;\">\n",
              "\n",
              "<svg xmlns=\"http://www.w3.org/2000/svg\" height=\"24px\"viewBox=\"0 0 24 24\"\n",
              "     width=\"24px\">\n",
              "    <g>\n",
              "        <path d=\"M19 3H5c-1.1 0-2 .9-2 2v14c0 1.1.9 2 2 2h14c1.1 0 2-.9 2-2V5c0-1.1-.9-2-2-2zM9 17H7v-7h2v7zm4 0h-2V7h2v10zm4 0h-2v-4h2v4z\"/>\n",
              "    </g>\n",
              "</svg>\n",
              "  </button>\n",
              "\n",
              "<style>\n",
              "  .colab-df-quickchart {\n",
              "      --bg-color: #E8F0FE;\n",
              "      --fill-color: #1967D2;\n",
              "      --hover-bg-color: #E2EBFA;\n",
              "      --hover-fill-color: #174EA6;\n",
              "      --disabled-fill-color: #AAA;\n",
              "      --disabled-bg-color: #DDD;\n",
              "  }\n",
              "\n",
              "  [theme=dark] .colab-df-quickchart {\n",
              "      --bg-color: #3B4455;\n",
              "      --fill-color: #D2E3FC;\n",
              "      --hover-bg-color: #434B5C;\n",
              "      --hover-fill-color: #FFFFFF;\n",
              "      --disabled-bg-color: #3B4455;\n",
              "      --disabled-fill-color: #666;\n",
              "  }\n",
              "\n",
              "  .colab-df-quickchart {\n",
              "    background-color: var(--bg-color);\n",
              "    border: none;\n",
              "    border-radius: 50%;\n",
              "    cursor: pointer;\n",
              "    display: none;\n",
              "    fill: var(--fill-color);\n",
              "    height: 32px;\n",
              "    padding: 0;\n",
              "    width: 32px;\n",
              "  }\n",
              "\n",
              "  .colab-df-quickchart:hover {\n",
              "    background-color: var(--hover-bg-color);\n",
              "    box-shadow: 0 1px 2px rgba(60, 64, 67, 0.3), 0 1px 3px 1px rgba(60, 64, 67, 0.15);\n",
              "    fill: var(--button-hover-fill-color);\n",
              "  }\n",
              "\n",
              "  .colab-df-quickchart-complete:disabled,\n",
              "  .colab-df-quickchart-complete:disabled:hover {\n",
              "    background-color: var(--disabled-bg-color);\n",
              "    fill: var(--disabled-fill-color);\n",
              "    box-shadow: none;\n",
              "  }\n",
              "\n",
              "  .colab-df-spinner {\n",
              "    border: 2px solid var(--fill-color);\n",
              "    border-color: transparent;\n",
              "    border-bottom-color: var(--fill-color);\n",
              "    animation:\n",
              "      spin 1s steps(1) infinite;\n",
              "  }\n",
              "\n",
              "  @keyframes spin {\n",
              "    0% {\n",
              "      border-color: transparent;\n",
              "      border-bottom-color: var(--fill-color);\n",
              "      border-left-color: var(--fill-color);\n",
              "    }\n",
              "    20% {\n",
              "      border-color: transparent;\n",
              "      border-left-color: var(--fill-color);\n",
              "      border-top-color: var(--fill-color);\n",
              "    }\n",
              "    30% {\n",
              "      border-color: transparent;\n",
              "      border-left-color: var(--fill-color);\n",
              "      border-top-color: var(--fill-color);\n",
              "      border-right-color: var(--fill-color);\n",
              "    }\n",
              "    40% {\n",
              "      border-color: transparent;\n",
              "      border-right-color: var(--fill-color);\n",
              "      border-top-color: var(--fill-color);\n",
              "    }\n",
              "    60% {\n",
              "      border-color: transparent;\n",
              "      border-right-color: var(--fill-color);\n",
              "    }\n",
              "    80% {\n",
              "      border-color: transparent;\n",
              "      border-right-color: var(--fill-color);\n",
              "      border-bottom-color: var(--fill-color);\n",
              "    }\n",
              "    90% {\n",
              "      border-color: transparent;\n",
              "      border-bottom-color: var(--fill-color);\n",
              "    }\n",
              "  }\n",
              "</style>\n",
              "\n",
              "  <script>\n",
              "    async function quickchart(key) {\n",
              "      const quickchartButtonEl =\n",
              "        document.querySelector('#' + key + ' button');\n",
              "      quickchartButtonEl.disabled = true;  // To prevent multiple clicks.\n",
              "      quickchartButtonEl.classList.add('colab-df-spinner');\n",
              "      try {\n",
              "        const charts = await google.colab.kernel.invokeFunction(\n",
              "            'suggestCharts', [key], {});\n",
              "      } catch (error) {\n",
              "        console.error('Error during call to suggestCharts:', error);\n",
              "      }\n",
              "      quickchartButtonEl.classList.remove('colab-df-spinner');\n",
              "      quickchartButtonEl.classList.add('colab-df-quickchart-complete');\n",
              "    }\n",
              "    (() => {\n",
              "      let quickchartButtonEl =\n",
              "        document.querySelector('#df-647f8763-c75c-42bb-a864-5b2c6c447c4f button');\n",
              "      quickchartButtonEl.style.display =\n",
              "        google.colab.kernel.accessAllowed ? 'block' : 'none';\n",
              "    })();\n",
              "  </script>\n",
              "</div>\n",
              "\n",
              "  <div id=\"id_11e010c3-5dd6-4166-9889-a21fed3afa5f\">\n",
              "    <style>\n",
              "      .colab-df-generate {\n",
              "        background-color: #E8F0FE;\n",
              "        border: none;\n",
              "        border-radius: 50%;\n",
              "        cursor: pointer;\n",
              "        display: none;\n",
              "        fill: #1967D2;\n",
              "        height: 32px;\n",
              "        padding: 0 0 0 0;\n",
              "        width: 32px;\n",
              "      }\n",
              "\n",
              "      .colab-df-generate:hover {\n",
              "        background-color: #E2EBFA;\n",
              "        box-shadow: 0px 1px 2px rgba(60, 64, 67, 0.3), 0px 1px 3px 1px rgba(60, 64, 67, 0.15);\n",
              "        fill: #174EA6;\n",
              "      }\n",
              "\n",
              "      [theme=dark] .colab-df-generate {\n",
              "        background-color: #3B4455;\n",
              "        fill: #D2E3FC;\n",
              "      }\n",
              "\n",
              "      [theme=dark] .colab-df-generate:hover {\n",
              "        background-color: #434B5C;\n",
              "        box-shadow: 0px 1px 3px 1px rgba(0, 0, 0, 0.15);\n",
              "        filter: drop-shadow(0px 1px 2px rgba(0, 0, 0, 0.3));\n",
              "        fill: #FFFFFF;\n",
              "      }\n",
              "    </style>\n",
              "    <button class=\"colab-df-generate\" onclick=\"generateWithVariable('data')\"\n",
              "            title=\"Generate code using this dataframe.\"\n",
              "            style=\"display:none;\">\n",
              "\n",
              "  <svg xmlns=\"http://www.w3.org/2000/svg\" height=\"24px\"viewBox=\"0 0 24 24\"\n",
              "       width=\"24px\">\n",
              "    <path d=\"M7,19H8.4L18.45,9,17,7.55,7,17.6ZM5,21V16.75L18.45,3.32a2,2,0,0,1,2.83,0l1.4,1.43a1.91,1.91,0,0,1,.58,1.4,1.91,1.91,0,0,1-.58,1.4L9.25,21ZM18.45,9,17,7.55Zm-12,3A5.31,5.31,0,0,0,4.9,8.1,5.31,5.31,0,0,0,1,6.5,5.31,5.31,0,0,0,4.9,4.9,5.31,5.31,0,0,0,6.5,1,5.31,5.31,0,0,0,8.1,4.9,5.31,5.31,0,0,0,12,6.5,5.46,5.46,0,0,0,6.5,12Z\"/>\n",
              "  </svg>\n",
              "    </button>\n",
              "    <script>\n",
              "      (() => {\n",
              "      const buttonEl =\n",
              "        document.querySelector('#id_11e010c3-5dd6-4166-9889-a21fed3afa5f button.colab-df-generate');\n",
              "      buttonEl.style.display =\n",
              "        google.colab.kernel.accessAllowed ? 'block' : 'none';\n",
              "\n",
              "      buttonEl.onclick = () => {\n",
              "        google.colab.notebook.generateWithVariable('data');\n",
              "      }\n",
              "      })();\n",
              "    </script>\n",
              "  </div>\n",
              "\n",
              "    </div>\n",
              "  </div>\n"
            ],
            "application/vnd.google.colaboratory.intrinsic+json": {
              "type": "dataframe",
              "variable_name": "data",
              "summary": "{\n  \"name\": \"data\",\n  \"rows\": 5572,\n  \"fields\": [\n    {\n      \"column\": \"label\",\n      \"properties\": {\n        \"dtype\": \"category\",\n        \"num_unique_values\": 2,\n        \"samples\": [\n          \"spam\",\n          \"ham\"\n        ],\n        \"semantic_type\": \"\",\n        \"description\": \"\"\n      }\n    },\n    {\n      \"column\": \"message\",\n      \"properties\": {\n        \"dtype\": \"string\",\n        \"num_unique_values\": 5169,\n        \"samples\": [\n          \"K, makes sense, btw carlos is being difficult so you guys are gonna smoke while I go pick up the second batch and get gas\",\n          \"URGENT! Your mobile No *********** WON a \\u00a32,000 Bonus Caller Prize on 02/06/03! This is the 2nd attempt to reach YOU! Call 09066362220 ASAP! BOX97N7QP, 150ppm\"\n        ],\n        \"semantic_type\": \"\",\n        \"description\": \"\"\n      }\n    }\n  ]\n}"
            }
          },
          "metadata": {},
          "execution_count": 134
        }
      ]
    },
    {
      "cell_type": "code",
      "source": [
        "import re"
      ],
      "metadata": {
        "id": "HA4Cqt0vqe36"
      },
      "execution_count": null,
      "outputs": []
    },
    {
      "cell_type": "code",
      "source": [
        "df = pd.DataFrame(data)"
      ],
      "metadata": {
        "id": "J3JquZ3Xqe1h"
      },
      "execution_count": null,
      "outputs": []
    },
    {
      "cell_type": "code",
      "source": [
        "# Function to remove punctuation\n",
        "def remove_punctuation(text):\n",
        "    return re.sub(r'[^\\w\\s]', '', text)"
      ],
      "metadata": {
        "id": "OZiaE0Bprgfo"
      },
      "execution_count": null,
      "outputs": []
    },
    {
      "cell_type": "code",
      "source": [
        "df['cleaned_message'] = df['message'].apply(remove_punctuation)"
      ],
      "metadata": {
        "id": "v96QVM6yrgdL"
      },
      "execution_count": null,
      "outputs": []
    },
    {
      "cell_type": "code",
      "source": [
        "print(\"Original DataFrame:\\n\", df[['message', 'label']])"
      ],
      "metadata": {
        "colab": {
          "base_uri": "https://localhost:8080/"
        },
        "id": "R_dUHw5Arga9",
        "outputId": "9cccb2ef-d4c6-437f-87e3-c86ec1290e39"
      },
      "execution_count": null,
      "outputs": [
        {
          "output_type": "stream",
          "name": "stdout",
          "text": [
            "Original DataFrame:\n",
            "                                                 message label\n",
            "0     Go until jurong point, crazy.. Available only ...   ham\n",
            "1                         Ok lar... Joking wif u oni...   ham\n",
            "2     Free entry in 2 a wkly comp to win FA Cup fina...  spam\n",
            "3     U dun say so early hor... U c already then say...   ham\n",
            "4     Nah I don't think he goes to usf, he lives aro...   ham\n",
            "...                                                 ...   ...\n",
            "5567  This is the 2nd time we have tried 2 contact u...  spam\n",
            "5568               Will ü b going to esplanade fr home?   ham\n",
            "5569  Pity, * was in mood for that. So...any other s...   ham\n",
            "5570  The guy did some bitching but I acted like i'd...   ham\n",
            "5571                         Rofl. Its true to its name   ham\n",
            "\n",
            "[5572 rows x 2 columns]\n"
          ]
        }
      ]
    },
    {
      "cell_type": "code",
      "source": [
        "print(\"\\nDataFrame after removing punctuation:\\n\", df[['cleaned_message', 'label']])"
      ],
      "metadata": {
        "colab": {
          "base_uri": "https://localhost:8080/"
        },
        "id": "Kyz3kyVwrgYa",
        "outputId": "df28f112-4ab1-4021-f9e6-0213527e5e70"
      },
      "execution_count": null,
      "outputs": [
        {
          "output_type": "stream",
          "name": "stdout",
          "text": [
            "\n",
            "DataFrame after removing punctuation:\n",
            "                                         cleaned_message label\n",
            "0     Go until jurong point crazy Available only in ...   ham\n",
            "1                               Ok lar Joking wif u oni   ham\n",
            "2     Free entry in 2 a wkly comp to win FA Cup fina...  spam\n",
            "3           U dun say so early hor U c already then say   ham\n",
            "4     Nah I dont think he goes to usf he lives aroun...   ham\n",
            "...                                                 ...   ...\n",
            "5567  This is the 2nd time we have tried 2 contact u...  spam\n",
            "5568                Will ü b going to esplanade fr home   ham\n",
            "5569  Pity  was in mood for that Soany other suggest...   ham\n",
            "5570  The guy did some bitching but I acted like id ...   ham\n",
            "5571                          Rofl Its true to its name   ham\n",
            "\n",
            "[5572 rows x 2 columns]\n"
          ]
        }
      ]
    },
    {
      "cell_type": "code",
      "source": [
        "data.describe()"
      ],
      "metadata": {
        "colab": {
          "base_uri": "https://localhost:8080/",
          "height": 175
        },
        "id": "3UkRpHjTIvsD",
        "outputId": "c7ed64de-2220-4854-e753-ea6255fd69f3"
      },
      "execution_count": null,
      "outputs": [
        {
          "output_type": "execute_result",
          "data": {
            "text/plain": [
              "       label                 message\n",
              "count   5572                    5572\n",
              "unique     2                    5169\n",
              "top      ham  Sorry, I'll call later\n",
              "freq    4825                      30"
            ],
            "text/html": [
              "\n",
              "  <div id=\"df-d2ed8fe2-d238-45f6-9a54-33770e212611\" class=\"colab-df-container\">\n",
              "    <div>\n",
              "<style scoped>\n",
              "    .dataframe tbody tr th:only-of-type {\n",
              "        vertical-align: middle;\n",
              "    }\n",
              "\n",
              "    .dataframe tbody tr th {\n",
              "        vertical-align: top;\n",
              "    }\n",
              "\n",
              "    .dataframe thead th {\n",
              "        text-align: right;\n",
              "    }\n",
              "</style>\n",
              "<table border=\"1\" class=\"dataframe\">\n",
              "  <thead>\n",
              "    <tr style=\"text-align: right;\">\n",
              "      <th></th>\n",
              "      <th>label</th>\n",
              "      <th>message</th>\n",
              "    </tr>\n",
              "  </thead>\n",
              "  <tbody>\n",
              "    <tr>\n",
              "      <th>count</th>\n",
              "      <td>5572</td>\n",
              "      <td>5572</td>\n",
              "    </tr>\n",
              "    <tr>\n",
              "      <th>unique</th>\n",
              "      <td>2</td>\n",
              "      <td>5169</td>\n",
              "    </tr>\n",
              "    <tr>\n",
              "      <th>top</th>\n",
              "      <td>ham</td>\n",
              "      <td>Sorry, I'll call later</td>\n",
              "    </tr>\n",
              "    <tr>\n",
              "      <th>freq</th>\n",
              "      <td>4825</td>\n",
              "      <td>30</td>\n",
              "    </tr>\n",
              "  </tbody>\n",
              "</table>\n",
              "</div>\n",
              "    <div class=\"colab-df-buttons\">\n",
              "\n",
              "  <div class=\"colab-df-container\">\n",
              "    <button class=\"colab-df-convert\" onclick=\"convertToInteractive('df-d2ed8fe2-d238-45f6-9a54-33770e212611')\"\n",
              "            title=\"Convert this dataframe to an interactive table.\"\n",
              "            style=\"display:none;\">\n",
              "\n",
              "  <svg xmlns=\"http://www.w3.org/2000/svg\" height=\"24px\" viewBox=\"0 -960 960 960\">\n",
              "    <path d=\"M120-120v-720h720v720H120Zm60-500h600v-160H180v160Zm220 220h160v-160H400v160Zm0 220h160v-160H400v160ZM180-400h160v-160H180v160Zm440 0h160v-160H620v160ZM180-180h160v-160H180v160Zm440 0h160v-160H620v160Z\"/>\n",
              "  </svg>\n",
              "    </button>\n",
              "\n",
              "  <style>\n",
              "    .colab-df-container {\n",
              "      display:flex;\n",
              "      gap: 12px;\n",
              "    }\n",
              "\n",
              "    .colab-df-convert {\n",
              "      background-color: #E8F0FE;\n",
              "      border: none;\n",
              "      border-radius: 50%;\n",
              "      cursor: pointer;\n",
              "      display: none;\n",
              "      fill: #1967D2;\n",
              "      height: 32px;\n",
              "      padding: 0 0 0 0;\n",
              "      width: 32px;\n",
              "    }\n",
              "\n",
              "    .colab-df-convert:hover {\n",
              "      background-color: #E2EBFA;\n",
              "      box-shadow: 0px 1px 2px rgba(60, 64, 67, 0.3), 0px 1px 3px 1px rgba(60, 64, 67, 0.15);\n",
              "      fill: #174EA6;\n",
              "    }\n",
              "\n",
              "    .colab-df-buttons div {\n",
              "      margin-bottom: 4px;\n",
              "    }\n",
              "\n",
              "    [theme=dark] .colab-df-convert {\n",
              "      background-color: #3B4455;\n",
              "      fill: #D2E3FC;\n",
              "    }\n",
              "\n",
              "    [theme=dark] .colab-df-convert:hover {\n",
              "      background-color: #434B5C;\n",
              "      box-shadow: 0px 1px 3px 1px rgba(0, 0, 0, 0.15);\n",
              "      filter: drop-shadow(0px 1px 2px rgba(0, 0, 0, 0.3));\n",
              "      fill: #FFFFFF;\n",
              "    }\n",
              "  </style>\n",
              "\n",
              "    <script>\n",
              "      const buttonEl =\n",
              "        document.querySelector('#df-d2ed8fe2-d238-45f6-9a54-33770e212611 button.colab-df-convert');\n",
              "      buttonEl.style.display =\n",
              "        google.colab.kernel.accessAllowed ? 'block' : 'none';\n",
              "\n",
              "      async function convertToInteractive(key) {\n",
              "        const element = document.querySelector('#df-d2ed8fe2-d238-45f6-9a54-33770e212611');\n",
              "        const dataTable =\n",
              "          await google.colab.kernel.invokeFunction('convertToInteractive',\n",
              "                                                    [key], {});\n",
              "        if (!dataTable) return;\n",
              "\n",
              "        const docLinkHtml = 'Like what you see? Visit the ' +\n",
              "          '<a target=\"_blank\" href=https://colab.research.google.com/notebooks/data_table.ipynb>data table notebook</a>'\n",
              "          + ' to learn more about interactive tables.';\n",
              "        element.innerHTML = '';\n",
              "        dataTable['output_type'] = 'display_data';\n",
              "        await google.colab.output.renderOutput(dataTable, element);\n",
              "        const docLink = document.createElement('div');\n",
              "        docLink.innerHTML = docLinkHtml;\n",
              "        element.appendChild(docLink);\n",
              "      }\n",
              "    </script>\n",
              "  </div>\n",
              "\n",
              "\n",
              "<div id=\"df-912eec53-6c74-4ffe-b99d-0e467b0a7895\">\n",
              "  <button class=\"colab-df-quickchart\" onclick=\"quickchart('df-912eec53-6c74-4ffe-b99d-0e467b0a7895')\"\n",
              "            title=\"Suggest charts\"\n",
              "            style=\"display:none;\">\n",
              "\n",
              "<svg xmlns=\"http://www.w3.org/2000/svg\" height=\"24px\"viewBox=\"0 0 24 24\"\n",
              "     width=\"24px\">\n",
              "    <g>\n",
              "        <path d=\"M19 3H5c-1.1 0-2 .9-2 2v14c0 1.1.9 2 2 2h14c1.1 0 2-.9 2-2V5c0-1.1-.9-2-2-2zM9 17H7v-7h2v7zm4 0h-2V7h2v10zm4 0h-2v-4h2v4z\"/>\n",
              "    </g>\n",
              "</svg>\n",
              "  </button>\n",
              "\n",
              "<style>\n",
              "  .colab-df-quickchart {\n",
              "      --bg-color: #E8F0FE;\n",
              "      --fill-color: #1967D2;\n",
              "      --hover-bg-color: #E2EBFA;\n",
              "      --hover-fill-color: #174EA6;\n",
              "      --disabled-fill-color: #AAA;\n",
              "      --disabled-bg-color: #DDD;\n",
              "  }\n",
              "\n",
              "  [theme=dark] .colab-df-quickchart {\n",
              "      --bg-color: #3B4455;\n",
              "      --fill-color: #D2E3FC;\n",
              "      --hover-bg-color: #434B5C;\n",
              "      --hover-fill-color: #FFFFFF;\n",
              "      --disabled-bg-color: #3B4455;\n",
              "      --disabled-fill-color: #666;\n",
              "  }\n",
              "\n",
              "  .colab-df-quickchart {\n",
              "    background-color: var(--bg-color);\n",
              "    border: none;\n",
              "    border-radius: 50%;\n",
              "    cursor: pointer;\n",
              "    display: none;\n",
              "    fill: var(--fill-color);\n",
              "    height: 32px;\n",
              "    padding: 0;\n",
              "    width: 32px;\n",
              "  }\n",
              "\n",
              "  .colab-df-quickchart:hover {\n",
              "    background-color: var(--hover-bg-color);\n",
              "    box-shadow: 0 1px 2px rgba(60, 64, 67, 0.3), 0 1px 3px 1px rgba(60, 64, 67, 0.15);\n",
              "    fill: var(--button-hover-fill-color);\n",
              "  }\n",
              "\n",
              "  .colab-df-quickchart-complete:disabled,\n",
              "  .colab-df-quickchart-complete:disabled:hover {\n",
              "    background-color: var(--disabled-bg-color);\n",
              "    fill: var(--disabled-fill-color);\n",
              "    box-shadow: none;\n",
              "  }\n",
              "\n",
              "  .colab-df-spinner {\n",
              "    border: 2px solid var(--fill-color);\n",
              "    border-color: transparent;\n",
              "    border-bottom-color: var(--fill-color);\n",
              "    animation:\n",
              "      spin 1s steps(1) infinite;\n",
              "  }\n",
              "\n",
              "  @keyframes spin {\n",
              "    0% {\n",
              "      border-color: transparent;\n",
              "      border-bottom-color: var(--fill-color);\n",
              "      border-left-color: var(--fill-color);\n",
              "    }\n",
              "    20% {\n",
              "      border-color: transparent;\n",
              "      border-left-color: var(--fill-color);\n",
              "      border-top-color: var(--fill-color);\n",
              "    }\n",
              "    30% {\n",
              "      border-color: transparent;\n",
              "      border-left-color: var(--fill-color);\n",
              "      border-top-color: var(--fill-color);\n",
              "      border-right-color: var(--fill-color);\n",
              "    }\n",
              "    40% {\n",
              "      border-color: transparent;\n",
              "      border-right-color: var(--fill-color);\n",
              "      border-top-color: var(--fill-color);\n",
              "    }\n",
              "    60% {\n",
              "      border-color: transparent;\n",
              "      border-right-color: var(--fill-color);\n",
              "    }\n",
              "    80% {\n",
              "      border-color: transparent;\n",
              "      border-right-color: var(--fill-color);\n",
              "      border-bottom-color: var(--fill-color);\n",
              "    }\n",
              "    90% {\n",
              "      border-color: transparent;\n",
              "      border-bottom-color: var(--fill-color);\n",
              "    }\n",
              "  }\n",
              "</style>\n",
              "\n",
              "  <script>\n",
              "    async function quickchart(key) {\n",
              "      const quickchartButtonEl =\n",
              "        document.querySelector('#' + key + ' button');\n",
              "      quickchartButtonEl.disabled = true;  // To prevent multiple clicks.\n",
              "      quickchartButtonEl.classList.add('colab-df-spinner');\n",
              "      try {\n",
              "        const charts = await google.colab.kernel.invokeFunction(\n",
              "            'suggestCharts', [key], {});\n",
              "      } catch (error) {\n",
              "        console.error('Error during call to suggestCharts:', error);\n",
              "      }\n",
              "      quickchartButtonEl.classList.remove('colab-df-spinner');\n",
              "      quickchartButtonEl.classList.add('colab-df-quickchart-complete');\n",
              "    }\n",
              "    (() => {\n",
              "      let quickchartButtonEl =\n",
              "        document.querySelector('#df-912eec53-6c74-4ffe-b99d-0e467b0a7895 button');\n",
              "      quickchartButtonEl.style.display =\n",
              "        google.colab.kernel.accessAllowed ? 'block' : 'none';\n",
              "    })();\n",
              "  </script>\n",
              "</div>\n",
              "\n",
              "    </div>\n",
              "  </div>\n"
            ],
            "application/vnd.google.colaboratory.intrinsic+json": {
              "type": "dataframe",
              "summary": "{\n  \"name\": \"data\",\n  \"rows\": 4,\n  \"fields\": [\n    {\n      \"column\": \"label\",\n      \"properties\": {\n        \"dtype\": \"string\",\n        \"num_unique_values\": 4,\n        \"samples\": [\n          2,\n          \"4825\",\n          \"5572\"\n        ],\n        \"semantic_type\": \"\",\n        \"description\": \"\"\n      }\n    },\n    {\n      \"column\": \"message\",\n      \"properties\": {\n        \"dtype\": \"string\",\n        \"num_unique_values\": 4,\n        \"samples\": [\n          5169,\n          \"30\",\n          \"5572\"\n        ],\n        \"semantic_type\": \"\",\n        \"description\": \"\"\n      }\n    }\n  ]\n}"
            }
          },
          "metadata": {},
          "execution_count": 9
        }
      ]
    },
    {
      "cell_type": "code",
      "source": [
        "data.dtypes"
      ],
      "metadata": {
        "colab": {
          "base_uri": "https://localhost:8080/",
          "height": 147
        },
        "id": "tuGMIkMKJ1mh",
        "outputId": "8f8f3124-24a9-452e-f679-390c55a09170"
      },
      "execution_count": null,
      "outputs": [
        {
          "output_type": "execute_result",
          "data": {
            "text/plain": [
              "label      object\n",
              "message    object\n",
              "dtype: object"
            ],
            "text/html": [
              "<div>\n",
              "<style scoped>\n",
              "    .dataframe tbody tr th:only-of-type {\n",
              "        vertical-align: middle;\n",
              "    }\n",
              "\n",
              "    .dataframe tbody tr th {\n",
              "        vertical-align: top;\n",
              "    }\n",
              "\n",
              "    .dataframe thead th {\n",
              "        text-align: right;\n",
              "    }\n",
              "</style>\n",
              "<table border=\"1\" class=\"dataframe\">\n",
              "  <thead>\n",
              "    <tr style=\"text-align: right;\">\n",
              "      <th></th>\n",
              "      <th>0</th>\n",
              "    </tr>\n",
              "  </thead>\n",
              "  <tbody>\n",
              "    <tr>\n",
              "      <th>label</th>\n",
              "      <td>object</td>\n",
              "    </tr>\n",
              "    <tr>\n",
              "      <th>message</th>\n",
              "      <td>object</td>\n",
              "    </tr>\n",
              "  </tbody>\n",
              "</table>\n",
              "</div><br><label><b>dtype:</b> object</label>"
            ]
          },
          "metadata": {},
          "execution_count": 11
        }
      ]
    },
    {
      "cell_type": "code",
      "source": [
        "data.isnull().sum()"
      ],
      "metadata": {
        "colab": {
          "base_uri": "https://localhost:8080/",
          "height": 147
        },
        "id": "Sia8L5LdJumX",
        "outputId": "7a37c878-07c9-4a3e-d496-4a95a328da4d"
      },
      "execution_count": null,
      "outputs": [
        {
          "output_type": "execute_result",
          "data": {
            "text/plain": [
              "label      0\n",
              "message    0\n",
              "dtype: int64"
            ],
            "text/html": [
              "<div>\n",
              "<style scoped>\n",
              "    .dataframe tbody tr th:only-of-type {\n",
              "        vertical-align: middle;\n",
              "    }\n",
              "\n",
              "    .dataframe tbody tr th {\n",
              "        vertical-align: top;\n",
              "    }\n",
              "\n",
              "    .dataframe thead th {\n",
              "        text-align: right;\n",
              "    }\n",
              "</style>\n",
              "<table border=\"1\" class=\"dataframe\">\n",
              "  <thead>\n",
              "    <tr style=\"text-align: right;\">\n",
              "      <th></th>\n",
              "      <th>0</th>\n",
              "    </tr>\n",
              "  </thead>\n",
              "  <tbody>\n",
              "    <tr>\n",
              "      <th>label</th>\n",
              "      <td>0</td>\n",
              "    </tr>\n",
              "    <tr>\n",
              "      <th>message</th>\n",
              "      <td>0</td>\n",
              "    </tr>\n",
              "  </tbody>\n",
              "</table>\n",
              "</div><br><label><b>dtype:</b> int64</label>"
            ]
          },
          "metadata": {},
          "execution_count": 13
        }
      ]
    },
    {
      "cell_type": "code",
      "source": [
        "data['label'] = data['label'].map({'spam': 1, 'ham': 0})"
      ],
      "metadata": {
        "id": "XsoLPHqAJ-Xj"
      },
      "execution_count": null,
      "outputs": []
    },
    {
      "cell_type": "code",
      "source": [
        "data"
      ],
      "metadata": {
        "colab": {
          "base_uri": "https://localhost:8080/",
          "height": 424
        },
        "id": "DR3x50Q-KMVC",
        "outputId": "f2f7b60e-e720-43fa-c49e-0976099252d3"
      },
      "execution_count": null,
      "outputs": [
        {
          "output_type": "execute_result",
          "data": {
            "text/plain": [
              "      label                                            message\n",
              "0         0  Go until jurong point, crazy.. Available only ...\n",
              "1         0                      Ok lar... Joking wif u oni...\n",
              "2         1  Free entry in 2 a wkly comp to win FA Cup fina...\n",
              "3         0  U dun say so early hor... U c already then say...\n",
              "4         0  Nah I don't think he goes to usf, he lives aro...\n",
              "...     ...                                                ...\n",
              "5567      1  This is the 2nd time we have tried 2 contact u...\n",
              "5568      0               Will ü b going to esplanade fr home?\n",
              "5569      0  Pity, * was in mood for that. So...any other s...\n",
              "5570      0  The guy did some bitching but I acted like i'd...\n",
              "5571      0                         Rofl. Its true to its name\n",
              "\n",
              "[5572 rows x 2 columns]"
            ],
            "text/html": [
              "\n",
              "  <div id=\"df-3081b89a-5ae2-4199-9045-b925059a1096\" class=\"colab-df-container\">\n",
              "    <div>\n",
              "<style scoped>\n",
              "    .dataframe tbody tr th:only-of-type {\n",
              "        vertical-align: middle;\n",
              "    }\n",
              "\n",
              "    .dataframe tbody tr th {\n",
              "        vertical-align: top;\n",
              "    }\n",
              "\n",
              "    .dataframe thead th {\n",
              "        text-align: right;\n",
              "    }\n",
              "</style>\n",
              "<table border=\"1\" class=\"dataframe\">\n",
              "  <thead>\n",
              "    <tr style=\"text-align: right;\">\n",
              "      <th></th>\n",
              "      <th>label</th>\n",
              "      <th>message</th>\n",
              "    </tr>\n",
              "  </thead>\n",
              "  <tbody>\n",
              "    <tr>\n",
              "      <th>0</th>\n",
              "      <td>0</td>\n",
              "      <td>Go until jurong point, crazy.. Available only ...</td>\n",
              "    </tr>\n",
              "    <tr>\n",
              "      <th>1</th>\n",
              "      <td>0</td>\n",
              "      <td>Ok lar... Joking wif u oni...</td>\n",
              "    </tr>\n",
              "    <tr>\n",
              "      <th>2</th>\n",
              "      <td>1</td>\n",
              "      <td>Free entry in 2 a wkly comp to win FA Cup fina...</td>\n",
              "    </tr>\n",
              "    <tr>\n",
              "      <th>3</th>\n",
              "      <td>0</td>\n",
              "      <td>U dun say so early hor... U c already then say...</td>\n",
              "    </tr>\n",
              "    <tr>\n",
              "      <th>4</th>\n",
              "      <td>0</td>\n",
              "      <td>Nah I don't think he goes to usf, he lives aro...</td>\n",
              "    </tr>\n",
              "    <tr>\n",
              "      <th>...</th>\n",
              "      <td>...</td>\n",
              "      <td>...</td>\n",
              "    </tr>\n",
              "    <tr>\n",
              "      <th>5567</th>\n",
              "      <td>1</td>\n",
              "      <td>This is the 2nd time we have tried 2 contact u...</td>\n",
              "    </tr>\n",
              "    <tr>\n",
              "      <th>5568</th>\n",
              "      <td>0</td>\n",
              "      <td>Will ü b going to esplanade fr home?</td>\n",
              "    </tr>\n",
              "    <tr>\n",
              "      <th>5569</th>\n",
              "      <td>0</td>\n",
              "      <td>Pity, * was in mood for that. So...any other s...</td>\n",
              "    </tr>\n",
              "    <tr>\n",
              "      <th>5570</th>\n",
              "      <td>0</td>\n",
              "      <td>The guy did some bitching but I acted like i'd...</td>\n",
              "    </tr>\n",
              "    <tr>\n",
              "      <th>5571</th>\n",
              "      <td>0</td>\n",
              "      <td>Rofl. Its true to its name</td>\n",
              "    </tr>\n",
              "  </tbody>\n",
              "</table>\n",
              "<p>5572 rows × 2 columns</p>\n",
              "</div>\n",
              "    <div class=\"colab-df-buttons\">\n",
              "\n",
              "  <div class=\"colab-df-container\">\n",
              "    <button class=\"colab-df-convert\" onclick=\"convertToInteractive('df-3081b89a-5ae2-4199-9045-b925059a1096')\"\n",
              "            title=\"Convert this dataframe to an interactive table.\"\n",
              "            style=\"display:none;\">\n",
              "\n",
              "  <svg xmlns=\"http://www.w3.org/2000/svg\" height=\"24px\" viewBox=\"0 -960 960 960\">\n",
              "    <path d=\"M120-120v-720h720v720H120Zm60-500h600v-160H180v160Zm220 220h160v-160H400v160Zm0 220h160v-160H400v160ZM180-400h160v-160H180v160Zm440 0h160v-160H620v160ZM180-180h160v-160H180v160Zm440 0h160v-160H620v160Z\"/>\n",
              "  </svg>\n",
              "    </button>\n",
              "\n",
              "  <style>\n",
              "    .colab-df-container {\n",
              "      display:flex;\n",
              "      gap: 12px;\n",
              "    }\n",
              "\n",
              "    .colab-df-convert {\n",
              "      background-color: #E8F0FE;\n",
              "      border: none;\n",
              "      border-radius: 50%;\n",
              "      cursor: pointer;\n",
              "      display: none;\n",
              "      fill: #1967D2;\n",
              "      height: 32px;\n",
              "      padding: 0 0 0 0;\n",
              "      width: 32px;\n",
              "    }\n",
              "\n",
              "    .colab-df-convert:hover {\n",
              "      background-color: #E2EBFA;\n",
              "      box-shadow: 0px 1px 2px rgba(60, 64, 67, 0.3), 0px 1px 3px 1px rgba(60, 64, 67, 0.15);\n",
              "      fill: #174EA6;\n",
              "    }\n",
              "\n",
              "    .colab-df-buttons div {\n",
              "      margin-bottom: 4px;\n",
              "    }\n",
              "\n",
              "    [theme=dark] .colab-df-convert {\n",
              "      background-color: #3B4455;\n",
              "      fill: #D2E3FC;\n",
              "    }\n",
              "\n",
              "    [theme=dark] .colab-df-convert:hover {\n",
              "      background-color: #434B5C;\n",
              "      box-shadow: 0px 1px 3px 1px rgba(0, 0, 0, 0.15);\n",
              "      filter: drop-shadow(0px 1px 2px rgba(0, 0, 0, 0.3));\n",
              "      fill: #FFFFFF;\n",
              "    }\n",
              "  </style>\n",
              "\n",
              "    <script>\n",
              "      const buttonEl =\n",
              "        document.querySelector('#df-3081b89a-5ae2-4199-9045-b925059a1096 button.colab-df-convert');\n",
              "      buttonEl.style.display =\n",
              "        google.colab.kernel.accessAllowed ? 'block' : 'none';\n",
              "\n",
              "      async function convertToInteractive(key) {\n",
              "        const element = document.querySelector('#df-3081b89a-5ae2-4199-9045-b925059a1096');\n",
              "        const dataTable =\n",
              "          await google.colab.kernel.invokeFunction('convertToInteractive',\n",
              "                                                    [key], {});\n",
              "        if (!dataTable) return;\n",
              "\n",
              "        const docLinkHtml = 'Like what you see? Visit the ' +\n",
              "          '<a target=\"_blank\" href=https://colab.research.google.com/notebooks/data_table.ipynb>data table notebook</a>'\n",
              "          + ' to learn more about interactive tables.';\n",
              "        element.innerHTML = '';\n",
              "        dataTable['output_type'] = 'display_data';\n",
              "        await google.colab.output.renderOutput(dataTable, element);\n",
              "        const docLink = document.createElement('div');\n",
              "        docLink.innerHTML = docLinkHtml;\n",
              "        element.appendChild(docLink);\n",
              "      }\n",
              "    </script>\n",
              "  </div>\n",
              "\n",
              "\n",
              "<div id=\"df-0bf00212-8272-4ced-b3eb-17ead60d96c8\">\n",
              "  <button class=\"colab-df-quickchart\" onclick=\"quickchart('df-0bf00212-8272-4ced-b3eb-17ead60d96c8')\"\n",
              "            title=\"Suggest charts\"\n",
              "            style=\"display:none;\">\n",
              "\n",
              "<svg xmlns=\"http://www.w3.org/2000/svg\" height=\"24px\"viewBox=\"0 0 24 24\"\n",
              "     width=\"24px\">\n",
              "    <g>\n",
              "        <path d=\"M19 3H5c-1.1 0-2 .9-2 2v14c0 1.1.9 2 2 2h14c1.1 0 2-.9 2-2V5c0-1.1-.9-2-2-2zM9 17H7v-7h2v7zm4 0h-2V7h2v10zm4 0h-2v-4h2v4z\"/>\n",
              "    </g>\n",
              "</svg>\n",
              "  </button>\n",
              "\n",
              "<style>\n",
              "  .colab-df-quickchart {\n",
              "      --bg-color: #E8F0FE;\n",
              "      --fill-color: #1967D2;\n",
              "      --hover-bg-color: #E2EBFA;\n",
              "      --hover-fill-color: #174EA6;\n",
              "      --disabled-fill-color: #AAA;\n",
              "      --disabled-bg-color: #DDD;\n",
              "  }\n",
              "\n",
              "  [theme=dark] .colab-df-quickchart {\n",
              "      --bg-color: #3B4455;\n",
              "      --fill-color: #D2E3FC;\n",
              "      --hover-bg-color: #434B5C;\n",
              "      --hover-fill-color: #FFFFFF;\n",
              "      --disabled-bg-color: #3B4455;\n",
              "      --disabled-fill-color: #666;\n",
              "  }\n",
              "\n",
              "  .colab-df-quickchart {\n",
              "    background-color: var(--bg-color);\n",
              "    border: none;\n",
              "    border-radius: 50%;\n",
              "    cursor: pointer;\n",
              "    display: none;\n",
              "    fill: var(--fill-color);\n",
              "    height: 32px;\n",
              "    padding: 0;\n",
              "    width: 32px;\n",
              "  }\n",
              "\n",
              "  .colab-df-quickchart:hover {\n",
              "    background-color: var(--hover-bg-color);\n",
              "    box-shadow: 0 1px 2px rgba(60, 64, 67, 0.3), 0 1px 3px 1px rgba(60, 64, 67, 0.15);\n",
              "    fill: var(--button-hover-fill-color);\n",
              "  }\n",
              "\n",
              "  .colab-df-quickchart-complete:disabled,\n",
              "  .colab-df-quickchart-complete:disabled:hover {\n",
              "    background-color: var(--disabled-bg-color);\n",
              "    fill: var(--disabled-fill-color);\n",
              "    box-shadow: none;\n",
              "  }\n",
              "\n",
              "  .colab-df-spinner {\n",
              "    border: 2px solid var(--fill-color);\n",
              "    border-color: transparent;\n",
              "    border-bottom-color: var(--fill-color);\n",
              "    animation:\n",
              "      spin 1s steps(1) infinite;\n",
              "  }\n",
              "\n",
              "  @keyframes spin {\n",
              "    0% {\n",
              "      border-color: transparent;\n",
              "      border-bottom-color: var(--fill-color);\n",
              "      border-left-color: var(--fill-color);\n",
              "    }\n",
              "    20% {\n",
              "      border-color: transparent;\n",
              "      border-left-color: var(--fill-color);\n",
              "      border-top-color: var(--fill-color);\n",
              "    }\n",
              "    30% {\n",
              "      border-color: transparent;\n",
              "      border-left-color: var(--fill-color);\n",
              "      border-top-color: var(--fill-color);\n",
              "      border-right-color: var(--fill-color);\n",
              "    }\n",
              "    40% {\n",
              "      border-color: transparent;\n",
              "      border-right-color: var(--fill-color);\n",
              "      border-top-color: var(--fill-color);\n",
              "    }\n",
              "    60% {\n",
              "      border-color: transparent;\n",
              "      border-right-color: var(--fill-color);\n",
              "    }\n",
              "    80% {\n",
              "      border-color: transparent;\n",
              "      border-right-color: var(--fill-color);\n",
              "      border-bottom-color: var(--fill-color);\n",
              "    }\n",
              "    90% {\n",
              "      border-color: transparent;\n",
              "      border-bottom-color: var(--fill-color);\n",
              "    }\n",
              "  }\n",
              "</style>\n",
              "\n",
              "  <script>\n",
              "    async function quickchart(key) {\n",
              "      const quickchartButtonEl =\n",
              "        document.querySelector('#' + key + ' button');\n",
              "      quickchartButtonEl.disabled = true;  // To prevent multiple clicks.\n",
              "      quickchartButtonEl.classList.add('colab-df-spinner');\n",
              "      try {\n",
              "        const charts = await google.colab.kernel.invokeFunction(\n",
              "            'suggestCharts', [key], {});\n",
              "      } catch (error) {\n",
              "        console.error('Error during call to suggestCharts:', error);\n",
              "      }\n",
              "      quickchartButtonEl.classList.remove('colab-df-spinner');\n",
              "      quickchartButtonEl.classList.add('colab-df-quickchart-complete');\n",
              "    }\n",
              "    (() => {\n",
              "      let quickchartButtonEl =\n",
              "        document.querySelector('#df-0bf00212-8272-4ced-b3eb-17ead60d96c8 button');\n",
              "      quickchartButtonEl.style.display =\n",
              "        google.colab.kernel.accessAllowed ? 'block' : 'none';\n",
              "    })();\n",
              "  </script>\n",
              "</div>\n",
              "\n",
              "  <div id=\"id_785e2ea5-f7c5-4036-9a4d-3bdf90110409\">\n",
              "    <style>\n",
              "      .colab-df-generate {\n",
              "        background-color: #E8F0FE;\n",
              "        border: none;\n",
              "        border-radius: 50%;\n",
              "        cursor: pointer;\n",
              "        display: none;\n",
              "        fill: #1967D2;\n",
              "        height: 32px;\n",
              "        padding: 0 0 0 0;\n",
              "        width: 32px;\n",
              "      }\n",
              "\n",
              "      .colab-df-generate:hover {\n",
              "        background-color: #E2EBFA;\n",
              "        box-shadow: 0px 1px 2px rgba(60, 64, 67, 0.3), 0px 1px 3px 1px rgba(60, 64, 67, 0.15);\n",
              "        fill: #174EA6;\n",
              "      }\n",
              "\n",
              "      [theme=dark] .colab-df-generate {\n",
              "        background-color: #3B4455;\n",
              "        fill: #D2E3FC;\n",
              "      }\n",
              "\n",
              "      [theme=dark] .colab-df-generate:hover {\n",
              "        background-color: #434B5C;\n",
              "        box-shadow: 0px 1px 3px 1px rgba(0, 0, 0, 0.15);\n",
              "        filter: drop-shadow(0px 1px 2px rgba(0, 0, 0, 0.3));\n",
              "        fill: #FFFFFF;\n",
              "      }\n",
              "    </style>\n",
              "    <button class=\"colab-df-generate\" onclick=\"generateWithVariable('data')\"\n",
              "            title=\"Generate code using this dataframe.\"\n",
              "            style=\"display:none;\">\n",
              "\n",
              "  <svg xmlns=\"http://www.w3.org/2000/svg\" height=\"24px\"viewBox=\"0 0 24 24\"\n",
              "       width=\"24px\">\n",
              "    <path d=\"M7,19H8.4L18.45,9,17,7.55,7,17.6ZM5,21V16.75L18.45,3.32a2,2,0,0,1,2.83,0l1.4,1.43a1.91,1.91,0,0,1,.58,1.4,1.91,1.91,0,0,1-.58,1.4L9.25,21ZM18.45,9,17,7.55Zm-12,3A5.31,5.31,0,0,0,4.9,8.1,5.31,5.31,0,0,0,1,6.5,5.31,5.31,0,0,0,4.9,4.9,5.31,5.31,0,0,0,6.5,1,5.31,5.31,0,0,0,8.1,4.9,5.31,5.31,0,0,0,12,6.5,5.46,5.46,0,0,0,6.5,12Z\"/>\n",
              "  </svg>\n",
              "    </button>\n",
              "    <script>\n",
              "      (() => {\n",
              "      const buttonEl =\n",
              "        document.querySelector('#id_785e2ea5-f7c5-4036-9a4d-3bdf90110409 button.colab-df-generate');\n",
              "      buttonEl.style.display =\n",
              "        google.colab.kernel.accessAllowed ? 'block' : 'none';\n",
              "\n",
              "      buttonEl.onclick = () => {\n",
              "        google.colab.notebook.generateWithVariable('data');\n",
              "      }\n",
              "      })();\n",
              "    </script>\n",
              "  </div>\n",
              "\n",
              "    </div>\n",
              "  </div>\n"
            ],
            "application/vnd.google.colaboratory.intrinsic+json": {
              "type": "dataframe",
              "variable_name": "data",
              "summary": "{\n  \"name\": \"data\",\n  \"rows\": 5572,\n  \"fields\": [\n    {\n      \"column\": \"label\",\n      \"properties\": {\n        \"dtype\": \"number\",\n        \"std\": 0,\n        \"min\": 0,\n        \"max\": 1,\n        \"num_unique_values\": 2,\n        \"samples\": [\n          1,\n          0\n        ],\n        \"semantic_type\": \"\",\n        \"description\": \"\"\n      }\n    },\n    {\n      \"column\": \"message\",\n      \"properties\": {\n        \"dtype\": \"string\",\n        \"num_unique_values\": 5169,\n        \"samples\": [\n          \"K, makes sense, btw carlos is being difficult so you guys are gonna smoke while I go pick up the second batch and get gas\",\n          \"URGENT! Your mobile No *********** WON a \\u00a32,000 Bonus Caller Prize on 02/06/03! This is the 2nd attempt to reach YOU! Call 09066362220 ASAP! BOX97N7QP, 150ppm\"\n        ],\n        \"semantic_type\": \"\",\n        \"description\": \"\"\n      }\n    }\n  ]\n}"
            }
          },
          "metadata": {},
          "execution_count": 15
        }
      ]
    },
    {
      "cell_type": "code",
      "source": [
        "from sklearn.feature_extraction.text import CountVectorizer"
      ],
      "metadata": {
        "id": "q0_B5UuOKOaZ"
      },
      "execution_count": null,
      "outputs": []
    },
    {
      "cell_type": "code",
      "source": [
        "vectorizer = CountVectorizer(stop_words='english' )"
      ],
      "metadata": {
        "id": "YPF5UkRqKWbg"
      },
      "execution_count": null,
      "outputs": []
    },
    {
      "cell_type": "code",
      "source": [
        "x= vectorizer.fit_transform(data['message'])"
      ],
      "metadata": {
        "id": "DVSUY0QWKWXq"
      },
      "execution_count": null,
      "outputs": []
    },
    {
      "cell_type": "code",
      "source": [
        "x_array = x.toarray()"
      ],
      "metadata": {
        "id": "BAatbFxWKWVo"
      },
      "execution_count": null,
      "outputs": []
    },
    {
      "cell_type": "code",
      "source": [
        "feature_names = vectorizer.get_feature_names_out()"
      ],
      "metadata": {
        "id": "8k5-0hALLKXW"
      },
      "execution_count": null,
      "outputs": []
    },
    {
      "cell_type": "code",
      "source": [
        "# Create a DataFrame"
      ],
      "metadata": {
        "id": "pmo0e2-tLKVB"
      },
      "execution_count": null,
      "outputs": []
    },
    {
      "cell_type": "code",
      "source": [
        "x_df = pd.DataFrame(x_array, columns=vectorizer.get_feature_names_out())\n"
      ],
      "metadata": {
        "id": "J71J9W53MpKq"
      },
      "execution_count": null,
      "outputs": []
    },
    {
      "cell_type": "code",
      "source": [
        "x_df.columns = range(x_df.shape[1])"
      ],
      "metadata": {
        "id": "NHthNPnjMpJF"
      },
      "execution_count": null,
      "outputs": []
    },
    {
      "cell_type": "code",
      "source": [
        "print(\"Vocabulary Mapping:\", vectorizer.vocabulary_)"
      ],
      "metadata": {
        "colab": {
          "base_uri": "https://localhost:8080/"
        },
        "id": "qNdtMtfCYBwy",
        "outputId": "98647624-6997-47e3-a7cf-8bd4630713df"
      },
      "execution_count": null,
      "outputs": [
        {
          "output_type": "stream",
          "name": "stdout",
          "text": [
            "Vocabulary Mapping: {'jurong': 4248, 'point': 5779, 'crazy': 2282, 'available': 1284, 'bugis': 1719, 'great': 3555, 'world': 8285, 'la': 4374, 'buffet': 1717, 'cine': 2007, 'got': 3515, 'amore': 1064, 'wat': 8083, 'ok': 5377, 'lar': 4410, 'joking': 4216, 'wif': 8191, 'oni': 5403, 'free': 3280, 'entry': 2889, 'wkly': 8243, 'comp': 2123, 'win': 8203, 'fa': 3018, 'cup': 2341, 'final': 3135, 'tkts': 7569, '21st': 412, '2005': 403, 'text': 7437, '87121': 794, 'receive': 6158, 'question': 6052, 'std': 7077, 'txt': 7754, 'rate': 6104, 'apply': 1141, '08452810075over18': 77, 'dun': 2751, 'say': 6496, 'early': 2770, 'hor': 3840, 'nah': 5124, 'don': 2663, 'think': 7492, 'goes': 3479, 'usf': 7892, 'lives': 4562, 'freemsg': 3287, 'hey': 3757, 'darling': 2398, 'week': 8129, 'word': 8276, 'like': 4512, 'fun': 3342, 'tb': 7372, 'xxx': 8350, 'chgs': 1961, 'send': 6584, '50': 616, 'rcv': 6116, 'brother': 1689, 'speak': 6959, 'treat': 7687, 'aids': 997, 'patent': 5582, 'request': 6267, 'melle': 4862, 'oru': 5461, 'minnaminunginte': 4927, 'nurungu': 5315, 'vettam': 7949, 'set': 6610, 'callertune': 1787, 'callers': 1786, 'press': 5902, 'copy': 2224, 'friends': 3304, 'winner': 8214, 'valued': 7919, 'network': 5201, 'customer': 2354, 'selected': 6570, 'receivea': 6159, '900': 826, 'prize': 5934, 'reward': 6322, 'claim': 2013, '09061701461': 224, 'code': 2078, 'kl341': 4337, 'valid': 7915, '12': 323, 'hours': 3860, 'mobile': 4981, '11': 312, 'months': 5021, 'entitled': 2886, 'update': 7855, 'latest': 4423, 'colour': 2099, 'mobiles': 4982, 'camera': 1798, '08002986030': 61, 'gonna': 3495, 'home': 3813, 'soon': 6914, 'want': 8063, 'talk': 7339, 'stuff': 7166, 'anymore': 1112, 'tonight': 7618, 've': 7934, 'cried': 2299, 'today': 7588, 'chances': 1902, 'cash': 1848, '100': 298, '20': 398, '000': 1, 'pounds': 5842, 'csh11': 2317, '87575': 799, 'cost': 2236, '150p': 352, 'day': 2414, '6days': 690, '16': 364, 'tsandcs': 7721, 'reply': 6260, 'hl': 3785, 'info': 4029, 'urgent': 7872, 'won': 8260, 'membership': 4868, 'jackpot': 4144, '81010': 747, 'www': 8332, 'dbuk': 2419, 'net': 5195, 'lccltd': 4441, 'pobox': 5758, '4403ldnw1a7rw18': 565, 'searching': 6543, 'right': 6334, 'words': 8277, 'thank': 7453, 'breather': 1658, 'promise': 5967, 'wont': 8267, 'help': 3737, 'granted': 3544, 'fulfil': 3339, 'wonderful': 8264, 'blessing': 1536, 'times': 7547, 'date': 2406, 'sunday': 7233, 'xxxmobilemovieclub': 8351, 'use': 7886, 'credit': 2289, 'click': 2036, 'wap': 8068, 'link': 4534, 'message': 4886, 'http': 3880, 'com': 2102, 'qjkgighjjgcbl': 6044, 'oh': 5372, 'watching': 8088, 'eh': 2816, 'remember': 6227, 'spell': 6974, 'yes': 8387, 'did': 2546, 'naughty': 5156, 'make': 4746, 'wet': 8164, 'fine': 3142, 'way': 8100, 'feel': 3089, 'gota': 3516, 'england': 2868, 'macedonia': 4709, 'dont': 2666, 'miss': 4943, 'goals': 3475, 'team': 7384, 'news': 5214, 'ur': 7868, 'national': 5150, '87077': 793, 'try': 7717, 'wales': 8043, 'scotland': 6522, '4txt': 608, 'ú1': 8442, 'poboxox36504w45wq': 5770, 'seriously': 6603, 'going': 3484, 'ha': 3617, 'pay': 5594, 'da': 2371, 'stock': 7102, 'comin': 2113, 'aft': 971, 'finish': 3145, 'lunch': 4675, 'str': 7127, 'lor': 4617, 'ard': 1167, 'smth': 6862, 'ffffffffff': 3108, 'alright': 1043, 'meet': 4851, 'sooner': 6915, 'just': 4250, 'forced': 3234, 'eat': 2782, 'slice': 6814, 'really': 6140, 'hungry': 3899, 'tho': 7507, 'sucks': 7202, 'mark': 4782, 'getting': 3433, 'worried': 8288, 'knows': 4348, 'sick': 6735, 'turn': 7740, 'pizza': 5714, 'lol': 4594, 'convincing': 2212, 'catch': 1858, 'bus': 1739, 'frying': 3327, 'egg': 2813, 'tea': 7378, 'eating': 2785, 'mom': 5002, 'left': 4464, 'dinner': 2577, 'love': 4639, 'amp': 1065, 'packing': 5514, 'car': 1820, 'll': 4566, 'let': 4484, 'know': 4345, 'room': 6375, 'ahhh': 992, 'work': 8278, 'vaguely': 7911, 'does': 2639, 'wait': 8037, 'clear': 2030, 'sure': 7259, 'sarcastic': 6474, 'doesn': 2641, 'live': 4558, 'yeah': 8375, 'apologetic': 1128, 'fallen': 3043, 'actin': 912, 'spoilt': 7001, 'child': 1969, 'caught': 1862, 'till': 7544, 'doing': 2653, 'badly': 1335, 'cheers': 1945, 'tell': 7402, 'fear': 3081, 'fainting': 3035, 'housework': 3864, 'quick': 6055, 'cuppa': 2343, 'thanks': 7454, 'subscription': 7191, 'ringtone': 6343, 'uk': 7784, 'charged': 1914, 'month': 5018, 'confirm': 2167, 'replying': 6261, 'yup': 8426, 'look': 4605, 'timings': 7551, 'msg': 5057, 'xuhui': 8346, 'learn': 4455, '2nd': 466, 'lesson': 4482, '8am': 819, 'oops': 5416, 'roommate': 6377, 'letter': 4486, 'decide': 2436, 'hello': 3734, 'saturday': 6487, 'texting': 7445, 'decided': 2437, 'tomo': 7607, 'trying': 7719, 'invite': 4085, 'pls': 5746, 'ahead': 991, 'watts': 8096, 'wanted': 8065, 'weekend': 8131, 'abiola': 866, 'forget': 3240, 'need': 5176, 'crave': 2279, 'sweet': 7290, 'arabian': 1164, 'steed': 7084, 'mmmmmm': 4971, 'yummy': 8421, '07732584351': 30, 'rodger': 6365, 'burns': 1736, 'tried': 7696, 'sms': 6857, 'nokia': 5258, 'camcorder': 1796, '08000930705': 57, 'delivery': 2476, 'tomorrow': 7609, 'seeing': 6561, 'hope': 3831, 'man': 4756, 'endowed': 2858, 'lt': 4663, 'gt': 3584, 'inches': 3999, 'calls': 1792, 'messages': 4888, 'missed': 4945, 'didn': 2548, 'hep': 3748, 'immunisation': 3980, 'nigeria': 5227, 'fair': 3036, 'hopefully': 3834, 'tyler': 7767, 'maybe': 4827, 'ask': 1216, 'bit': 1513, 'stubborn': 7155, 'hospital': 3847, 'kept': 4294, 'telling': 7403, 'weak': 8105, 'sucker': 7200, 'hospitals': 3848, 'suckers': 7201, 'thinked': 7493, 'time': 7546, 'saw': 6495, 'class': 2022, 'gram': 3536, 'usually': 7898, 'runs': 6418, 'half': 3632, 'eighth': 2818, 'smarter': 6837, 'gets': 3429, 'second': 6547, 'fyi': 3357, 'ride': 6333, 'morning': 5028, 'crashing': 2278, 'place': 5716, 'wow': 8303, 'realized': 6138, 'embarassed': 2839, 'accomodations': 895, 'thought': 7510, 'liked': 4513, 'best': 1470, 'happy': 3667, 'cave': 1866, 'sorry': 6924, 'offered': 5359, 'embarassing': 2840, 'ac': 881, 'sptv': 7023, 'new': 5209, 'jersey': 4186, 'devils': 2526, 'detroit': 2520, 'red': 6181, 'wings': 8212, 'play': 5730, 'ice': 3933, 'hockey': 3798, 'correct': 2229, 'incorrect': 4010, 'end': 2853, 'mallika': 4755, 'sherawat': 6660, 'yesterday': 8389, 'url': 7879, 'congrats': 2173, 'year': 8376, 'special': 6961, 'cinema': 2008, 'pass': 5571, '09061209465': 219, 'suprman': 7257, 'matrix3': 4815, 'starwars3': 7065, 'bx420': 1760, 'ip4': 4094, '5we': 651, '150pm': 354, 'later': 4422, 'meeting': 4853, 'reached': 6122, 'gauti': 3391, 'sehwag': 6567, 'odi': 5352, 'series': 6602, 'pick': 5686, 'burger': 1731, 'pain': 5521, 'killing': 4319, 'good': 3497, 'joke': 4212, 'girls': 3451, 'situation': 6781, 'seekers': 6562, 'checking': 1939, 'iq': 4100, 'roommates': 6378, 'took': 7623, 'forever': 3237, 'come': 2108, 'double': 2681, 'check': 1935, 'hair': 3627, 'dresser': 2710, 'said': 6444, 'wun': 8331, 'cut': 2358, 'short': 6696, 'nice': 5221, 'pleased': 5739, 'advise': 954, 'following': 3215, 'recent': 6162, 'review': 6320, 'mob': 4979, 'awarded': 1301, '1500': 351, 'bonus': 1577, '09066364589': 267, 'song': 6909, 'dedicated': 2447, 'dedicate': 2446, 'valuable': 7917, 'frnds': 3313, 'rply': 6394, 'complimentary': 2142, 'trip': 7697, 'eurodisinc': 2931, 'trav': 7679, 'aco': 909, 'entry41': 2890, '1000': 299, 'dis': 2589, '18': 369, 'morefrmmob': 5025, 'shracomorsglsuplt': 6719, '10': 297, 'ls1': 4659, '3aj': 524, 'hear': 3712, 'divorce': 2618, 'barbie': 1366, 'comes': 2110, 'ken': 4292, 'plane': 5722, 'wah': 8030, 'lucky': 4669, 'save': 6491, 'money': 5009, 'hee': 3725, 'finished': 3147, 'hi': 3761, 'babe': 1322, 'im': 3968, 'wanna': 8061, 'xx': 8347, 'performed': 5631, 'waiting': 8040, 'machan': 4711, 'thats': 7464, 'cool': 2217, 'gentleman': 3417, 'dignity': 2567, 'respect': 6287, 'peoples': 5624, 'shy': 6730, 'pa': 5510, 'operate': 5423, 'looking': 4609, 'job': 4201, 'ta': 7317, 'earn': 2771, 'ah': 989, 'stop': 7112, 'urgnt': 7875, 'real': 6131, 'yo': 8398, 'tickets': 7534, 'jacket': 4143, 'used': 7887, 'multis': 5083, 'started': 7060, 'requests': 6268, 'came': 1797, 'bed': 1431, 'coins': 2084, 'factory': 3025, 'gotta': 3521, 'nitros': 5245, 'ela': 2822, 'kano': 4274, 'il': 3962, 'download': 2688, 'wen': 8148, 'stand': 7048, 'close': 2043, 'night': 5229, 'spent': 6979, 'late': 4419, 'afternoon': 973, 'casualty': 1856, 'means': 4840, 'haven': 3692, 'stuff42moro': 7167, 'includes': 4003, 'sheets': 6655, 'smile': 6845, 'pleasure': 5741, 'trouble': 7704, 'pours': 5844, 'rain': 6078, 'sum1': 7224, 'hurts': 3909, 'becoz': 1429, 'loves': 4647, 'smiling': 6849, 'service': 6606, 'representative': 6265, '0800': 53, '169': 367, '6031': 657, '10am': 307, '9pm': 846, 'guaranteed': 3588, '5000': 618, 'havent': 3693, 'planning': 5726, 'buy': 1750, 'lido': 4497, '530': 637, 'collected': 2093, 'simply': 6756, 'password': 5578, 'mix': 4961, '85069': 780, 'verify': 7945, 'usher': 7893, 'britney': 1679, 'fml': 3206, 'po': 5756, 'box': 1609, '5249': 634, 'mk17': 4964, '92h': 831, '450ppw': 575, 'telugu': 7408, 'movie': 5046, 'abt': 876, 'loads': 4573, 'loans': 4575, 'wk': 8239, 'hols': 3811, 'run': 6416, 'forgot': 3245, 'hairdressers': 3629, 'appointment': 1144, 'shower': 6712, 'cause': 1863, 'prob': 5939, 'coffee': 2079, 'animation': 1085, 'okay': 5378, 'price': 5915, 'long': 4601, 'legal': 4467, 'ave': 1288, 'ams': 1069, 'gone': 3493, '4the': 606, 'driving': 2719, 'test': 7431, 'mean': 4836, 'guess': 3594, 'gave': 3392, 'boston': 1598, 'men': 4872, 'changed': 1904, 'search': 6542, 'location': 4578, 'nyc': 5326, 'cuz': 2365, 'signin': 6744, 'page': 5517, 'says': 6500, 'umma': 7791, 'life': 4500, 'vava': 7931, 'lot': 4625, 'dear': 2426, 'wishes': 8226, 'birthday': 1511, 'making': 4750, 'truly': 7712, 'memorable': 4869, 'aight': 999, 'hit': 3778, 'ip': 4093, 'address': 930, 'considering': 2185, 'computer': 2148, 'isn': 4117, 'minecraft': 4921, 'server': 6605, 'grumpy': 3581, 'old': 5390, 'people': 5623, 'better': 1476, 'lying': 4689, 'jokes': 4214, 'worry': 8290, 'busy': 1745, 'plural': 5750, 'noun': 5294, 'research': 6273, 'cos': 2234, 'things': 7491, 'scared': 6506, 'mah': 4733, 'loud': 4634, 'gent': 3415, 'contact': 2190, 'weekends': 8132, 'draw': 2702, 'shows': 6718, '09064012160': 243, 'k52': 4257, '12hrs': 334, '150ppm': 356, 'wa': 8025, 'openin': 5420, 'sentence': 6595, 'formal': 3249, 'juz': 4256, 'tt': 7727, 'eatin': 2784, 'puttin': 6034, 'weight': 8137, 'haha': 3623, 'anythin': 1116, 'happened': 3659, 'entered': 2879, 'cabin': 1766, 'boss': 1597, 'felt': 3099, 'askd': 1217, 'invited': 4086, 'apartment': 1122, 'went': 8151, 'specially': 6965, 'holiday': 3808, 'flights': 3182, 'operator': 5424, '0871277810910p': 129, 'min': 4915, 'goodo': 3506, 'friday': 3299, 'potato': 5836, 'ratio': 6106, 'tortilla': 7639, 'needed': 5178, 'hmm': 3790, 'uncle': 7799, 'informed': 4032, 'paying': 5600, 'school': 6512, 'directly': 2583, 'food': 3223, 'private': 5931, '2004': 402, 'account': 898, 'statement': 7068, '07742676969': 32, '786': 719, 'unredeemed': 7842, 'points': 5780, '08719180248': 175, 'identifier': 3945, '45239': 577, 'expires': 2997, '2000': 400, 'caller': 1785, '03': 15, 'landline': 4397, '09064019788': 249, 'box42wr29c': 1621, 'apples': 1139, 'pairs': 5525, 'malarky': 4752, 'todays': 7589, 'voda': 7994, 'numbers': 5312, 'ending': 2855, '7548': 711, '350': 512, 'award': 1300, 'match': 4803, '08712300220': 111, 'quoting': 6066, '4041': 549, 'standard': 7049, 'rates': 6105, 'app': 1132, 'sao': 6468, 'mu': 5073, 'predict': 5876, 'buying': 1753, 'yetunde': 8391, 'hasn': 3679, 'sent': 6594, 'bother': 1600, 'sending': 6586, 'involve': 4090, 'shouldn': 6706, 'imposed': 3987, 'apologise': 1129, 'girl': 3448, 'del': 2466, 'bak': 1343, 'sum': 7223, 'lucyxx': 4672, 'tmorrow': 7575, 'accomodate': 894, 'answer': 1100, 'sunshine': 7240, 'quiz': 6062, 'sony': 6911, 'dvd': 2760, 'player': 5732, 'country': 2251, 'algarve': 1027, 'ansr': 1099, '82277': 754, 'sp': 6946, 'tyrone': 7771, 'laid': 4389, 'dogging': 2647, 'locations': 4579, 'direct': 2582, 'join': 4209, 'largest': 4414, 'bt': 1705, 'txting': 7760, 'gravel': 3549, '69888': 685, 'nt': 5302, 'ec2a': 2787, '31p': 504, 'haf': 3622, 'msn': 5064, 'yijue': 8395, 'hotmail': 3855, 'rooms': 6379, 'befor': 1442, 'activities': 918, 'msgs': 5063, 'chat': 1925, 'svc': 7275, 'hardcore': 3669, 'services': 6607, '69988': 689, 'age': 978, 'yr': 8416, 'lazy': 4440, 'type': 7768, 'lect': 4461, 'pouch': 5839, 'sir': 6770, 'mail': 4738, 'swt': 7304, 'nver': 5320, 'tired': 7555, 'little': 4557, 'lovable': 4638, 'persons': 5648, 'coz': 2264, 'somtimes': 6906, 'occupy': 5345, 'biggest': 1494, 'hearts': 3718, 'gud': 3590, 'ni8': 5219, 'open': 5417, 'ya': 8360, 'dot': 2680, 'whats': 8168, 'staff': 7040, 'taking': 7336, 'replied': 6258, 'randy': 6098, 'sexy': 6622, 'female': 3100, 'local': 4577, 'luv': 4680, 'netcollex': 5196, '08700621170150p': 81, 'ummma': 7793, 'begin': 1446, 'qatar': 6039, 'pray': 5871, 'hard': 3668, 'deleted': 2470, 'sindu': 6760, 'birla': 1507, 'soft': 6883, 'wine': 8210, 'flowing': 3197, 'nevering': 5206, 'thk': 7501, 'plaza': 5737, 'typical': 7770, 'dirt': 2586, 'floor': 3191, 'windows': 8207, 'shirt': 6675, 'mouth': 5043, 'dream': 2705, 'chores': 1996, 'joy': 4227, 'lots': 4627, 'tv': 7745, 'exist': 2982, 'hail': 3626, 'mist': 4953, 'aaooooright': 856, 'leaving': 4460, 'house': 3861, 'interview': 4073, 'boy': 1626, 'missing': 4947, 'annoncement': 1091, 'years': 8377, '07046744435': 24, 'arrange': 1193, '0871277810810': 128, 'safe': 6439, 'envy': 2895, 'parents': 5554, 'hand': 3641, 'excited': 2970, 'spend': 6977, 'bootydelious': 1590, '32': 505, 'inviting': 4087, 'friend': 3303, '434': 562, 'frnd': 3312, '62468': 665, 'bangbabes': 1357, 'order': 5445, 'content': 2194, 'goto': 3520, 'bangb': 1356, 'internet': 4072, 'menu': 4879, 'cultures': 2337, 'module': 4995, '09061701939': 226, 's89': 6429, 'avoid': 1294, 'missunderstding': 4951, 'wit': 8231, 'beloved': 1461, 'escape': 2916, 'fancy': 3054, 'bridge': 1664, 'needs': 5181, 'lager': 4388, 'completely': 2138, 'form': 3248, 'clark': 2019, 'utter': 7900, 'waste': 8080, 'axis': 1309, 'bank': 1359, 'hmmm': 3791, 'hop': 3830, 'muz': 5107, 'discuss': 2602, 'liao': 4491, 'coming': 2114, 'bloody': 1550, 'hell': 3732, 'believe': 1452, 'surname': 7265, 'mr': 5052, 'ill': 3964, 'clue': 2059, 'spanish': 6953, 'begins': 1447, 'bath': 1390, 'carlos': 1837, 'mall': 4754, 'turns': 7743, 'staying': 7075, 'til': 7543, 'smoke': 6851, 'worth': 8294, 'doesnt': 2642, 'log': 4585, 'spoke': 7002, 'maneesha': 4766, 'satisfied': 6483, 'experience': 2992, 'toll': 7602, 'lifted': 4506, 'hopes': 3836, 'offer': 5358, 'especially': 2920, 'approaches': 1148, 'studying': 7164, 'anyways': 1119, 'gr8': 3529, 'trust': 7714, 'guys': 3610, 'bye': 1763, 'handsome': 3647, 'finding': 3140, 'working': 8282, 'mummy': 5087, 'boytoy': 1631, 'awesome': 1303, 'minute': 4932, 'freephone': 3288, '0808': 65, '145': 344, '4742': 581, '9am': 844, '11pm': 322, 'xmas': 8343, 'radio': 6071, 'jus': 4249, 'bathe': 1391, 'sis': 6772, 'using': 7894, 'finishes': 3148, 'unique': 7827, '30th': 500, 'august': 1270, 'areyouunique': 1173, 'joined': 4210, 'league': 4453, 'touch': 7648, 'deal': 2422, 'personal': 5645, 'finally': 3137, 'completed': 2137, 'course': 2257, 'suggest': 7215, 'stays': 7076, 'able': 868, 'ors': 5459, 'stool': 7111, 'settled': 6614, 'wishin': 8227, 'mrng': 5054, 'hav': 3687, 'story': 7126, 'hamster': 3640, 'dead': 2421, 'tmr': 7576, '1pm': 386, 'orchard': 5444, 'mrt': 5055, 'kate': 4279, 'evening': 2937, 'babyjontet': 1327, 'enc': 2852, 'bucks': 1710, 'darlin': 2397, 'ive': 4133, 'college': 2097, 'refilled': 6191, 'successfully': 7199, 'inr': 4047, 'decimal': 2439, 'keralacircle': 4296, 'prepaid': 5887, 'balance': 1346, 'rs': 6396, 'transaction': 7669, 'id': 3939, 'kr': 4362, 'goodmorning': 3502, 'sleeping': 6808, 'ga': 3360, 'alter': 1045, 'dat': 2404, 'ericsson': 2903, 'oso': 5464, 'oredi': 5449, 'dats': 2410, 'straight': 7129, 'dogg': 2645, 'connection': 2178, 'refund': 6196, 'shoot': 6690, 'big': 1492, 'ready': 6130, 'bruv': 1700, 'break': 1649, 'rewarding': 6323, 'semester': 6580, 'study': 7163, 'noe': 5252, 'leh': 4470, 'sounds': 6936, 'heading': 3704, 'prediction': 5879, 'slept': 6813, 'past': 5580, 'nights': 5232, 'easy': 2781, 'sen': 6583, 'exam': 2966, 'march': 4777, 'atm': 1248, 'register': 6204, 'os': 5462, 'called': 1784, 'ubandu': 7775, 'installing': 4056, 'disk': 2605, 'important': 3985, 'files': 3126, 'repair': 6250, 'shop': 6691, 'happen': 3657, 'romantic': 6372, 'nite': 5243, 'scenery': 6509, '500': 617, '89545': 815, 'collect': 2092, 'tc': 7374, 'biz': 1519, '2optout': 470, '087187262701': 161, '50gbp': 622, 'mtmsg18': 5070, 'appreciate': 1146, 'partner': 5565, 'career': 1828, 'flyng': 3204, 'start': 7059, 'horo': 3843, 'followed': 3213, 'star': 7053, 'sign': 6740, 'aries': 1180, 'company': 2126, 'elama': 2826, 'mudyadhu': 5077, 'strict': 7141, 'teacher': 7380, 'bcoz': 1412, 'teaches': 7382, 'conducts': 2162, 'lessons': 4483, 'gandhipuram': 3374, 'walk': 8045, 'cross': 2303, 'road': 6355, 'street': 7134, 'rubber': 6404, 'battery': 1396, 'died': 2552, 'flirt': 3186, '10p': 309, 'sam': 6456, '25': 423, 'recd': 6155, 'thirtyeight': 7499, 'pence': 5618, 'printed': 5924, 'upstairs': 7865, 'closer': 2046, 'wil': 8197, 'reach': 6120, 'theory': 7478, 'argument': 1178, 'wins': 8217, 'loses': 4621, 'person': 5643, 'argue': 1176, 'kick': 4308, '447801259231': 568, 'secret': 6550, 'admirer': 937, 'reveal': 6316, 'thinks': 7496, '09058094597': 209, 'tomarrow': 7604, 'hearing': 3715, 'laptop': 4409, 'case': 1847, 'pleassssssseeeeee': 5740, 'tel': 7397, 'avent': 1290, 'sportsx': 7012, 'shining': 6670, 'meant': 4841, 'signing': 6745, 'told': 7598, 'baig': 1340, 'face': 3021, 'watches': 8086, 'watch': 8084, 'fr': 3267, 'thanx': 7459, 'touched': 7649, 'commercial': 2118, 'website': 8119, 'slippers': 6820, 'asked': 1218, 'kallis': 4268, 'bat': 1387, 'innings': 4042, 'didnt': 2549, 'goodnight': 3503, 'fix': 3163, 'wake': 8041, 'dearly': 2429, 'sleep': 6806, 'congratulations': 2175, 'cd': 1872, 'vouchers': 8008, '125gift': 331, 'music': 5099, '87066': 791, 'tncs': 7581, 'ldew': 4443, 'com1win150ppmx3age16': 2103, 'ranjith': 6101, 'cal': 1772, 'drpd': 2726, 'deeraj': 2453, 'deepak': 2450, '5min': 645, 'hold': 3804, 'bcums': 1415, 'angry': 1083, 'wid': 8189, 'dnt': 2627, 'childish': 1970, 'true': 7709, 'showing': 6715, 'deep': 2449, 'affection': 962, 'care': 1825, 'kettoda': 4298, 'manda': 4762, 'ups': 7863, '3days': 526, 'shipping': 6674, 'takes': 7334, '2wks': 482, 'usps': 7896, 'lag': 4386, 'bribe': 1662, 'nipost': 5241, 'lemme': 4473, 'necessarily': 5170, 'expect': 2987, 'headin': 3703, 'mmm': 4968, 'jolt': 4218, 'suzy': 7274, 'lover': 4644, 'video': 7958, 'handset': 3646, '750': 710, 'anytime': 1118, 'networks': 5203, 'mins': 4929, 'unlimited': 7837, 'parked': 5558, 'mini': 4922, 'shopping': 6693, 'disturb': 2612, 'luton': 4679, '0125698789': 8, 'ring': 6340, 'horny': 3842, 'naked': 5127, 'hot': 3852, '69698': 681, 'unsubscribe': 7847, 'dint': 2579, 'wana': 8060, 'plan': 5721, 'sometme': 6901, 'credits': 2291, 'club4mobiles': 2055, 'choose': 1992, 'club': 2053, '87070': 792, 'club4': 2054, 'box1146': 1610, 'mk45': 4965, '2wt': 483, 'evo': 2955, 'flash': 3173, 'jealous': 4173, 'singles': 6765, 'chart': 1920, 'quality': 6046, 'charge': 1913, 'sorting': 6928, 'narcotics': 5141, 'ended': 2854, 'sunny': 7236, 'rays': 6112, 'leaves': 4459, 'worries': 8289, 'blue': 1556, 'bay': 1399, 'hmv': 3795, 'genuine': 3419, 'questions': 6054, '86688': 788, '100percent': 303, 'objection': 5338, 'bf': 1482, 'rob': 6358, 'mack': 4715, 'gf': 3435, 'theater': 7467, 'handed': 3642, 'celebrations': 1881, 'swing': 7299, 'tool': 7625, 'definitely': 2459, 'gdeve': 3403, 'far': 3059, 'okie': 5382, 'usual': 7897, 'guy': 3609, 'passed': 5573, 'ahold': 995, 'anybody': 1111, 'throw': 7519, 'lets': 4485, 'baby': 1325, 'cruisin': 2311, 'hour': 3858, 'fone': 3219, 'jenny': 4180, 'ge': 3404, 'shall': 6639, 'tonite': 7620, 'varunnathu': 7926, 'edukkukayee': 2801, 'raksha': 6089, 'ollu': 5392, 'sense': 6590, 'gautham': 3390, 'stupid': 7172, 'cam': 1795, 'buzy': 1755, 'accidentally': 891, 'resend': 6274, 'phone': 5671, 'upgrade': 7857, 'sim': 6752, 'card': 1821, 'loyalty': 4657, '0845': 73, '021': 14, '3680': 517, 'ends': 2859, '28thfeb': 436, 'unless': 7835, 'gurl': 3607, 'appropriate': 1150, 'hurt': 3907, 'tease': 7388, 'die': 2551, 'plz': 5753, 'rose': 6381, 'grave': 3548, 'bslvyl': 1701, 'somebody': 6894, 'high': 3766, 'diesel': 2553, 'shit': 6677, 'shocking': 6687, 'scary': 6507, 'imagine': 3972, 'def': 2454, 'crash': 2276, 'taxi': 7367, 'fridge': 3301, 'meal': 4834, 'womdarfull': 8258, 'actor': 919, 'blind': 1539, '4u': 609, 'rodds1': 6364, '21': 410, 'aberdeen': 863, 'united': 7828, 'kingdom': 4326, 'img': 3975, 'icmb3cktz8r7': 3937, 'dates': 2408, 'hide': 3763, 'remb': 6226, 'book': 1580, 'jos': 4224, 'friendship': 3306, 'hanging': 3652, 'thread': 7514, 'themob': 7475, 'newest': 5211, 'selection': 6571, 'games': 3372, 'tones': 7612, 'gossip': 3514, 'babes': 1323, 'sport': 7010, 'fit': 3161, 'funky': 3349, '82468': 756, 'garage': 3379, 'keys': 4301, 'aren': 1169, 'bookshelf': 1586, 'accept': 886, 'sister': 6773, 'dear1': 2427, 'best1': 1471, 'clos1': 2042, 'lvblefrnd': 4686, 'jstfrnd': 4233, 'cutefrnd': 2360, 'lifpartnr': 4504, 'belovd': 1460, 'swtheart': 7305, 'bstfrnd': 1704, 'enemy': 2861, 'smart': 6835, '200': 399, 'weekly': 8133, '85222': 781, 'cs': 2314, 'winnersclub': 8215, '84': 771, 'm26': 4696, '3uz': 540, 'gbp1': 3399, '2day': 442, 'normal': 5276, 'rest': 6296, 'mylife': 5111, 'wot': 8296, 'lost': 4624, 'advance': 950, 'pongal': 5795, 'kb': 4285, 'power': 5846, 'yoga': 8399, 'dunno': 2753, 'tahan': 7327, 'anot': 1097, 'lo': 4571, 'dude': 2744, 'afraid': 968, 'december': 2434, '11mths': 321, '08002986906': 62, 'cake': 1770, 'merry': 4883, 'christmas': 2001, 'kisses': 4332, 'cud': 2331, 'ppl': 5849, 'gona': 3492, 'l8': 4369, 'buses': 1741, 'gon': 3491, 'waitin': 8039, 'pete': 5654, 'guild': 3602, 'bristol': 1677, 'plans': 5727, 'flight': 3181, 'problem': 5941, 'track': 7657, 'record': 6172, 'reading': 6129, 'women': 8259, 'read': 6126, 'light': 4508, 'apo': 1127, 'return': 6311, 'immediately': 3979, 'germany': 3425, 'fixed': 3165, 'line': 4527, 'access': 887, 'number': 5311, '0844': 70, '861': 786, '85': 777, 'prepayment': 5890, 'chance': 1901, 'evaporated': 2934, 'violated': 7973, 'privacy': 5930, 'stealing': 7081, 'employer': 2850, 'paperwork': 5543, 'report': 6263, 'supervisor': 7246, 'valentines': 7914, 'lifetime': 4503, '83600': 769, 'rcvd': 6117, 'custcare': 2352, '08718720201': 157, 'daaaaa': 2372, 'wined': 8211, 'dined': 2573, 'surfing': 7262, 'calling': 1790, 'post': 5828, '1000s': 301, 'texts': 7448, 'wiv': 8237, 'caroline': 1840, 'favourite': 3079, 'bless': 1534, 'hiding': 3765, 'stranger': 7132, 'interested': 4067, 'cleared': 2031, 'round': 6384, 'gudnite': 3592, 'practice': 5858, 'huiming': 3892, 'num': 5310, 'small': 6833, 'prestige': 5905, 'shag': 6631, 'sextextuk': 6620, 'xxuk': 8349, '69876': 684, 'txts': 7762, 'jeremiah': 4182, 'iphone': 4098, 'apeshit': 1124, 'misbehaved': 4938, 'slap': 6804, 'urself': 7882, 'fault': 3073, 'basically': 1383, 'figure': 3122, 'alcohol': 1019, 'jay': 4165, 'safely': 6440, 'weed': 8128, 'ish': 4113, 'minutes': 4933, 'ago': 987, 'wtf': 8323, 'onam': 5398, 'sirji': 6771, 'remembered': 6228, 'met': 4893, 'insurance': 4062, 'insha': 4049, 'allah': 1034, 'rakhesh': 6088, 'ex': 2963, 'tata': 7360, 'aig': 998, 'tissco': 7561, 'tayseer': 7371, 'currently': 2347, 'maximize': 4824, 'cc': 1869, '08708800282': 103, 'hg': 3759, 'suite342': 7219, '2lands': 456, 'row': 6388, 'w1j6hl': 8019, 'unemployed': 7815, 'moment': 5003, 'st': 7036, 'andrews': 1080, 'cold': 2087, 'posted': 5832, 'chikku': 1968, 'db': 2418, 'audrey': 1268, 'status': 7071, 'forward': 3258, 'dawns': 2413, 'refreshed': 6195, 'alive': 1033, 'breathe': 1656, 'air': 1002, 'update_now': 7856, 'motorola': 5039, 'sonyericsson': 6912, 'bluetooth': 1557, 'orange': 5441, 'mobileupd8': 4985, '08000839402': 56, 'call2optout': 1779, 'f4q': 3017, 'discount': 2600, 'rp176781': 6392, 'regalportfolio': 6200, '08717205546': 149, 'uniform': 7824, 'geeee': 3406, 'woke': 8255, 'wish': 8224, 'cuddling': 2334, 'spoil': 6999, 'talking': 7343, 'agree': 988, 'willing': 8201, 'reference': 6187, 't91': 7316, 'gbp': 3398, '09057039994': 200, 'seen': 6564, 'recognise': 6170, 'happening': 3661, 'lindsay': 4526, 'sighs': 6738, 'bars': 1378, 'ptbo': 6004, 'heron': 3751, 'payasam': 5595, 'rinu': 6346, 'brings': 1674, 'taught': 7364, 'becaus': 1427, 'hes': 3752, 'verifying': 7946, 'project': 5962, 'prabu': 5855, 'mistake': 4954, 'body': 1567, 'repairs': 6251, 'quite': 6059, 'slow': 6826, 'tests': 7433, 'guide': 3600, 'ovulation': 5498, 'relax': 6215, 'reason': 6145, 'followin': 3214, 'couple': 2254, 'wallet': 8052, 'leave': 4458, '945': 834, '6months': 695, 'phones': 5675, 'n9dx': 5118, 'owl': 5502, 'licks': 4496, 'mm': 4967, '4mths': 601, 'rental': 6246, 'mobilesdirect': 4983, '08000938767': 58, 'or2stoptxt': 5439, 'having': 3696, 'huh': 3890, 'sat': 6479, 'intro': 4078, 'pilates': 5700, 'kickboxing': 4309, 'office': 5362, 'lap': 4407, 'days': 2415, 'shut': 6729, 'bout': 1605, '30ish': 496, 'performance': 5630, 'calculated': 1773, 'current': 2346, 'period': 5634, 'actually': 921, 'rock': 6361, 'putting': 6035, 'business': 1743, 'pictures': 5693, 'ass': 1226, 'facebook': 3022, 'picture': 5692, 'al': 1014, 'salam': 6447, 'wahleykkum': 8035, 'sharing': 6649, 'grace': 3533, 'god': 3477, 'inshah': 4050, 'visitor': 7986, 'india': 4018, 'change': 1903, 'field': 3113, 'quickly': 6056, 'administrator': 936, '87131': 795, 'poly': 5788, 'tone': 7611, '2814032': 433, '1st': 387, '3x': 542, '150pw': 359, 'nd': 5162, 'chechi': 1934, 'cream': 2285, 'shipped': 6673, 'yep': 8385, 'loxahatchee': 4655, 'tree': 7692, 'burning': 1735, 'starts': 7062, 'stoners': 7109, 'slightly': 6818, 'disastrous': 2595, 'pm': 5754, 'fav': 3074, 'darlings': 2399, 'wld': 8247, 'stay': 7072, 'drink': 2711, 'busetop': 1742, 'sender': 6585, 'fullonsms': 3340, 'iron': 4104, 'thing': 7490, 'okies': 5383, 'yan': 8366, 'jiu': 4197, 'skip': 6795, 'den': 2481, 'blah': 1524, 'bring': 1672, 'wendy': 8149, 'dating': 2409, '09064012103': 242, 'box334sk38ch': 1616, 'whatsup': 8169, 'goal': 3474, '250': 424, 'competition': 2130, '80086': 737, 'txttowin': 7765, 'head': 3701, 'logo': 4589, 'names': 5133, 'heart': 3716, 'name1': 5130, 'name2': 5131, 'mobno': 4986, 'adam': 923, 'eve': 2935, '07123456789': 28, 'yahoo': 8362, 'pobox36504w45wq': 5765, 'txtno': 7761, 'ads': 946, 'contacted': 2191, '09111032124': 293, 'pobox12n146tf150p': 5762, 'siva': 6783, 'hostel': 3850, 'aha': 990, '09058094455': 204, 'land': 4395, '3030': 494, 'voice': 7997, 'speaking': 6960, 'expression': 3006, 'sentiment': 6597, 'rowdy': 6389, 'ful': 3338, 'attitude': 1259, 'attractive': 1261, 'funny': 3350, 'irritating': 4108, 'aathi': 857, 'urination': 7878, 'esplanade': 2921, 'mind': 4918, 'giving': 3456, 'lift': 4505, 'wnt': 8251, 'bmw': 1562, 'urgently': 7873, 'vry': 8010, 'hv': 3914, 'shortage': 6697, 'lacs': 4382, 'source': 6939, 'arng': 1188, 'amt': 1070, 'fucking': 3332, 'respond': 6290, '3650': 515, '09066382422': 272, '3mins': 533, 'vary': 7927, '300603': 491, 'bcm4284': 1410, 'ldn': 4444, 'wc1n3xx': 8104, 'booked': 1581, 'ticket': 7533, 'hillsborough': 3771, 'th': 7450, 'askin': 1219, 'dollars': 2659, 'shoul': 6704, 'iouri': 4092, 'applebees': 1138, 'journey': 4226, 'gd': 3402, 'bhaji': 1485, 'cricketer': 2297, 'sachin': 6432, 'tough': 7650, 'supposed': 7255, 'oic': 5374, 'tot': 7644, 'din': 2571, 'group': 3574, 'werethe': 8156, 'monkeespeople': 5010, 'monkeyaround': 5012, 'howdy': 3868, 'gorgeous': 3511, 'howu': 3870, 'doin': 2651, 'foundurself': 3261, 'jobyet': 4203, 'sausage': 6489, 'jen': 4178, 'blimey': 1538, 'exercise': 2977, 'kinda': 4323, 'concentration': 2155, 'hanks': 3653, 'lotsly': 4628, 'transfer': 7671, 'acc': 883, 'optimistic': 5434, 'improve': 3994, 'loan': 4574, 'purpose': 6027, '75': 709, 'homeowners': 3814, 'tenants': 7413, 'welcome': 8144, 'previously': 5913, 'refused': 6198, '1956669': 375, 'si': 6731, 'oreo': 5450, 'truffles': 7711, 'amy': 1072, 'ure': 7870, 'beautiful': 1424, 'intelligent': 4063, 'woman': 8257, 'result': 6304, 'consistently': 2186, 'kind': 4322, 'asking': 1220, 'practicum': 5860, 'links': 4535, 'ears': 2773, 'ttyl': 7728, 'isnt': 4118, 'bad': 1333, 'different': 2560, 'feeling': 3091, 'wavering': 8098, 'decisions': 2441, 'coping': 2222, 'individual': 4022, 'heal': 3708, 'gives': 3455, 'reasons': 6147, 'upgrdcentre': 7859, '0207': 10, '153': 361, '9153': 829, '26th': 430, 'july': 4242, 'opt': 5432, 'railway': 6077, 'princess': 5922, 'receiving': 6161, 'oral': 5440, 'doggy': 2648, 'style': 7173, 'fave': 3075, 'position': 5819, 'enjoy': 2870, 'roads': 6356, 'slippery': 6821, 'bike': 1495, 'language': 4404, 'okmail': 5384, 'dave': 2412, 'notice': 5288, 'tenerife': 7415, '09061743806': 229, 'tcs': 7376, 'sae': 6437, 'box326': 1614, 'cw25wx': 2366, 'screamed': 6530, 'enters': 2880, 'remove': 6239, 'flat': 3174, 'transfered': 7672, 'removed': 6240, 'banks': 1360, 'differ': 2557, 'charges': 1915, '9ja': 845, 'details': 2517, 'moan': 4978, '69888nyt': 686, 'broken': 1684, 'cum': 2338, 'infront': 4034, 'wise': 8223, '9t': 847, 'tension': 7417, 'machi': 4712, '8th': 824, 'thinking': 7495, 'mcr': 4833, 'sec': 6546, 'taste': 7357, 'fb': 3080, 'jaykwon': 4167, 'thuglyfe': 7527, 'falconerf': 3041, 'activate': 916, 'terms': 7421, 'conditions': 2161, 'visit': 7984, '07781482378': 35, 'depends': 2494, 'boye': 1627, 'faded': 3027, 'glory': 3464, 'ralphs': 6091, 'dry': 2735, 'trade': 7659, 'reunion': 6315, 'meh': 4858, 'nope': 5270, 'monday': 5007, 'accenture': 885, 'jackson': 4145, 'rec': 6154, 'center': 1884, '7ish': 724, 'reache': 6121, 'fighting': 3119, 'lose': 4619, 'fightng': 3120, 'some1': 6893, 'dificult': 2563, 'nuerologist': 5309, 'lolnice': 4595, 'fish': 3158, 'water': 8090, '123': 328, '1450': 345, '09050002311': 193, 'b4280703': 1315, '08718727868': 166, 'bored': 1592, 'outside': 5483, 'westshore': 8163, 'hyde': 3918, 'park': 5557, 'village': 7971, 'near': 5165, 'anthony': 1108, 'bringing': 1673, 'fees': 3095, 'rent': 6245, 'significance': 6742, 'opinion': 5425, 'jada': 4147, 'kusruthi': 4366, 'silent': 6748, 'spl': 6992, 'character': 1911, 'matured': 4819, 'stylish': 7176, 'simple': 6754, 'scrounge': 6534, 'ammo': 1062, 'ak': 1011, 'prabha': 5854, 'soryda': 6931, 'realy': 6142, 'frm': 3310, 'sory': 6930, 'forgiven': 3243, 'jst': 4232, 'tat': 7359, '40gb': 552, 'ipod': 4099, 'mp3': 5050, '83355': 765, 'ibhltd': 3925, 'ldnw15h': 4445, 'mtmsgrcvd18': 5071, 'boltblue': 1573, 'mono': 5014, 'poly3': 5789, 'cha': 1892, 'slide': 6816, 'jamz': 4153, 'toxic': 7654, 'topped': 7633, 'bubbletext': 1709, 'renewal': 6242, 'pin': 5704, 'tgxxrz': 7449, 'transport': 7676, 'problematic': 5942, 'bday': 1417, 'definite': 2458, 'nos': 5280, 'booking': 1583, 'fri': 3298, 'unconscious': 7803, 'children': 1972, 'adults': 949, 'behave': 1450, 'abnormally': 869, 'ebay': 2786, 'pickle': 5689, 'tacos': 7322, 'rude': 6405, 'campus': 1800, '02': 9, '09': 183, 'attempt': 1253, '0871': 106, '872': 797, '9755': 837, 'box95qu': 1624, 'mas': 4795, '150': 350, '85023': 779, 'savamob': 6490, 'member': 4866, 'offers': 5361, '08717898035': 155, '00': 0, 'sub': 7178, 'unsub': 7846, 'pretty': 5909, 'lady': 4385, 'single': 6764, 'recieve': 6168, '24hrs': 420, 'channel': 1907, 'teletext': 7401, 'pg': 5659, 'faggot': 3028, '2003': 401, '07815296484': 43, '800': 732, 'redeemed': 6183, '08718738001': 171, '41782': 555, '04': 16, 'hoping': 3839, 'l8r': 4371, 'malaria': 4751, 'bani': 1358, 'leads': 4450, 'passionate': 5576, 'kiss': 4331, 'sea': 6541, 'probably': 5940, 'fat': 3067, 'fingers': 3144, 'buttons': 1749, 'ummmmmaah': 7794, 'returns': 6314, 'tirupur': 7559, 'applausestore': 1137, 'monthlysubscription': 5020, '50p': 623, 'max6': 4823, 'csc': 2316, 'web': 8114, 'age16': 979, '2stop': 475, 'famous': 3050, 'quote': 6065, 'develop': 2522, 'ability': 865, 'listen': 4547, 'unconditionally': 7802, 'losing': 4622, 'temper': 7411, 'self': 6572, 'confidence': 2165, 'married': 4789, 'oclock': 5349, 'bash': 1381, 'recovery': 6177, 'cooped': 2218, 'hotel': 3853, 'invitation': 4084, 'cali': 1775, 'english': 2869, 'bloke': 1545, 'weddin': 8121, 'omw': 5397, 'btw': 1707, 'alibi': 1032, 'cutting': 2364, 'sink': 6766, 'paces': 5511, 'cage': 1769, 'cock': 2075, 'surrounded': 7269, 'reminding': 6235, 'owns': 5504, 'cuck': 2330, 'hurry': 3906, 'deficient': 2457, 'acknowledgement': 906, 'astoundingly': 1237, 'tactless': 7324, 'generally': 3412, 'faggy': 3029, 'demand': 2480, 'blood': 1549, 'oath': 5334, 'fo': 3208, 'warm': 8070, 'milk': 4910, 'magic': 4730, 'loose': 4614, 'pan': 5528, 'cheap': 1930, 'silly': 6750, 'likely': 4514, 'uv': 7903, 'causes': 1864, 'mutations': 5106, 'sunscreen': 7239, 'essential': 2923, 'thesedays': 7482, 'online': 5405, 'pics': 5690, 'aiyo': 1009, 'mei': 4859, 'fast': 3064, 'workin': 8281, 'bao': 1364, 'sugardad': 7214, 'gee': 3405, 'brownie': 1693, 'geeeee': 3407, 'barely': 1369, 'fuck': 3329, '2mrw': 464, 'ninish': 5239, 'icky': 3936, 'american': 1055, 'freek': 3285, 'callin': 1789, 'oooh': 5413, 'ridden': 6332, 'ey': 3013, 'gym': 3613, 'smiles': 6847, 'daddy': 2376, 'scream': 6529, 'dick': 2543, 'missy': 4952, 'yar': 8367, 'mum': 5084, 'sch': 6510, 'clean': 2028, 'lab': 4378, 'goggles': 3480, 'door': 2673, 'call09050000327': 1778, 'arguing': 1177, 'claims': 2015, '09050005321': 195, 'arngd': 1189, 'marriage': 4788, 'walkin': 8048, 'unfortuntly': 7819, 'snake': 6864, 'bites': 1517, 'dancing': 2386, 'frnt': 3318, 'sayin': 6498, 'bite': 1516, 'izzit': 4138, 'textand': 7439, '08002988890': 63, 'wife': 8192, 'kids': 4314, 'jjc': 4198, 'tendencies': 7414, 'headache': 3702, 'quit': 6058, 'jazz': 4169, 'yogasana': 8400, 'em': 2836, 'meive': 4860, 'hardly': 3672, 'gotany': 3517, 'srsly': 7033, 'yi': 8393, 'spree': 7019, '80878': 746, '08715705022': 146, '1x150p': 396, 'pound': 5840, '08712402050': 117, 'lines': 4531, '10ppm': 310, 'ag': 976, 'promo': 5970, '07753741225': 33, '08715203677': 141, '42478': 559, '24': 419, 'grand': 3539, 'prix': 5932, 'stands': 7051, 'nitz': 5247, 'announcement': 1093, '542': 639, '0825': 68, 'exhausted': 2980, 'train': 7662, 'pie': 5694, 'present': 5897, 'ar': 1162, 'blastin': 1531, 'tsunamis': 7726, 'occur': 5346, 'rajnikant': 6087, 'stopped': 7118, 'swimming': 7297, 'indian': 4019, 'ocean': 5348, 'noon': 5267, 'xclusive': 8341, 'clubsaisai': 2057, '2morow': 459, '28': 432, 'soiree': 6886, 'speciale': 6962, 'zouk': 8439, 'nichols': 5222, 'paris': 5555, 'roses': 6382, 'ladies': 4384, '07946746291': 48, '07880867867': 46, 'bridgwater': 1665, 'banter': 1363, 'neva': 5204, 'imma': 3977, 'somethin': 6900, '22': 413, 'euro2004': 2930, 'results': 6305, 'daily': 2379, '83222': 762, 'valentine': 7913, 'game': 3371, 'answers': 1104, 'ques': 6051, 'suits': 7221, 'dependents': 2493, 'thanx4': 7460, 'cer': 1887, 'future': 3354, 'hundreds': 3897, 'handsomes': 3648, 'beauties': 1423, 'aunties': 1273, 'uncles': 7800, 'shock': 6686, 'shuhui': 6727, 'leona': 4478, 'reaction': 6125, 'family': 3049, 'happiness': 3666, 'snow': 6874, 'weather': 8113, 'friendships': 3307, 'grow': 3575, 'dismay': 2607, 'alex': 1025, 'concerned': 2157, 'pub': 6006, 'bud': 1711, 'drinks': 2714, 'useful': 7888, 'officially': 5365, 'paid': 5520, 'market': 4783, 'tootsie': 7630, 'pop': 5805, 'longer': 4602, 'darren': 2400, 'textbuddy': 7441, 'area': 1168, '25p': 427, 'postcode': 5831, 'gaytextbuddy': 3396, '89693': 817, 'vodafone': 7995, '4882': 584, 'matches': 4805, '09064019014': 248, 'forwarded': 3259, 'seventeen': 6617, 'seven': 6616, 'ml': 4966, 'voucher': 8007, 'holder': 3805, 'weeks': 8134, 'pc': 5605, 'tlp': 7571, 'expressoffer': 3007, 'ts': 7720, '80062': 734, 'sweetheart': 7292, 'biola': 1504, 'login': 4588, 'dad': 2375, 'fetching': 3104, 'restock': 6298, 'thanksgiving': 7456, 'sound': 6934, 'effects': 2809, 'brighten': 1668, 'wee': 8127, 'thursday': 7529, 'allo': 1038, 'braved': 1643, 'taken': 7333, 'trains': 7666, 'triumphed': 7701, 'ham': 3638, 'jolly': 4217, 'cartoon': 1846, 'listening': 4550, 'temple': 7412, 'church': 2005, 'uncomfortable': 7801, '08715203694': 143, '40533': 551, '31': 501, 'email': 2837, 'rstm': 6397, 'sw7': 7276, '3ss': 539, 'gentle': 3416, 'sonetimes': 6908, 'rough': 6383, 'starting': 7061, 'panic': 5532, 'tuesday': 7731, 'wesleys': 8158, 'town': 7653, 'bet': 1472, 'hella': 3733, 'drugs': 2729, 'drug': 2727, 'dealer': 2423, 'impatient': 3982, 'sun': 7231, 'earth': 2774, 'cloud': 2051, 'river': 6354, 'evng': 2954, 'wikipedia': 8196, '88800': 806, '89034': 810, 'premium': 5886, '08718711108': 156, 'lays': 4439, 'envelope': 2893, 'paper': 5541, 'repent': 6254, 'fetch': 3103, 'prepare': 5888, 'positions': 5820, 'kama': 4270, 'sutra': 7272, 'en': 2851, 'nange': 5137, 'bakra': 1344, 'kalstiya': 4269, 'lakhs': 4390, 'ho': 3797, 'belly': 1457, 'laugh': 4426, 'sun0819': 7232, 'posts': 5835, '08452810071': 75, 'ditto': 2615, 'saying': 6499, 'peace': 5608, 'knw': 4349, 'wetherspoons': 8165, 'piggy': 5699, 'awake': 1299, 'freaky': 3278, 'yelling': 8380, 'scrappy': 6526, 'lonely': 4600, 'hex': 3756, 'explain': 2999, 'sdryb8i': 6539, 'xy': 8358, 'sue': 7206, 'lapdancer': 4408, 'sex': 6618, 'bedroom': 1435, '89555': 816, 'textoperator': 7446, 'g2': 3358, '1da': 379, '150ppmsg': 358, 'king': 4325, 'crying': 2313, 'building': 1721, 'map': 4772, 'imprtant': 3996, 'tomorw': 7610, 'cherthala': 1954, 'cochin': 2074, 'bfore': 1484, 'accordingly': 897, 'tmorow': 7574, 'engaged': 2864, 'ans': 1098, 'torch': 7637, 'bold': 1570, '448712404000': 569, '08712404000': 122, 'farm': 3060, '4d': 590, '1405': 342, '1680': 366, '1843': 371, 'law': 4434, 'purchase': 6022, 'poop': 5801, 'looks': 4610, 'gpu': 3528, 'entrepreneurs': 2887, 'corporation': 2227, 'gap': 3377, 'prevent': 5910, 'dehydration': 2465, 'fluids': 3198, 'weird': 8139, 'idea': 3941, 'away': 1302, 'trek': 7693, 'harri': 3676, 'drivin': 2718, 'fantastic': 3057, 'gage': 3361, 'deck': 2442, 'cnupdates': 2067, 'newsletter': 5216, 'alerts': 1023, 'height': 3728, 'aeronautics': 957, 'professors': 5955, 'wer': 8153, 'calld': 1783, 'sit': 6775, 'aeroplane': 958, 'aftr': 975, 'ws': 8320, 'students': 7160, 'dey': 2529, 'hurried': 3905, 'datz': 2411, 'timing': 7550, 'shitstorm': 6682, 'attributed': 1263, '08714712388': 133, '7pm': 727, 'stress': 7135, 'dorm': 2675, 'sell': 6576, '449071512431': 571, '1250': 330, '09071512433': 277, 'b4': 1313, '050703': 19, 'csbcm4235wc1n3xx': 2315, 'callcost': 1781, 'mobilesvary': 4984, 'max': 4821, 'sth': 7095, 'specs': 6968, 'px3748': 6038, '08714712394': 134, 'macha': 4710, 'upset': 7864, 'assume': 1232, 'mindset': 4920, 'wondar': 8261, 'flim': 3183, 'cookies': 2215, 'jelly': 4177, 'running': 6417, 'admit': 939, 'mad': 4718, 'correction': 2230, 'scrumptious': 6535, 'wants': 8067, 'ba': 1318, 'dao': 2391, 'half8th': 3633, 'exactly': 2965, 'jide': 4196, 'visiting': 7985, 'alertfrom': 1022, 'jeri': 4183, 'stewartsize': 7093, '2kbsubject': 455, 'low': 4652, 'prescripiton': 5894, 'drvgsto': 2734, 'spring': 7020, 'yay': 8373, 'steak': 7079, 'twice': 7747, 'neglect': 5186, 'opportunity': 5428, 'add': 924, 'prayers': 5872, 'nokia6650': 5260, 'txtauction': 7758, '81151': 748, '4t': 604, 'ctxt': 2328, 'mtmsg': 5069, 'mayb': 4826, 'rite': 6352, 'faster': 3065, 'gals': 3368, 'attached': 1251, 'glad': 3457, 'hadn': 3621, 'clocks': 2041, 'shouted': 6707, 'realised': 6134, 'wahay': 8032, 'shorter': 6700, 'gaze': 3397, 'eyes': 3016, '930': 832, 'subscribed': 7188, '82324': 755, 'helpline': 3743, '08706091795': 96, 'spoken': 7003, 'gist': 3452, 'realize': 6137, '40': 544, 'thousands': 7512, 'tattoos': 7362, 'premier': 5885, 'gimme': 3445, 'lip': 4541, 'caveboy': 1867, 'library': 4494, 'confused': 2171, 'holla': 3809, 'spare': 6954, 'faith': 3037, 'makes': 4747, 'possible': 5826, 'vibrate': 7952, 'acting': 913, '79': 721, '08704439680ts': 95, 'grandmas': 3542, 'hungover': 3898, 'unclaimed': 7798, '09066368327': 268, 'closingdate04': 2048, 'claimcode': 2014, 'm39m51': 4698, '50pmmorefrommobile2bremoved': 627, 'mobypobox734ls27yf': 4991, 'gua': 3585, 'mt': 5065, 'faber': 3020, 'yest': 8388, 'wishing': 8228, 'city': 2010, 'summer': 7227, 'store': 7122, '88039': 801, 'skilgme': 6789, 'tscs087147403231winawk': 7724, '50perwksub': 625, 'goin': 3482, 'meetin': 4852, 'wonder': 8263, 'tis': 7560, 'dramatic': 2700, 'schools': 6513, 'closed': 2045, 'apparently': 1133, 'drive': 2716, 'inch': 3998, 'damn': 2381, 'hunting': 3903, 'drunkard': 2732, 'wats': 8095, 'idc': 3940, 'weaseling': 8111, 'space': 6947, 'picking': 5688, 'trash': 7677, 'smokes': 6853, 'begging': 1445, 'lovely': 4642, 'sing': 6761, 'slave': 6805, 'punish': 6016, 'beerage': 1440, '0578': 20, 'randomlly': 6096, 'opening': 5421, 'couldn': 2247, 'fixes': 3167, 'spelling': 6976, 'diff': 2556, 'living': 4563, 'perfect': 5628, 'community': 2121, '100p': 302, 'polyphonic': 5793, '087018728737': 89, 'toppoly': 7634, 'tune': 7737, 'subpoly': 7183, '81618': 750, 'pole': 5784, '08718727870': 167, 'enjoyed': 2871, 'fondly': 3218, 'bein': 1451, 'thot': 7508, 'dogbreath': 2644, 'sounding': 6935, 'jan': 4154, 'omg': 5396, 'weighed': 8136, 'woohoo': 8271, 'uncountable': 7806, 'dictionary': 2545, 'pieces': 5696, '9996': 842, '14thmarch': 348, 'availa': 1283, 'petey': 5656, 'whereare': 8175, 'friendsare': 3305, 'thekingshead': 7472, 'canlove': 1809, 'nic': 5220, 'pobox84': 5769, 'm263uz': 4697, 'appt': 1155, 'no1': 5250, '8077': 745, 'mates': 4807, 'getzed': 3434, '36504': 516, 'w45wq': 8023, 'norm150p': 5275, 'cashto': 1851, '08000407165': 54, 'getstop': 3431, '88222': 804, 'php': 5680, 'rg21': 6324, '4jx': 599, 'dled': 2623, '3d': 525, 'imp': 3981, 'ain': 1000, 'smokin': 6854, 'boooo': 1587, 'bec': 1426, 'ugh': 7778, 'nervous': 5193, 'costumes': 2241, 'gift': 3440, 'yowifes': 8414, 'hint': 3773, 'borrow': 1596, 'bag': 1337, 'outbid': 5474, 'simonwatson5120': 6753, 'shinco': 6668, 'plyr': 5752, 'bid': 1490, 'smsrewards': 6860, 'notifications': 5289, 'ones': 5402, 'model': 4993, 'youi': 8404, 'galileo': 3367, 'dobby': 2629, 'responding': 6291, 'boo': 1578, 'enjoyin': 2872, 'yourjob': 8410, 'gettin': 3432, 'hunny': 3901, 'llspeak': 4568, '2u': 478, 'soonlots': 6916, 'loveme': 4643, 'xxxx': 8352, 'starshine': 7058, 'ache': 903, 'sips': 6769, 'cappuccino': 1816, 'teasing': 7389, 'smsservices': 6861, 'yourinclusive': 8409, 'comuk': 2151, '3qxj9': 537, 'extra': 3010, '08702840625': 92, '220': 414, 'cm2': 2061, '9ae': 843, 'alfie': 1026, 'moon': 5023, 'm8s': 4702, 'charity': 1916, '8007': 735, 'nokias': 5261, 'polys': 5794, 'zed': 8432, '08701417012': 84, 'profit': 5958, 'bits': 1518, 'hahaha': 3624, 'brain': 1634, 'turned': 7741, 'green': 3560, 'burial': 1733, 'mojibiola': 4999, '09065174042': 253, 'cust': 2351, '07821230901': 44, 'mate': 4806, 'rv': 6423, 'hol': 3802, 'ages': 984, 'rvx': 6424, 'skyped': 6800, 'kz': 4368, 'sura': 7258, 'given': 3454, 'ultimatum': 7789, 'countin': 2249, 'aburo': 878, 'surely': 7260, 'successful': 7198, '08002888812': 60, 'inconsiderate': 4007, 'nag': 5122, 'recession': 6165, 'wed': 8120, 'soo': 6913, 'understand': 7809, '2morrow': 461, 'comprehensive': 2144, 'prashanthettan': 5869, 'mother': 5033, '09066350750': 258, 'ibiza': 3926, 'await': 1297, 'collection': 2095, 'sk3': 6786, '8wp': 825, 'ppm': 5851, 'suite': 7218, 'xavier': 8339, 'seconds': 6549, 'warning': 8074, 'samantha': 6458, 'playing': 5735, 'guitar': 3604, 'impress': 3990, 'doug': 2686, 'realizes': 6139, 'stomach': 7106, 'trauma': 7678, 'swear': 7287, 'matter': 4816, 'shoes': 6688, 'wan': 8058, 'inner': 4041, 'tigress': 7540, 'version': 7947, 'poor': 5802, 'urfeeling': 7871, 'bettersn': 1477, 'probthat': 5948, 'overdose': 5492, 'careful': 1830, 'spk': 6991, 'sn': 6863, 'lovejen': 4641, 'returned': 6312, 'fall': 3042, 'worlds': 8286, 'discreet': 2601, 'vip': 7976, '83110': 760, 'hai': 3625, 'ana': 1073, 'sathy': 6481, 'rto': 6401, 'spoons': 7008, 'named': 5132, 'tampa': 7349, 'genius': 3414, 'connections': 2179, 'sort': 6925, 'lotta': 4630, 'corvettes': 2233, 'lately': 4420, 'yrs': 8417, 'supply': 7251, 'cds': 1874, 'virgin': 7979, 'records': 6175, 'mystery': 5116, '09061104283': 218, 'smsco': 6858, '50pm': 626, 'approx': 1153, 'consider': 2184, 'walls': 8054, 'bunkers': 1728, 'peaceful': 5609, '07808': 40, 'xxxxxx': 8354, '08719899217': 180, '41685': 554, '07': 22, 'posh': 5817, 'birds': 1506, 'chaps': 1909, 'user': 7890, 'trial': 7695, 'prods': 5951, 'champneys': 1900, 'dob': 2628, 'asap': 1208, '0721072': 29, 'philosophical': 5667, 'hole': 3807, 'saved': 6492, 'drop': 2722, 'cuddle': 2332, 'nap': 5140, 'atleast': 1247, 'shakespeare': 6637, 'shesil': 6662, '10k': 308, '5k': 644, 'travel': 7680, '09064011000': 241, 'ntt': 5305, 'cr01327bt': 2268, 'fixedline': 3166, 'castor': 1855, 'liverpool': 4561, 'played': 5731, 'mid': 4901, '09058094565': 206, '09065171142': 252, 'stopsms': 7120, '08': 52, 'reminder': 6234, 'downloaded': 2689, 'doit': 2654, 'mymoby': 5112, 'knew': 4341, 'woul': 8299, 'lead': 4447, 'wanting': 8066, 'curfew': 2344, 'gibe': 3439, 'midnight': 4903, 'getsleep': 3430, 'studdying': 7157, 'ear': 2767, 'training': 7664, 'massages': 4798, 'oil': 5375, 'sup': 7242, 'yoyyooo': 8415, 'permissions': 5638, 'mac': 4708, 'usb': 7884, 'gibbs': 3438, 'unsold': 7844, 'mike': 4906, 'hussey': 3911, 'failed': 3031, 'sad': 6436, 'unbelievable': 7796, 'faglord': 3030, 'murder': 5093, 'nutter': 5319, 'cutter': 2363, 'ctter': 2326, 'cttergg': 2327, 'cttargg': 2325, 'ctargg': 2321, 'ctagg': 2320, 'superb': 7244, 'grateful': 3547, 'happier': 3663, 'agents': 983, 'experiment': 2994, 'outstanding': 5486, 'invoices': 4089, 'teach': 7379, 'smell': 6841, 'tobacco': 7584, 'derek': 2501, 'taylor': 7370, 'assumed': 1233, 'worst': 8293, 'charles': 1917, 'lastest': 4417, 'stereophonics': 7089, 'marley': 4786, 'dizzee': 2621, 'racal': 6068, 'libertines': 4493, 'strokes': 7147, 'nookii': 5266, 'bookmark': 1584, 'plus': 5751, 'grinule': 3567, 'greet': 3561, 'white': 8180, 'fudge': 3335, 'oreos': 5451, 'stores': 7123, 'january': 4158, 'male': 4753, 'sale': 6449, 'gay': 3393, 'cheaper': 1931, '08709222922': 104, '5p': 647, '8p': 822, 'peak': 5611, '08712460324': 125, 'zaher': 8429, 'ym': 8396, 'nauseous': 5157, 'pissed': 5709, 'sweets': 7294, 'pig': 5698, 'dieting': 2555, 'chip': 1985, 'iam': 3922, 'addicted': 927, 'msging': 5059, 'wrong': 8317, 'photo': 5677, 'registered': 6205, 'yck': 8374, 'ma': 4704, 'ashley': 1211, 'avalarr': 1285, 'hollalater': 3810, 'attend': 1255, 'rounds': 6386, 'blogging': 1543, 'magicalsongs': 4732, 'blogspot': 1544, 'diet': 2554, 'ate': 1242, 'slices': 6815, 'kvb': 4367, '88600': 805, '1million': 385, 'ppt150x3': 5853, 'box403': 1619, 'w1t1jy': 8021, 'alternative': 1046, 'term': 7419, 'ore': 5448, 'mo': 4977, 'owo': 5505, 'moments': 5004, 'fro': 3319, 'samus': 6460, 'shoulders': 6705, 'matthew': 4818, '09063440451': 237, 'lux': 4683, 'ppm150': 5852, 'box334': 1615, 'sk38xh': 6787, 'wear': 8109, 'jeans': 4174, 'fever': 3105, 'vomitin': 8002, '09061749602': 233, '528': 636, 'hp20': 3873, '1yf': 397, 'stuffed': 7168, 'bleh': 1533, 'writhing': 8310, 'tons': 7621, 'paypal': 5604, 'voila': 7999, 'pockets': 5774, 'theyre': 7487, 'places': 5719, 'medical': 4847, 'folks': 3211, 'sorta': 6926, 'blown': 1554, 'recently': 6163, 'scores': 6519, 'sophas': 6920, 'secondary': 6548, 'application': 1140, 'applying': 1143, 'ogunrinde': 5371, 'expensive': 2991, 'photos': 5678, '114': 316, '14': 340, 'tcr': 7375, 'w1': 8014, 'lodging': 4584, 'chk': 1987, 'ms': 5056, 'dict': 2544, 'shb': 6652, 'truth': 7716, 'gravity': 3550, 'carefully': 1831, 'feels': 3094, 'heavy': 3723, 'bowl': 1607, 'filthy': 3133, 'stories': 7124, 'brand': 1639, 'decision': 2440, 'simpler': 6755, 'magical': 4731, 'welp': 8147, 'retired': 6309, 'natwest': 5155, '09050001808': 192, 'm95': 4703, 'valid12hrs': 7916, 'chad': 1894, 'gymnastics': 3614, 'site': 6776, 'christians': 2000, 'necklace': 5174, 'token': 7595, 'liking': 4517, 'aptitude': 1160, '15': 349, 'horse': 3845, 'racing': 6069, 'earlier': 2768, 'chicken': 1964, 'rice': 6329, 'closes': 2047, 'wrongly': 8318, 'ad': 922, 'crap': 2275, 'borin': 1593, 'boggy': 1568, 'boring': 1594, 'biatch': 1489, 'nxt': 5324, 'hesitate': 3754, 'weakness': 8106, 'notebook': 5285, 'salary': 6448, 'chocolate': 1989, 'potential': 5837, 'talent': 7337, 'reckon': 6169, 'eightish': 2819, 'carpark': 1841, '3g': 527, 'videophones': 7960, '09063458130': 239, 'videochat': 7959, 'java': 4164, 'dload': 2625, 'polyph': 5792, 'noline': 5262, 'rentl': 6248, 'fuckin': 3331, 'dropped': 2723, 'loving': 4649, 'yun': 8422, 'ubi': 7776, '67441233': 675, 'irene': 4102, 'ere': 2901, 'bus8': 1740, '65': 670, '61': 660, '66': 672, '382': 522, 'cres': 2294, 'tech': 7390, '6ph': 696, '5wkg': 652, 'èn': 8441, 'sd': 6537, 'butt': 1746, 'sore': 6921, 'relaxing': 6216, '7am': 722, 'party': 5568, '5ish': 643, 'stripes': 7145, 'skirt': 6796, 'miracle': 4935, 'jesus': 4188, 'blessed': 1535, 'escalator': 2915, 'quiet': 6057, 'beth': 1474, 'aunts': 1274, 'charlie': 1918, 'helen': 3730, 'heard': 3713, 'syllabus': 7307, 'panasonic': 5530, 'bluetoothhdset': 1558, 'doublemins': 2682, 'doubletxt': 2684, 'contract': 2201, '30pm': 497, 'poyyarikatur': 5848, 'kolathupalayam': 4354, 'unjalur': 7832, 'erode': 2905, 'hero': 3749, 'apt': 1159, 'kerala': 4295, 'terrible': 7424, 'fan': 3051, 'meat': 4843, 'lovers': 4646, 'supreme': 7256, 'regret': 6207, 'cudnt': 2335, 'drove': 2725, 'ctla': 2323, 'ente': 2877, 'ishtamayoo': 4114, 'bakrid': 1345, 'exe': 2975, 'glorious': 3463, 'anniversary': 1090, 'finds': 3141, 'prey': 5914, 'coaxing': 2071, 'images': 3970, 'fond': 3217, 'souveniers': 6943, 'cougar': 2243, 'pen': 5617, 'secretly': 6552, 'fancies': 3053, '09065394514': 254, 'datebox1282essexcm61xn': 2407, 'pattern': 5588, 'throat': 7518, 'scratches': 6527, 'plm': 5744, 'asleep': 1223, 'foreign': 3236, 'stamps': 7047, 'lecture': 4462, 'sheffield': 6656, 'nanny': 5138, 'raise': 6080, 'zoe': 8436, 'shitin': 6679, 'defo': 2461, 'hardest': 3671, 'millions': 4913, 'lekdog': 4472, 'setting': 6611, 'filling': 3128, 'loverboy': 4645, 'blankets': 1530, 'sufficient': 7210, 'thx': 7530, 'nyt': 5328, 'edison': 2795, 'rightly': 6336, 'fool': 3224, 'speechless': 6969, 'viva': 7990, 'gm': 3466, 'gn': 3468, 'gnt': 3470, 'atten': 1254, 'roast': 6357, '09058097218': 214, 'ls15hb': 4660, 'concentrate': 2153, 'educational': 2800, 'flirting': 3187, 'chatting': 1929, 'walked': 8047, 'kickoff': 4310, 'euro': 2929, 'june': 4245, '3rd': 538, 'sells': 6578, 'data': 2405, 'analysis': 1075, 'thesis': 7483, 'belligerent': 1456, 'hiya': 3784, 'april': 1157, 'les': 4480, 'rudi': 6406, 'snoring': 6872, 'drunk': 2731, 'sends': 6587, 'ink': 4038, '515': 631, 'throwing': 7521, 'deciding': 2438, 'eastenders': 2779, 'flower': 3195, 'compare': 2127, 'violet': 7975, 'tulip': 7735, 'lily': 4519, '84025': 772, 'wkent': 8241, '150p16': 353, 'technical': 7391, 'support': 7252, 'process': 5949, 'networking': 5202, 'prepared': 5889, 'finalise': 3136, 'works': 8284, 'flirtparty': 3188, 'replys150': 6262, 'bitch': 1514, 'dentist': 2487, '09058091854': 201, 'revealed': 6317, 'box385': 1617, 'm6': 4699, '6wu': 700, 'bathing': 1392, '09050003091': 194, 'c52': 1764, 'xchat': 8340, 'lul': 4674, 'juicy': 4237, 'nurses': 5314, 'shes': 6661, 'obese': 5336, 'oyea': 5507, 'oi': 5373, 'ami': 1056, 'parchi': 5551, 'na': 5119, 'kicchu': 4307, 'kaaj': 4260, 'korte': 4359, 'iccha': 3932, 'korche': 4356, 'tul': 7734, 'movies': 5047, 'copies': 2221, 'sculpture': 6536, 'convey': 2208, 'regards': 6203, 'surya': 7271, 'vijay': 7965, 'pokkiri': 5783, 'pic': 5685, 'dearer': 2428, 'dem': 2479, 'attraction': 1260, 'thoughts': 7511, 'breath': 1655, 'sorrows': 6923, 'fight': 3118, 'craziest': 2281, 'proove': 5977, 'planet': 5723, 'singing': 6763, 'praises': 5862, 'curry': 2348, 'makiing': 4748, 'sambar': 6459, 'ndship': 5163, 'needle': 5180, 'clock': 2040, 'evn': 2953, 'itz': 4131, '4few': 592, 'alwys': 1050, 'conected': 2163, 'spatula': 6958, 'hands': 3645, 'sipix': 6768, 'digital': 2565, '09061221061': 221, '28days': 434, 'box177': 1612, 'm221bp': 4694, '2yr': 486, 'warranty': 8075, '99': 841, '09061790121': 234, 'doctor': 2634, 'complexities': 2141, 'freely': 3286, 'taxes': 7366, 'outrageous': 5480, 'tomorro': 7608, 'ryder': 6427, 'subscriber': 7189, 'receipt': 6156, 'elvis': 2835, 'presleys': 5900, 'fret': 3297, 'strips': 7146, 'postal': 5829, 'gifts': 3442, 'cliff': 2037, 'ne': 5164, 'interesting': 4068, 'wrking': 8313, 'uni': 7822, 'depressed': 2497, 'sittin': 6779, 'wind': 8205, 'drops': 2724, 'black': 1521, 'aiyah': 1007, 'information': 4031, 'o2': 5332, 'urawinner': 7869, 'surprise': 7266, 'awaiting': 1298, 'hen': 3746, 'italian': 4122, 'grins': 3566, 'smoked': 6852, 'math': 4808, 'dhoni': 2533, 'rocks': 6363, 'teju': 7396, 'hourish': 3859, 'ground': 3573, 'amla': 1059, 'durban': 2755, 'convenience': 2204, 'evaluation': 2933, '449050000301': 570, '09050000301': 185, 'speed': 6970, 'speedchat': 6971, '80155': 739, 'swap': 7281, 'chatter': 1928, 'chat80155': 1926, 'rcd': 6114, 'cancel': 1805, 'cheyyamo': 1958, '08000776320': 55, 'aiyar': 1008, 'survey': 7270, '80160': 740, 'txt43': 7756, 'catching': 1860, 'throws': 7523, 'gal': 3366, 'falls': 3045, 'brothers': 1690, 'whos': 8183, 'hmv1': 3796, 'errors': 2909, 'difficulties': 2562, 'howz': 3871, 'tau': 7363, 'sar': 6470, 'piah': 5684, '1stchoice': 389, '08707808226': 101, 'wearing': 8110, 'film': 3130, 'shade': 6629, 'copied': 2220, 'notified': 5290, 'luck': 4667, 'marketing': 4784, '84122': 773, '08450542832': 74, 'raining': 6079, 'station': 7070, 'tank': 7350, 'virgins': 7980, '4fil': 593, 'sexual': 6621, 'theirs': 7471, 'cute': 2359, '69911': 687, 'sitter': 6778, 'kaitlyn': 4264, 'adult': 948, 'danger': 2389, 'peeps': 5614, 'comment': 2117, 'veggie': 7937, 'neighbors': 5189, 'computerless': 2149, 'balloon': 1349, 'silently': 6749, 'drms': 2721, 'wrc': 8304, 'rally': 6090, 'oz': 5509, 'lucozade': 4670, 'energy': 2862, 'le': 4446, '61200': 661, 'packs': 5515, 'itcould': 4123, 'melody': 4864, 'horrible': 3844, 'macs': 4717, 'toot': 7627, 'bigger': 1493, 'nw': 5323, 'hme': 3789, 'islands': 4116, 'chennai': 1951, 'velachery': 7939, 'flippin': 3185, 'breaking': 1653, 'cstore': 2319, 'annoying': 1095, 'hangin': 3651, 'makin': 4749, 'lodge': 4583, 'worrying': 8291, 'shame': 6640, 'quizzes': 6064, 'popcorn': 5806, 'jordan': 4222, 'celeb': 1877, 'pocketbabe': 5773, '087016248': 87, 'voicemail': 7998, '08719181503': 177, 'arguments': 1179, 'fed': 3086, 'himso': 3772, '2go': 450, 'neft': 5184, 'credited': 2290, 'beneficiary': 1466, 'tuition': 7733, 'understanding': 7810, 'choice': 1990, 'enter': 2878, 'subs16': 7185, '1win150ppmx3': 393, 'appreciated': 1147, 'semi': 6581, 'apart': 1121, 'delivered': 2474, 'exp': 2986, '30apr': 495, 'strong': 7148, 'arms': 1187, 'maaaan': 4705, 'guessin': 3597, 'walmart': 8055, 'ilol': 3967, 'personally': 5647, 'wuldnt': 8330, 'mite': 4957, 'creepy': 2293, 'lunchtime': 4676, 'organise': 5453, '08719181513': 178, 'complete': 2136, 'passable': 5572, 'score': 6518, 'phd': 5664, '5years': 654, 'easier': 2775, 'nok': 5257, '87021': 790, 'txtin': 7759, '4info': 598, 'prakesh': 5865, 'apps': 1154, 'rofl': 6366, 'betta': 1475, 'invest': 4082, 'anti': 1109, 'aging': 986, 'products': 5952, '1hr': 381, 'delay': 2467, 'accommodation': 892, 'various': 7924, 'global': 3462, 'phb1': 5663, 'ph': 5660, '08700435505150p': 79, 'submitting': 7182, '84128': 774, 'textcomp': 7442, '08712405020': 123, 'snatch': 6867, 'purse': 6028, 'drivby': 2715, '0quit': 296, 'edrunk': 2797, 'iff': 3951, 'pthis': 6005, 'senrd': 6589, 'dnot': 2626, 'dancce': 2383, 'drum': 2730, 'basq': 1386, 'ihave': 3957, '2nhite': 467, 'ros': 6380, 'xxxxxxx': 8355, 'morn': 5026, 'relieved': 6219, 'westonzoyland': 8162, 'greatness': 3558, 'europe': 2932, 'chinese': 1981, 'docs': 2633, 'songs': 6910, 'havin': 3695, 'goin2bed': 3483, 'only1more': 5407, 'mc': 4829, 'hun': 3896, '2nite': 469, 'every1': 2942, 'ava': 1282, 'goodtime': 3508, 'oli': 5391, 'rang': 6099, 'melnite': 4863, 'ifink': 3952, 'sorted': 6927, 'everythin': 2948, 'mon': 5006, 'l8rs': 4372, '08712402779': 119, 'flip': 3184, 'shun': 6728, 'bian': 1488, 'glass': 3460, 'exhibition': 2981, 'el': 2821, 'nino': 5240, 'cbe': 1868, 'honey': 3819, 'jd': 4171, 'accounts': 900, 'executive': 2976, 'picked': 5687, 'downstem': 2693, '08718730555': 169, 'wahala': 8031, 'inperialmusic': 4045, 'listening2the': 4551, 'weirdest': 8140, 'leafcutter': 4452, 'john': 4208, 'insects': 4048, 'molested': 5001, 'plumbing': 5749, 'remixed': 6237, 'evil': 2952, 'acid': 905, 'didntgive': 2550, 'bellearlier': 1455, 'bedbut': 1432, 'thepub': 7480, 'l8tr': 4373, 'uwana': 7905, 'jenxxx': 4181, 'exact': 2964, '09096102316': 286, '2moro': 458, 'jane': 4156, 'minmoremobsemspobox45po139wa': 4926, 'tee': 7393, 'cheery': 1946, 'cell': 1882, 'thts': 7526, 'dough': 2687, 'control': 2203, '80488': 743, 'weirdo': 8141, 'mode': 4992, 'stalk': 7044, 'profiles': 5957, 'jerry': 4185, 'irritates': 4107, 'fails': 3033, 'express': 3005, 'drinkin': 2712, 'wondering': 8265, 'dog': 2643, 'tour': 7652, '5pm': 648, '95': 836, 'pax': 5593, 'deposit': 2495, 'jap': 4160, 'disappeared': 2591, 'birthdate': 1510, 'certificate': 1891, 'publish': 6008, 'dreams': 2706, 'nydc': 5327, 'wheellock': 8172, 'destination': 2514, 'favour': 3078, 'settling': 6615, 'happenin': 3660, 'ola': 5386, 'cocksuckers': 2076, 'ipads': 4097, 'worthless': 8295, 'garbage': 3380, 'novelty': 5295, 'items': 4124, 'fran': 3269, 'broke': 1683, 'knackered': 4338, 'janx': 4159, 'dads': 2377, 'designation': 2506, 'software': 6884, 'developer': 2524, 'jamster': 4152, 'videosound': 7962, 'gold': 3486, 'videosounds': 7963, 'logos': 4592, 'musicnews': 5101, '09701213186': 294, 'lions': 4540, 'lionm': 4538, 'lionp': 4539, 'ringtones': 6345, 'original': 5457, '3gbp': 528, 'jokin': 4215, 'spirit': 6988, 'bb': 1400, 'shattered': 6650, 'alrite': 1044, 'idiot': 3947, 'girlie': 3450, 'colours': 2101, 'darker': 2394, 'styling': 7175, 'whenevr': 8173, 'gray': 3552, 'remembr': 6230, 'listn': 4552, 'watevr': 8092, 'harry': 3677, 'potter': 5838, 'phoenix': 5670, 'readers': 6127, 'shd': 6653, 'minus': 4931, 'paragraphs': 5548, 'coveragd': 2262, 'vasai': 7928, 'retard': 6308, 'bathroom': 1393, 'sang': 6463, 'uptown': 7867, '80': 731, 'february': 3085, 'rush': 6420, 'icic': 3934, 'syria': 7312, 'canada': 1802, 'cares': 1833, 'goodnoon': 3505, 'gauge': 3389, 'patty': 5589, 'vl': 7993, 'completing': 2140, 'ax': 1307, 'chill': 1975, '6hrs': 692, 'surgical': 7263, 'emergency': 2844, 'unfolds': 7817, 'frens': 3293, 'korean': 4357, 'fredericksburg': 3279, 'que': 6048, 'pases': 5570, 'buen': 1715, 'tiempo': 7536, 'chillin': 1977, 'super': 7243, 'free2day': 3281, 'george': 3422, '89080': 812, 'saucy': 6488, '0870241182716': 90, 'theres': 7481, 'tmrw': 7577, 'compass': 2128, 'soul': 6933, 'gnun': 3471, 'way2sms': 8101, 'baaaaabe': 1321, 'misss': 4950, 'youuuuu': 8411, 'ned': 5175, 'convince': 2210, 'tht': 7525, 'witot': 8235, 'hurting': 3908, 'main': 4742, 'sweetie': 7293, 'blackberry': 1522, 'buyer': 1751, '4a': 588, 'pple': 5850, 'marry': 4790, 'becz': 1430, 'undrstndng': 7814, 'avoids': 1296, 'problems': 5943, 'chain': 1895, 'suffer': 7207, 'whn': 8181, 'arrested': 1195, 'suntec': 7241, 'steamboat': 7083, 'dance': 2384, 'moji': 4998, 'forgive': 3242, 'messenger': 4891, 'reaching': 6123, 'tp': 7656, 'fantasies': 3056, '08707509020': 99, '20p': 409, '1327': 338, 'croydon': 2306, 'cr9': 2269, '5wb': 650, '0870': 78, 'bbq': 1404, '6ish': 693, 'everyso': 2947, 'panicks': 5533, 'bar': 1365, 'write': 8309, 'cover': 2261, 'screen': 6532, 'gently': 3418, 'bears': 1421, 'nick': 5223, 'tom': 7603, 'fact': 3024, 'types': 7769, 'upload': 7860, '08718730666': 170, 'auntie': 1272, 'huai': 3882, 'juan': 4235, 'linerental': 4530, 'lf56': 4489, 'tlk': 7570, 'ideal': 3942, 'path': 5583, 'appear': 1135, 'paths': 5585, 'walking': 8049, 'arm': 1184, 'shot': 6703, 'reserve': 6277, 'thirunelvali': 7500, 'tirunelvali': 7558, 'tackle': 7321, 'storming': 7125, 'phne': 5669, 'wt': 8321, 'meaning': 4837, 'margaret': 4779, 'girlfrnd': 3449, 'grahmbell': 3535, 'invnted': 4088, 'telphone': 7407, 'moral': 5024, '4get': 594, 'popped': 5807, 'tonght': 7616, 'ploughing': 5745, 'pile': 5701, 'ironing': 4105, 'chinky': 1982, 'wi': 8185, 'nz': 5330, 'players': 5733, 'effect': 2808, 'aust': 1276, 'bk': 1520, 'cafe': 1768, 'recharged': 6167, 'kidding': 4313, 'papa': 5540, 'shld': 6684, 'stretch': 7139, 'detailed': 2516, 'sinco': 6759, 'payee': 5599, 'icicibank': 3935, 'urn': 7881, 'beware': 1481, 'frauds': 3274, 'share': 6647, 'disclose': 2597, 'vote': 8004, 'caring': 1834, 'losers': 4620, 'kaiez': 4262, 'option': 5436, 'beta': 1473, 'practicing': 5859, 'babies': 1324, 'noncomittal': 5264, 'beneath': 1465, 'pale': 5526, 'goodnite': 3504, 'msgrcvdhg': 5062, 'snickering': 6870, 'tells': 7405, 'totally': 7646, 'chords': 1995, 'rem': 6223, 'silver': 6751, 'lmao': 4569, 'silence': 6747, 'win150ppmx3age16': 8204, 'exams': 2967, 'revision': 6321, 'boyf': 1628, 'interviw': 4075, 'exeter': 2978, 'spreadsheet': 7018, 'determine': 2518, 'entire': 2884, 'arsenal': 1200, 'dartboard': 2401, 'condition': 2160, 'doubles': 2683, 'trebles': 7691, 'coat': 2070, 'painful': 5522, 'everybody': 2943, 'recognises': 6171, 'wisheds': 8225, 'intrepid': 4077, 'duo': 2754, 'missin': 4946, 'guilty': 3603, 'aiya': 1006, 'cardiff': 1822, 'addie': 928, 'tues': 7730, 'breeze': 1660, 'bright': 1667, 'fresh': 3295, 'twittering': 7752, 'restaurant': 6297, 'textpod': 7447, 'pod': 5776, 'ducking': 2743, 'chinchillas': 1980, 'function': 3343, 'headstart': 3707, 'desperate': 2511, 'rummer': 6414, 'flying': 3203, 'monkeys': 5013, 'certainly': 1890, 'optin': 5435, 'bbc': 1401, 'charts': 1921, 'thanks2': 7455, 'rajini': 6085, 'practical': 5857, 'summers': 7228, 'matched': 4804, 'optout': 5437, 'help08714742804': 3739, 'spys': 7025, 'mails': 4741, 'claire': 2016, '09099725823': 287, 'bought': 1603, 'costing': 2238, 'offering': 5360, 'yalru': 8364, 'lyfu': 4688, 'astne': 1236, 'innu': 4044, 'mundhe': 5090, 'lyf': 4687, 'ali': 1030, 'halla': 3635, 'ke': 4286, 'bilo': 1501, 'program': 5959, 'edhae': 2794, 'ovr': 5496, 'vargu': 7923, 'meow': 4880, 'aah': 854, '09066362231': 264, '07xxxxxxxxx': 51, '06': 21, 'prone': 5975, '07801543489': 39, 'latests': 4424, 'llc': 4567, 'ny': 5325, 'usa': 7883, 'msgrcvd18': 5061, 'permission': 5637, 'lucy': 4671, 'hubby': 3883, 'meetins': 4854, 'cumin': 2339, '09099726395': 288, 'minmobsmorelkpobox177hp51fl': 4925, 'wonders': 8266, '7th': 728, '6th': 698, '5th': 649, '4th': 605, 'personality': 5646, 'nature': 5154, 'dose': 2678, 'tablet': 7319, 'incomm': 4006, 'blake': 1525, 'lotr': 4626, 'keeping': 4288, 'google': 3509, 'maps': 4774, 'tiring': 7556, 'modules': 4996, 'concentrating': 2154, 'browsin': 1697, 'compulsory': 2146, 'purity': 6025, 'musthu': 5103, 'investigate': 4083, 'vomit': 8001, 'aint': 1001, 'sha': 6628, 'vitamin': 7989, 'centre': 1885, 'crucial': 2307, 'jsco': 4231, '2channel': 441, 'leadership': 4448, 'skills': 6791, 'psychic': 6001, 'host': 3849, 'based': 1380, 'idps': 3949, 'linux': 4536, 'systems': 7314, 'total': 7645, 'converter': 2207, 'stars': 7057, 'karaoke': 4276, 'testing': 7432, 'sayy': 6501, 'loved': 4640, 'nit': 5242, 'leanne': 4454, 'file': 3125, 'format': 3251, 'disc': 2596, 'hows': 3869, 'champ': 1898, 'glasgow': 3459, 'lovin': 4648, 'arrive': 1197, 'shortly': 6701, 'install': 4054, 'browse': 1695, 'artists': 1202, 'corect': 2225, 'speling': 6973, 'sarcasm': 6473, '4719': 580, '523': 633, 'forum': 3256, 'ron': 6374, 'cts': 2324, 'employee': 2849, 'aunt': 1271, 'nike': 5235, 'sooo': 6917, 'screaming': 6531, 'shouting': 6708, 'dang': 2388, 'unfortunately': 7818, 'airport': 1004, '7250i': 705, 'auction': 1265, '86021': 785, 'w1jhl': 8020, 'difficult': 2561, 'earliest': 2769, 'nordstrom': 5273, 'konw': 4355, 'waht': 8036, 'rael': 6073, 'gving': 3612, 'yuo': 8424, 'exmpel': 2983, 'jsut': 4234, 'ese': 2917, 'tihs': 7541, 'evrey': 2958, 'splleing': 6998, 'wrnog': 8316, 'sitll': 6777, 'raed': 6072, 'wihtuot': 8195, 'ayn': 1311, 'mitsake': 4958, 'conference': 2164, 'ow': 5499, 'degree': 2462, 'joining': 4211, 'finance': 3138, 'prospects': 5985, 'bleak': 1532, 'filled': 3127, 'shant': 6645, 'jia': 4194, 'bishan': 1512, 'nearer': 5167, 'sux': 7273, 'raiden': 6076, 'buff': 1716, 'south': 6941, 'preferably': 5882, 'kegger': 4290, 'totes': 7647, 'pierre': 5697, 'cardin': 1823, 'costs': 2239, 'rhythm': 6328, 'establish': 2924, 'truro': 7713, 'ext': 3008, 'gas': 3386, 'gang': 3376, 'adventure': 951, 'cloth': 2049, 'pack': 5512, 'tablets': 7320, 'sunroof': 7238, 'excellent': 2968, 'finishing': 3149, 'doors': 2674, 'wifi': 8194, 'blanked': 1528, 'image': 3969, 'rumour': 6415, 'kalainar': 4266, 'thenampet': 7476, '7250': 704, 'nosy': 5283, 'idk': 3948, 'reacting': 6124, 'freaked': 3276, 'satanic': 6480, 'imposter': 3989, 'destiny': 2515, 'companion': 2125, 'chef': 1950, 'listener': 4549, 'organizer': 5454, 'boyfriend': 1629, 'sympathetic': 7309, 'athletic': 1243, 'courageous': 2256, 'determined': 2519, 'dependable': 2492, 'psychologist': 6002, 'pest': 5653, 'exterminator': 3009, 'psychiatrist': 6000, 'healer': 3709, 'stylist': 7177, 'driver': 2717, 'aaniye': 855, 'pudunga': 6010, 'venaam': 7942, 'brothas': 1688, 'chasing': 1923, 'chez': 1959, 'jules': 4239, 'hhahhaahahah': 3760, 'nig': 5226, 'leonardo': 4479, 'kicks': 4311, '2years': 485, 'strain': 7130, 'dime': 2569, 'withdraw': 8232, 'falling': 3044, 'force': 3233, 'smeone': 6843, 'millers': 4911, 'spark': 6956, 'flame': 3172, 'rawring': 6109, 'xoxo': 8344, 'somewhr': 6904, 'crushes': 2312, 'honeymoon': 3821, 'outfit': 5476, 'propose': 5981, '08719899230': 182, 'blame': 1526, 'gods': 3478, 'blessings': 1537, 'cheque': 1952, 'olympics': 5395, 'leo': 4477, 'haul': 3685, 'wildlife': 8200, 'want2come': 8064, 'that2worzels': 7462, 'wizzle': 8238, 'dippeditinadew': 2581, 'lovingly': 4650, 'itwhichturnedinto': 4129, 'gifted': 3441, 'tomeandsaid': 7606, 'shanghai': 6643, 'instead': 4059, 'cya': 2367, 'freezing': 3289, '645': 669, 'rt': 6398, 'pro': 5938, 'ringtoneking': 6344, '08701237397': 83, 'redeemable': 6182, 'thnx': 7506, 'sef': 6565, 'anjie': 1086, 'batch': 1388, 'fring': 3308, 'flaky': 3171, 'sooooo': 6919, 'laughing': 4428, 'winning': 8216, 'tooo': 7626, 'nte': 5303, '09058094599': 210, 'confuses': 2172, 'wating': 8093, 'british': 1678, 'hotels': 3854, 'london': 4598, '02072069400': 11, 'bx': 1759, '526': 635, 'sw73ss': 7277, 'talents': 7338, '6pm': 697, 'animal': 1084, 'buzz': 1756, 'adoring': 941, 'eerie': 2806, 'title': 7562, 'dracula': 2697, 'titles': 7563, 'ghost': 3437, 'addamsfa': 925, 'munsters': 5091, 'exorcist': 2985, 'twilight': 7749, 'brought': 1691, 'shiny': 6671, 'warming': 8071, 'constant': 2188, 'cared': 1827, 'wasn': 8078, 'surprised': 7267, 'french': 3292, 'fooled': 3225, '0a': 295, 'allow': 1039, 'companies': 2124, 'responsible': 6295, 'suppliers': 7249, 'guarantee': 3587, 'comedy': 2109, 'feelin': 3090, 'lnly': 4570, 'moby': 4990, '82242': 753, 'msg150p': 5058, '2rcv': 474, 'hlp': 3787, '08712317606': 113, 'keen': 4287, 'switch': 7301, 'dammit': 2380, 'wright': 8308, 'fly': 3202, 'somewhat': 6902, 'event': 2939, 'laden': 4383, 'wrecked': 8305, 'spontaneously': 7005, 'goodevening': 3498, 'lei': 4471, 'action': 914, '80608': 744, 'movietrivia': 5048, '08712405022': 124, 'waking': 8042, 'partnership': 5566, 'rgent': 6326, 'lookin': 4608, 'daytime': 2416, 'busty': 1744, '09099726429': 289, 'janinexx': 4157, 'inside': 4051, 'spageddies': 6950, 'phasing': 5662, 'fourth': 3262, 'dimension': 2570, 'meaningful': 4838, 'compromised': 2145, 'mornin': 5027, '09050001295': 191, 'a21': 851, 'monthly': 5019, 'mobsi': 4988, '391784': 523, 'dub': 2740, 'je': 4172, 'toughest': 7651, 'unspoken': 7845, 'ideas': 3943, 'sight': 6739, 'remain': 6224, 'maintain': 4743, 'sh': 6627, 'jas': 4162, 'squatting': 7027, 'cramps': 2274, '0089': 4, 'digits': 2566, 'received': 6160, '09063442151': 238, 'nan': 5136, 'sonathaya': 6907, 'soladha': 6888, 'raping': 6103, 'dudes': 2745, 'poker': 5781, 'weightloss': 8138, 'mushy': 5098, 'embarrassed': 2841, 'stash': 7066, 'ran': 6094, 'priya': 5933, 'ordered': 5446, '81303': 749, 'father': 3069, 'messy': 4892, 'kilos': 4321, 'accidant': 889, 'tookplace': 7624, 'ghodbandar': 3436, 'rd': 6118, 'traffic': 7661, 'moves': 5045, 'slovely': 6825, 'slip': 6819, 'wkg': 8242, 'nus': 5316, 'sc': 6502, 'specialise': 6964, 'wad': 8028, 'likes': 4515, 'dislikes': 2606, 'keeps': 4289, 'queen': 6049, 'desparately': 2510, 'fren': 3291, 'promises': 5969, 'gotten': 3522, 'stereo': 7088, 'mi': 4898, 'unknown': 7834, 'album': 1018, '121': 326, '60p': 659, 'connect': 2176, '09094646899': 284, 'vu': 8013, 'bcm1896wc1n3xx': 1409, 'classmates': 2025, 'fires': 3155, 'boys': 1630, '2007': 405, 'pre': 5875, 'trackmarque': 7658, 'vipclub4u': 7977, 'missionary': 4948, 'hook': 3827, 'standing': 7050, 'entertaining': 2882, 'hugh': 3888, 'laurie': 4431, 'stick': 7096, 'praps': 5866, 'jon': 4219, 'bin': 1503, 'spain': 6951, 'dinero': 2574, 'rents': 6249, '000pes': 2, '48': 583, 'james': 4151, 'maangalyam': 4706, 'alaipayuthe': 1016, 'complaining': 2133, 'mandy': 4765, 'sullivan': 7222, 'hotmix': 3856, 'fm': 3205, 'chosen': 1997, 'easter': 2780, 'telephone': 7399, '09041940223': 184, '29': 437, '05': 18, 'transferred': 7673, 'finn': 3151, 'di': 2535, 'bahamas': 1339, 'callfreefone': 1788, '08081560665': 67, 'cruise': 2310, '07786200117': 36, 'calm': 1794, 'downon': 2691, 'theacusations': 7466, 'itxt': 4130, 'iwana': 4134, 'wotu': 8297, 'thew': 7486, 'haventcn': 3694, 'up4': 7851, 'nething': 5198, 'dine': 2572, 'conacted': 2152, '09111030116': 292, 'pobox12n146tf15': 5761, 'social': 6881, 'inspection': 4052, 'nursery': 5313, 'slowly': 6829, 'habit': 3619, 'follow': 3212, 'panren': 5534, 'paru': 5569, 'chuckin': 2004, 'trainners': 7665, 'carryin': 1843, 'bac': 1330, 'schedule': 6511, 'dhanush': 2531, 'needing': 5179, 'stuck': 7156, 'habba': 3618, 'hw': 3917, 'dileep': 2568, 'muchand': 5075, 'contacts': 2192, 'venugopal': 7943, 'mentioned': 4876, 'remembrs': 6231, 'forgets': 3241, 'everytime': 2949, 'mandan': 4763, '07734396839': 31, 'ibh': 3924, 'nokia6600': 5259, 'regarding': 6202, '3230': 507, 'textbook': 7440, 'algorithms': 1029, 'edition': 2796, 'selling': 6577, 'buns': 1729, 'adore': 940, 'invaders': 4080, 'orig': 5456, 'arcade': 1165, 'console': 2187, 'settings': 6612, 'alert': 1021, '09064018838': 247, 'cro1327': 2301, 'atlanta': 1245, 'recharge': 6166, 'created': 2286, 'fills': 3129, 'gaps': 3378, 'holding': 3806, 'arun': 1206, 'transfr': 7674, 'takin': 7335, 'philosophy': 5668, 'intend': 4064, 'iwas': 4135, 'marine': 4781, 'itried2tell': 4128, 'urmom': 7880, 'careabout': 1826, 'foley': 3210, 'exciting': 2971, 'prizes': 5936, 'eye': 3014, '82050': 751, 'desparate': 2509, 'learned': 4456, 'fake': 3038, 'answering': 1103, 'iraq': 4101, 'afghanistan': 967, 'stable': 7038, 'honest': 3816, 'traveling': 7681, '1225': 327, '50award': 620, '3100': 502, 'pai': 5519, 'seh': 6566, 'beer': 1439, 'combine': 2107, 'parts': 5567, 'walsall': 8056, 'tue': 7729, 'terry': 7428, 'jess': 4187, 'sian': 6732, 'ccna': 1871, 'shrek': 6720, 'dirty': 2588, 'fellow': 3098, 'dying': 2763, 'lifting': 4507, 'teresa': 7418, 'package': 5513, 'dec': 2432, 'ld': 4442, 'bam': 1351, 'aid': 996, 'usmle': 7895, 'squishy': 7031, 'mwahs': 5109, 'hottest': 3857, 'g696ga': 3359, 'prominent': 5966, 'cheek': 1942, 'september': 6600, 'husband': 3910, 'hack': 3620, 'backdoor': 1331, 'fraction': 3268, 'neo69': 5192, '09050280520': 197, 'subscribe': 7186, 'dps': 2695, 'bcm': 1408, '8027': 742, 'norm': 5274, 'list': 4545, 'joanna': 4200, 'comingdown': 2115, 'replacement': 6256, 'murali': 5092, 'sts': 7153, 'engalnd': 2866, 'telly': 7406, 'mia': 4899, 'elliot': 2833, 'kissing': 4333, 'upto': 7866, '12mths': 335, '2price': 472, '100txt': 304, 'mth': 5067, 'tooth': 7628, '08001950382': 59, 'd3wv': 2370, 'wipro': 8220, 'matric': 4814, '850': 778, 'toa': 7582, 'payoh': 5603, '650': 671, '08718726970': 162, 'payments': 5602, 'fedex': 3087, 'reception': 6164, 'hate': 3682, 'consensus': 2181, 'entertain': 2881, 'delete': 2469, 'tag': 7325, 'wednesday': 8125, 'skype': 6799, 'laundry': 4430, 'underwear': 7812, 'bras': 1641, 'strewn': 7140, 'pillows': 5702, 'waheed': 8033, 'fathima': 3070, 'mmmm': 4969, 'weaknesses': 8107, 'pushes': 6031, 'knee': 4339, 'exposes': 3004, 'pulls': 6013, 'wicked': 8186, 'supports': 7253, 'srt': 7034, 'thnk': 7504, 'ps3': 5996, 'jontin': 4221, 'nearly': 5168, 'banned': 1361, 'biro': 1508, 'masters': 4801, '09058094594': 208, 'shell': 6658, 'unconsciously': 7804, 'avoiding': 1295, 'unhappy': 7821, 'excuse': 2972, 'jog': 4206, '0776xxxxxxx': 34, '18yrs': 373, '09061743811': 231, 'abta': 877, '326': 509, 'season': 6544, 'lark': 4415, '09090900040': 281, 'extreme': 3012, 'sic': 6734, '7mp': 725, '0870753331018': 100, 'fones': 3221, 'wild': 8198, 'stop2stop': 7114, 'uh': 7780, 'heads': 3705, 'lim': 4520, 'vday': 7933, 'parachute': 5545, 'placed': 5717, '80182': 741, '08452810073': 76, 'table': 7318, 'lambda': 4391, 'build': 1720, 'snowman': 6877, 'angels': 1082, 'snowball': 6875, 'fights': 3121, 'ello': 2834, 'ikea': 3959, 'ofice': 5367, 'cn': 2064, 'duffer': 2747, 'grr': 3579, 'prescription': 5895, 'pharmacy': 5661, 'cook': 2213, 'electricity': 2831, '08715500022': 145, 'rpl': 6393, 'cnl': 2065, 'fffff': 3107, 'kadeem': 4261, 'fujitsu': 3337, 'lifebook': 4501, 'scold': 6515, 'zhong': 8434, 'se': 6540, 'qing': 6043, 'act': 910, 'hypertension': 3920, 'wud': 8327, 'annoyin': 1094, '08702490080': 91, '09066358152': 259, 'prompts': 5974, 'vpod': 8009, 'carry': 1842, 'disturbing': 2614, 'avatar': 1286, 'nigro': 5234, 'scratching': 6528, 'anyplaces': 1114, 'stops': 7119, 'cleaning': 2029, 'priority': 5928, 'constantly': 2189, 'ecstasy': 2791, '09090204448': 280, 'minded': 4919, 'minapn': 4917, 'ls278bb': 4661, 'flies': 3180, 'hittng': 3783, 'reflex': 6193, 'costa': 2237, 'sol': 6887, '09050090044': 196, 'toclaim': 7587, 'pobox334': 5764, 'stockport': 7104, 'max10mins': 4822, 'lousy': 4636, 'cat': 1857, 'woken': 8256, 'hip': 3774, 'adewale': 932, 'aka': 1012, 'egbon': 2812, 'ic': 3931, 'mary': 4794, 'deduct': 2448, 'wrks': 8314, 'monkey': 5011, 'asshole': 1228, 'grab': 3532, 'sliding': 6817, '09065394973': 255, 'payback': 5596, 'honeybee': 3820, 'sweetest': 7291, 'laughed': 4427, 'havnt': 3698, 'crack': 2271, 'tescos': 7429, 'feathery': 3082, 'bowa': 1606, 'infra': 4033, 'nvm': 5321, 'gep': 3423, 'delhi': 2471, 'thinkin': 7494, '2006': 404, 'fifa': 3116, 'held': 3729, '87239': 798, 'boat': 1564, 'moms': 5005, 'shhhhh': 6664, 'related': 6211, 'arul': 1205, 'amk': 1058, '09061743810': 230, 'length': 4474, 'fringe': 3309, 'distract': 2611, 'antha': 1107, 'corrct': 2228, 'dane': 2387, 'basket': 1384, 'proof': 5976, 'rupaul': 6419, '61610': 662, '08712400602450p': 115, 'provided': 5989, 'tones2you': 7614, 'practising': 5861, 'curtsey': 2349, 'yeh': 8379, 'payed2day': 5598, 'havbeen': 3690, 'rise': 6349, '4my': 602, 'havebeen': 3691, 'preschoolco': 5892, 'ordinator': 5447, '2i': 454, 'feelingood': 3092, 'memory': 4871, 'converted': 2206, 'downloads': 2690, 'members': 4867, 'african': 970, 'soil': 6885, 'major': 4745, 'roles': 6369, 'outreach': 5481, 'mel': 4861, 'birth': 1509, '8lb': 821, '7oz': 726, 'brilliantly': 1670, 'forwarding': 3260, 'intention': 4065, 'visitors': 7987, 'rules': 6411, 'responsibility': 6294, 'bend': 1464, 'rule': 6410, 'thia': 7489, 'inlude': 4039, 'previews': 5911, 'freefone': 3284, '08006344447': 64, 'ambrith': 1054, 'madurai': 4725, 'dha': 2530, 'marrge': 4787, 'kitty': 4336, 'shaved': 6651, 'natural': 5153, 'onwards': 5410, 'tactful': 7323, 'tscs': 7722, 'skillgame': 6790, '1winaweek': 394, '150ppermesssubscription': 355, 'theatre': 7468, 'obviously': 5342, 'eggs': 2814, 'pert': 5650, 'crammed': 2273, 'satsgettin': 6485, '47per': 582, 'lie': 4498, 'apologize': 1130, 'pei': 5616, 'kid': 4312, 'boost': 1588, 'subtoitles': 7196, 'sitting': 6780, 'jot': 4225, 'cereals': 1888, 'gari': 3383, 'infernal': 4027, 'affair': 960, 'including': 4004, 'bold2': 1571, 'calicut': 1776, '09094100151': 282, 'cast': 1853, 'aom': 1120, 'gbp5': 3401, 'box61': 1623, 'm60': 4700, '1er': 380, 'thkin': 7502, 'parco': 5552, 'nb': 5160, 'resubbing': 6302, 'shadow': 6630, 'breadstick': 1648, 'ahmad': 994, 'saeed': 6438, 'hallaq': 3636, '09066362220': 263, 'box97n7qp': 1625, 'purple': 6026, 'pink': 5705, 'lyk': 4690, 'yelow': 8382, 'bck': 1407, 'brown': 1692, 'giv': 3453, 'color': 2098, 'arranging': 1194, 'eldest': 2828, 'drugdealer': 2728, 'gender': 3410, 'wither': 8233, '23f': 417, '23g': 418, 'sleepwell': 6811, 'wondarfull': 8262, 'web2mobile': 8115, 'txt250': 7755, 'box139': 1611, 'la32wu': 4377, 'txtx': 7766, 'normally': 5277, 'onbus': 5399, 'donyt': 2671, 'latelyxxx': 4421, '85233': 782, 'mca': 4830, 'rich': 6330, 'justthought': 4254, 'sayhey': 6497, 'endof': 2857, 'offdam': 5356, 'nevamind': 5205, '2hook': 452, 'uwant': 7906, 'm8': 4701, 'official': 5364, 'flag': 3169, 'yer': 8386, '84199': 775, 'eng': 2863, 'box39822': 1618, 'w111wx': 8015, 'yor': 8401, 'stressed': 7136, 'jason': 4163, 'soooo': 6918, 'provider': 5990, 'tming': 7573, 'subs': 7184, 'cutest': 2361, 'dice': 2542, 'art': 1201, 'inclusive': 4005, '08700469649': 80, 'box420': 1620, 'howda': 3867, 'mathe': 4809, 'samachara': 6457, 'audrie': 1269, 'autocorrect': 1280, 'simulate': 6758, 'readiness': 6128, 'armand': 1185, 'vomiting': 8003, 'rub': 6403, 'feet': 3096, 'lara': 4411, 'supplies': 7250, 'clever': 2035, 'guesses': 3596, 'attach': 1250, '087123002209am': 112, 'med': 4846, 'stamped': 7046, '113': 314, 'bray': 1644, 'wicklow': 8188, 'eire': 2820, 'washob': 8077, 'nobbing': 5251, 'nickey': 5224, 'platt': 5729, 'ryan': 6426, 'vikky': 7967, 'idew': 3946, 'argh': 1175, 'spotty': 7015, 'province': 5992, 'sterling': 7090, 'looked': 4607, 'xam': 8338, 'hall': 3634, 'manage': 4757, 'hesitation': 3755, 'intha': 4076, 'ponnungale': 5796, 'ipaditan': 4096, 'rejected': 6210, 'shitload': 6681, 'diamonds': 2540, 'tessy': 7430, 'favor': 3076, 'nimya': 5238, 'shijas': 6666, 'aunty': 1275, 'china': 1978, 'noisy': 5256, 'needa': 5177, 'mcat': 4831, 'manual': 4771, 'reset': 6280, 'troubleshooting': 7705, 'b4u': 1316, '27': 431, 'marsms': 4791, 'b4utele': 1317, '08717168528': 148, 'strongly': 7149, 'sacrifice': 6435, 'beg': 1443, 'expecting': 2989, 'creativity': 2288, 'stifled': 7098, 'morphine': 5030, 'requirements': 6271, 'stayin': 7074, '2getha': 448, 'buffy': 1718, 'satisfy': 6484, 'pix': 5712, 'qlynnbv': 6045, 'help08700621170150p': 3738, '30': 488, 'cld': 2027, 'prefer': 5881, 'nosh': 5282, 'waaaat': 8027, 'lololo': 4596, 'occupied': 5344, 'kindly': 4324, 'documents': 2636, 'submitted': 7181, 'stapati': 7052, 'miles': 4909, 'cutie': 2362, 'hills': 3770, 'killed': 4318, 'colleagues': 2091, 'sed': 6559, 'mood': 5022, 'minuts': 4934, 'latr': 4425, 'kidz': 4315, 'sofa': 6882, 'honesty': 3818, 'specialisation': 6963, 'labor': 4379, 'shakara': 6635, 'beggar': 1444, 'smashed': 6839, 'dent': 2485, 'crickiting': 2298, 'imin': 3976, 'dontmatter': 2669, 'urgoin': 7876, 'outl8r': 5479, 'reallyneed': 6141, '2docd': 443, 'dontplease': 2670, 'dontignore': 2668, 'mycalls': 5110, 'thecd': 7469, 'isv': 4121, 'tome': 7605, 'yavnt': 8370, 'popping': 5808, 'ibuprofens': 3930, 'sip': 6767, 'ps': 5995, 'grown': 3577, 'chinatown': 1979, 'porridge': 5810, 'claypot': 2026, 'yam': 8365, 'fishhead': 3159, 'beehoon': 1437, 'tok': 7594, 'specific': 6966, 'jaklin': 4149, 'nearby': 5166, 'cliffs': 2038, '49': 586, 'ntwk': 5306, 'bundle': 1727, 'deals': 2425, 'avble': 1287, 'mf': 4895, 'pages': 5518, 'figures': 3123, 'ooh': 5412, '4got': 596, 'moseley': 5032, 'weds': 8126, 'thankyou': 7458, 'pending': 5620, 'aluable': 1048, 'ffectionate': 3106, 'oveable': 5489, 'ternal': 7423, 'oble': 5339, 'ruthful': 6422, 'ntimate': 5304, 'atural': 1264, 'namous': 5135, 'textin': 7444, 'cousin': 2260, 'frndship': 3314, 'excuses': 2974, 'raji': 6084, 'legs': 4469, 'neck': 5173, 'amigos': 1057, 'burn': 1734, 'progress': 5961, 'continue': 2199, 'holy': 3812, 'weren': 8155, 'arty': 1204, 'collages': 2089, 'tryin': 7718, 'billion': 1498, 'classes': 2023, '2hrs': 453, 'waliking': 8044, 'cartons': 1845, 'shelves': 6659, '08714712379': 132, 'distance': 2610, 'mirror': 4936, 'youre': 8408, 'turning': 7742, 'freak': 3275, 'ref': 6186, 'k718': 4259, '09065069120': 250, 'jod': 4205, 'keris': 4297, 'smidgin': 6844, 'belive': 1453, 'intentions': 4066, 'slots': 6824, 'accordin': 896, 'discussed': 2603, 'knocking': 4344, 'como': 2122, 'listened2the': 4548, 'plaid': 5720, 'air1': 1003, 'hilarious': 3768, 'braindance': 1635, 'ofstuff': 5369, 'aphex': 1125, 'abel': 862, 'hav2hear': 3688, 'nelson': 5191, 'temp': 7410, 'unmits': 7838, 'display': 2609, 'newspapers': 5217, 'soup': 6938, 'yummmm': 8420, 'management': 4760, 'puzzeles': 6036, 'include': 4002, '4goten': 597, 'scammers': 6504, 'regular': 6209, 'prem': 5883, '2morro': 460, 'passion': 5575, '09099726481': 290, 'dena': 2482, 'spoiled': 7000, 'r836': 6067, '09065069154': 251, 'threats': 7515, 'sales': 6450, 'shifad': 6665, 'raised': 6081, 'complaint': 2134, 'doctors': 2635, 'reminds': 6236, 'lounge': 4635, 'lk': 4564, 'role': 6368, 'lov': 4637, 'tolerat': 7601, 'bcs': 1413, 'comfort': 2112, 'checked': 1937, 'splashmobile': 6994, 'subscrition': 7194, '300p': 493, 'dust': 2758, 'u4': 7773, '01223585334': 7, '2c': 440, 'shagged': 6632, '8552': 783, '2end': 444, '88877': 808, '88066': 802, '3pound': 536, 'watchin': 8087, 'meaningless': 4839, 'brdget': 1646, 'jones': 4220, 'inever': 4024, 'hype': 3919, '700': 702, 'studio': 7162, 'bedrm': 1434, 'unable': 7795, 'waited': 8038, 'velly': 7940, 'wkend': 8240, 'huge': 3886, 'marking': 4785, 'letters': 4487, 'mids': 4904, 'oranges': 5442, 'upd8': 7853, '2stoptx': 476, 'annie': 1089, 'remind': 6232, '08718738034': 173, '21870000': 411, 'mailbox': 4739, 'messaging': 4889, '09056242159': 199, 'retrieve': 6310, 'va': 7908, 'hrishi': 3876, 'nothin': 5287, 'hanger': 3650, 'poem': 5777, 'cheer': 1943, 'tear': 7386, 'duchess': 2742, 'cornwall': 2226, '008704050406': 3, 'arrow': 1199, 'bags': 1338, 'blanket': 1529, '08718726971': 163, 'tddnewsletter': 7377, 'emc1': 2843, 'thedailydraw': 7470, 'dozens': 2694, 'prizeswith': 5937, 'significant': 6743, 'waqt': 8069, 'pehle': 5615, 'naseeb': 5143, 'zyada': 8440, 'kisi': 4330, 'ko': 4350, 'kuch': 4364, 'nahi': 5125, 'milta': 4914, 'zindgi': 8435, 'wo': 8252, 'jo': 4199, 'hum': 3893, 'sochte': 6880, 'jeetey': 4175, 'worse': 8292, 'stalking': 7045, 'dan': 2382, 'reminded': 6233, 'varaya': 7922, 'elaya': 2827, '09066368753': 270, '97n7qp': 839, 'anand': 1076, 'beach': 1418, 'expected': 2988, 'aww': 1305, 'jez': 4192, 'iscoming': 4112, 'todo': 7590, 'workand': 8280, 'whilltake': 8178, 'zogtorius': 8437, 'staring': 7055, 'financial': 3139, 'alian': 1031, 'or2optout': 5438, 'hv9d': 3915, 'posible': 5818, 'century': 1886, 'cm': 2060, 'frwd': 3326, 'unnecessarily': 7839, 'affectionate': 963, 'sorts': 6929, 'restrictions': 6301, 'buddys': 1713, '80082': 736, '08712402902': 120, 'owned': 5503, 'possessive': 5823, 'clarification': 2017, 'spook': 7006, 'halloween': 3637, '08701417012150p': 85, 'issue': 4119, 'weigh': 8135, 'fantasy': 3058, 'football': 3228, 'sky': 6797, 'gamestar': 3373, 'active': 917, '250k': 425, 'scoring': 6520, '88088': 803, 'coimbatore': 2081, 'expired': 2996, 'monoc': 5015, 'monos': 5016, 'polyc': 5790, 'stream': 7133, '0871212025016': 110, 'opinions': 5426, 'categories': 1861, 'measure': 4842, 'ethnicity': 2926, 'census': 1883, 'transcribing': 7670, 'propsd': 5983, 'gv': 3611, 'lv': 4685, 'lttrs': 4665, 'threw': 7516, 'thm': 7503, 'aproach': 1158, 'dt': 2738, 'truck': 7708, 'speeding': 6972, 'wn': 8249, 'instantly': 4058, 'thy': 7531, 'lived': 4559, 'happily': 3665, '2gthr': 451, 'drinking': 2713, 'evrydy': 2961, 'paragon': 5547, 'arent': 1170, 'cakes': 1771, 'bluff': 1559, 'impossible': 3988, 'draws': 2703, 'goodmate': 3501, 'sary': 6477, 'asusual': 1241, 'cheered': 1944, 'franyxxxxx': 3273, 'batt': 1395, 'added': 926, 'pussy': 6032, 'becausethey': 1428, '09058098002': 215, 'pobox1': 5759, 'w14rg': 8016, 'responce': 6289, 'happend': 3658, 'piece': 5695, 'wiskey': 8230, 'brandy': 1640, 'rum': 6412, 'gin': 3447, 'vodka': 7996, 'scotch': 6521, 'shampain': 6641, 'kudi': 4365, 'yarasu': 8368, 'dhina': 2532, 'vaazhthukkal': 7909, 'gained': 3365, 'kg': 4304, 'sugar': 7213, 'pressure': 5904, 'limits': 4524, 'dumb': 2749, 'thangam': 7452, 'okey': 5381, 'doke': 2655, 'dressed': 2709, 'laying': 4438, 'kills': 4320, 'neshanth': 5194, 'byatch': 1762, 'whassup': 8167, 'kay': 4283, 'roger': 6367, 'cl': 2012, 'nasty': 5144, 'filthyguys': 3134, 'slo': 6822, '4msgs': 600, 'wasted': 8081, 'chiong': 1984, 'christ': 1999, 'dialogue': 2538, 'reltnship': 6222, 'wipe': 8219, 'tears': 7387, 'solve': 6891, 'murdered': 5094, 'police': 5785, 'questioned': 6053, 'cooking': 2216, 'gardener': 3382, 'vegetables': 7936, 'maid': 4737, 'neighbour': 5190, 'murderer': 5095, 'brilliant': 1669, 'pose': 5816, 'comb': 2105, 'dryer': 2736, 'fps': 3266, 'computational': 2147, 'science': 6514, 'push': 6029, 'answered': 1101, 'madam': 4721, 'disturbance': 2613, 'dlf': 2624, 'premarica': 5884, 'rgds': 6325, 'gotto': 3523, '220cm2': 415, 'settle': 6613, 'err': 2907, '8pm': 823, 'bloo': 1548, 'hitter': 3782, 'offline': 5366, 'anjola': 1087, 'asjesus': 1215, 'wrote': 8319, 'indians': 4020, 'swiss': 7300, 'directors': 2585, 'lac': 4380, 'crore': 2302, 'deposited': 2496, 'taxless': 7368, 'budget': 1714, 'jobs': 4202, 'lane': 4402, 'suply': 7247, 'projects': 5963, 'citizen': 2009, 'imf': 3974, 'blocked': 1541, 'politicians': 5786, 'rights': 6337, 'corrupt': 2232, 'itna': 4127, 'karo': 4278, 'ki': 4306, 'pura': 6021, 'padhe': 5516, 'torrents': 7638, 'particularly': 5563, 'slowing': 6828, 'commit': 2119, 'random': 6095, '83370': 766, 'trivia': 7702, 'rightio': 6335, 'brum': 1699, 'donno': 2665, 'scorable': 6517, 'paranoid': 5549, 'brin': 1671, 'properly': 5979, 'sheet': 6654, 'complain': 2132, 'bettr': 1478, 'bsnl': 1703, 'offc': 5354, 'payed': 5597, 'suganya': 7212, 'dessert': 2513, 'abeg': 861, 'sponsors': 7004, 'onum': 5409, 'poet': 5778, 'imagination': 3971, 'rr': 6395, 'famamus': 3047, '630': 667, 'sry': 7035, 'furniture': 3352, 'lock': 4581, 'locks': 4582, 'key': 4299, 'jenne': 4179, 'easiest': 2776, 'barcelona': 1367, 'ru': 6402, 'sppok': 7017, '09066612661': 273, 'complementary': 2135, 'wa14': 8026, '2px': 473, 'pansy': 5535, 'jungle': 4246, 'kanji': 4273, 'srs': 7032, 'drizzling': 2720, 'appointments': 1145, 'shoving': 6710, 'papers': 5542, 'greetings': 3563, 'excused': 2973, 'drama': 2698, 'struggling': 7152, 'strange': 7131, 'ego': 2815, 'necessity': 5172, 'reppurcussions': 6264, 'released': 6217, 'cosign': 2235, 'hvae': 3916, '09061701444': 223, 'acl03530150pm': 907, 'hcl': 3699, 'requires': 6272, 'freshers': 3296, 'suman': 7225, 'telephonic': 7400, 'indyarocks': 4023, 'dai': 2378, 'resume': 6306, 'cars': 1844, 'bids': 1491, 'reliant': 6218, 'fwiw': 3356, 'afford': 966, 'happens': 3662, 'whr': 8184, 'maga': 4727, 'sq825': 7026, 'arrival': 1196, 'yunny': 8423, 'citylink': 2011, 'er': 2900, 'props': 5982, 'pleasant': 5738, 'statements': 7069, '6230': 664, '83383': 767, 'pobox114': 5760, '14tcr': 347, 'bognor': 1569, 'splendid': 6996, 'ktv': 4363, 'misplaced': 4942, 'computers': 2150, 'mmmmm': 4970, 'medicine': 4848, 'begun': 1448, 'registration': 6206, 'permanent': 5636, 'residency': 6281, 'plenty': 5743, 'relatives': 6214, 'deliver': 2473, 'risks': 6351, 'benefits': 1467, 'predicting': 5878, 'accumulation': 901, 'programs': 5960, 'belongs': 1459, 'fated': 3068, 'shoranur': 6694, 'incident': 4000, 'fuelled': 3336, 'concern': 2156, 'prior': 5927, 'grief': 3564, 'violence': 7974, 'environment': 2894, 'terrific': 7425, 'text82228': 7438, 'txt82228': 7757, 'honestly': 3817, 'promptly': 5973, 'burnt': 1737, 'advice': 953, 'snap': 6865, 'quizclub': 6063, '80122300p': 738, 'rwm': 6425, '08704050406': 93, 'gmw': 3467, 'connected': 2177, 'someplace': 6897, 'goods': 3507, 'pressies': 5903, 'dr': 2696, 'superior': 7245, 'ultimately': 7788, 'tor': 7636, 'motive': 5037, 'tui': 7732, 'achieve': 904, 'korli': 4358, 'dock': 2631, 'rolled': 6370, 'newscaster': 5215, 'dabbles': 2373, 'flute': 3201, 'wheel': 8171, 'amazing': 1052, 'picsfree1': 5691, 'vid': 7957, 'keyword': 4302, 'ruin': 6408, 'erm': 2904, 'the4th': 7465, 'october': 5350, '83435': 768, 'elaborating': 2824, 'safety': 6441, 'aspects': 1225, 'issues': 4120, 'tarot': 7355, '85555': 784, 'department': 2491, 'hr': 3875, 'conform': 2170, 'horniest': 3841, 'instructions': 4061, '3lp': 531, 'flow': 3194, 'developed': 2523, 'ovarian': 5488, 'cysts': 2369, 'bc': 1405, 'shrink': 6721, 'upping': 7862, 'grams': 3537, 'timin': 7549, 'apes': 1123, 'death': 2430, 'ibm': 3927, 'hp': 3872, 'toshiba': 7642, 'gosh': 3512, 'spose': 7013, 'rimac': 6339, 'arestaurant': 1171, 'squid': 7030, 'dosomething': 2679, 'wrk': 8311, 'dabooks': 2374, 'hrs': 3877, 'eachother': 2766, 'luckily': 4668, 'starring': 7056, 'restocked': 6299, 'knock': 4343, 'tkls': 7568, 'stoptxtstop': 7121, 'innocent': 4043, 'mental': 4874, 'smoothly': 6856, 'hoped': 3832, 'bills': 1499, 'challenging': 1897, '2marrow': 457, 'hon': 3815, 'breakfast': 1651, 'hamper': 3639, 'cc100p': 1870, 'reality': 6136, '0870737910216yrs': 97, 'unni': 7840, 'lacking': 4381, 'particular': 5562, 'dramastorm': 2699, 'forfeit': 3239, 'treated': 7688, 'digi': 2564, 'fab': 3019, 'coupla': 2253, 'wks': 8245, '077xxx': 37, '09066362206': 262, 'sundayish': 7234, 'prasad': 5867, 'tiwary': 7564, 'rcb': 6113, 'battle': 1397, 'bang': 1355, 'kochi': 4351, 'cancer': 1808, 'checkup': 1941, 'pap': 5539, 'smear': 6840, 'gobi': 3476, 'arts': 1203, 'pandy': 5531, '4w': 611, 'technologies': 7392, 'olowoyey': 5394, 'usc': 7885, 'edu': 2798, 'argentina': 1174, 'secretary': 6551, 'taxt': 7369, 'massage': 4797, 'tie': 7535, 'pos': 5815, 'lool': 4611, 'dollar': 2658, 'pull': 6011, 'spending': 6978, 'shaking': 6638, 'booty': 1589, 'lil': 4518, 'scarcasim': 6505, 'naal': 5120, 'eruku': 2911, 'w4': 8022, '5wq': 653, 'remains': 6225, 'bro': 1680, 'bros': 1686, 'impressively': 3993, 'sensible': 6592, '69696': 680, 'response': 6292, 'nalla': 5128, 'obedient': 5335, 'ft': 3328, 'combination': 2106, 'needy': 5182, 'pouts': 5845, 'stomps': 7107, 'northampton': 5279, 'abj': 867, 'serving': 6608, 'playng': 5736, 'mcfly': 4832, 'ab': 858, 'sara': 6471, 'jorge': 4223, 'smith': 6850, 'anna': 1088, 'nagar': 5123, 'yupz': 8427, 'ericson': 2902, 'der': 2500, 'luks': 4673, 'modl': 4994, 'cheesy': 1948, 'frosty': 3324, 'witin': 8234, 'sports': 7011, 'fans': 3055, '0870141701216': 86, '120p': 325, '10th': 311, 'sept': 6599, '09050000555': 188, 'ba128nnfwfly150ppm': 1319, 'shirts': 6676, 'nudist': 5308, 'themed': 7473, 'pump': 6014, 'petrol': 5657, 'feb': 3084, 'ignore': 3955, 'evr': 2957, 'signal': 6741, 'unusual': 7850, 'hugs': 3889, 'snogs': 6871, 'west': 8159, 'palm': 5527, 'printing': 5926, 'handing': 3643, 'uks': 7786, 'fastest': 3066, 'growing': 3576, '83021': 757, 'chase': 1922, 'stated': 7067, 'tariffs': 7354, '2stoptxt': 477, 'perpetual': 5639, 'dd': 2420, 'steam': 7082, 'reg': 6199, 'pract': 5856, 'flung': 3199, 'public': 6007, 'govt': 3525, 'instituitions': 4060, 'justbeen': 4251, 'overa': 5490, 'brains': 1637, 'mush': 5097, 'tunde': 7736, 'missions': 4949, 'luxury': 4684, 'canary': 1804, '20m12aq': 408, 'eh74rr': 2817, 'sleepy': 6812, 'dare': 2392, 'ben': 1463, 'mag': 4726, 'avo': 1293, 'middle': 4902, 'crashed': 2277, 'cuddled': 2333, 'chachi': 1893, 'pl': 5715, 'tiz': 7566, 'kanagu': 4271, 'prices': 5916, 'ringing': 6341, 'houseful': 3862, 'brats': 1642, 'pulling': 6012, 'diwali': 2619, 'tick': 7532, 'onion': 5404, 'derp': 2502, 'abusers': 880, 'lipo': 4542, 'netflix': 5197, 'thgt': 7488, 'clash': 2021, 'arr': 1192, 'oscar': 5463, 'rebtel': 6153, 'firefox': 3153, 'lower': 4653, '69969': 688, 'bcmsfwc1n3xx': 1411, 'impressed': 3991, 'funs': 3351, 'footy': 3232, 'stadium': 7039, 'large': 4413, 'coca': 2072, 'cola': 2085, 'dark': 2393, 'teenager': 7394, 'exhaust': 2979, 'replacing': 6257, 'mittelschmertz': 4959, 'paracetamol': 5544, 'pee': 5613, 'arrived': 1198, 'cthen': 2322, 'enuff': 2892, 'conclusion': 2159, 'contents': 2197, 'references': 6188, 'success': 7197, 'instant': 4057, '08715203028': 137, '9th': 848, 'rugby': 6407, 'affidavit': 965, 'twiggs': 7748, 'division': 2617, 'courtroom': 2259, 'creep': 2292, 'showers': 6714, 'possessiveness': 5824, 'poured': 5843, 'lies': 4499, 'golden': 3488, 'lasting': 4418, 'mobs': 4987, 'breathe1': 1657, 'crazyin': 2283, 'sleepingwith': 6809, 'finest': 3143, 'ymca': 8397, 'pobox365o4w45wq': 5766, 'wtc': 8322, 'weiyi': 8143, 'property': 5980, 'interflora': 4069, 'flowers': 3196, '505060': 619, 'teeth': 7395, 'paining': 5523, 'romcapspam': 6373, 'presence': 5896, 'outgoing': 5478, 'maggi': 4729, 'mee': 4850, '08712103738': 109, 'cough': 2244, '09058099801': 216, 'b4190604': 1314, '7876150ppm': 720, 'bbd': 1402, 'pooja': 5798, 'pimples': 5703, 'sweatter': 7289, 'ambitious': 1053, 'miiiiiiissssssssss': 4905, 'tunji': 7738, 'iz': 4137, 'yellow': 8381, 'misscall': 4944, 'frndz': 3317, '6missed': 694, 'frog': 3320, 'mad1': 4719, 'mad2': 4720, '88888': 809, 'tall': 7345, 'doubt': 2685, 'handle': 3644, 'note': 5284, 'robs': 6360, 'avenge': 1289, 'japanese': 4161, 'proverb': 5988, 'strike': 7142, 'choices': 1991, 'toss': 7643, 'coin': 2082, 'gudni8': 3591, 'dancin': 2385, 'explicitly': 3001, 'nora': 5271, 'gayle': 3394, 'crucify': 2308, 'moved': 5044, 'butting': 1748, 'freedom': 3282, 'vs': 8011, 'cedar': 1875, 'durham': 2756, 'reserved': 6278, 'seat': 6545, 'porn': 5809, '69855': 682, 'stopbcm': 7115, 'sf': 6625, 'painting': 5524, 'wall': 8051, 'printer': 5925, 'groovy': 3571, 'groovying': 3572, 'harish': 3674, 'transfred': 7675, 'acnt': 908, 'nowadays': 5298, 'showrooms': 6717, 'shaping': 6646, 'attending': 1257, 'talks': 7344, 'probs': 5947, 'doinat': 2652, 'callon': 1791, 'swatch': 7284, 'ganesh': 3375, 'dress': 2708, 'pdate_now': 5607, 'yhl': 8392, 'collecting': 2094, 'configure': 2166, 'trips': 7699, 'anal': 1074, 'pears': 5612, 'helloooo': 3736, 'welcomes': 8145, 'celebrate': 1878, 'oooooh': 5414, '09058094454': 203, '54': 638, 'resubmit': 6303, 'expiry': 2998, '2geva': 449, 'mint': 4930, 'humans': 3895, 'studyn': 7165, 'wuld': 8329, 'everyboy': 2944, 'xxxxxxxx': 8356, 'solved': 6892, '1thing': 391, 'answr': 1105, 'liquor': 4544, 'flaked': 3170, 'loko': 4593, '730': 706, 'lined': 4529, 'tm': 7572, 'ing': 4035, 'laughs': 4429, 'fireplace': 3154, 'icon': 3938, '08712400200': 114, 'fifth': 3117, 'woozles': 8274, 'weasels': 8112, '08718723815': 158, 'gary': 3385, 'machines': 4713, 'fucks': 3334, 'sake': 6445, 'ignorant': 3954, 'mys': 5114, 'bruce': 1698, 'downs': 2692, 'fletcher': 3178, '08714714011': 136, 'teaching': 7383, 'bowls': 1608, 'cozy': 2265, 'buzzzz': 1757, 'chest': 1956, 'vibrator': 7953, 'shake': 6636, 'covers': 2263, 'trends': 7694, 'pros': 5984, 'cons': 2180, 'brief': 1666, 'description': 2503, 'nuclear': 5307, 'fusion': 3353, 'history': 3777, 'iter': 4125, 'jet': 4189, 'ikno': 3960, 'doesdiscount': 2640, 'shitinnit': 6680, 'jabo': 4141, 'abi': 864, 'slower': 6827, 'maniac': 4769, 'sapna': 6469, 'manege': 4767, 'hogidhe': 3799, 'chinnu': 1983, 'swalpa': 7278, 'agidhane': 985, 'footbl': 3229, 'crckt': 2284, 'swell': 7295, 'tim': 7545, 'bollox': 1572, 'tol': 7597, 'hang': 3649, 'ingredients': 4036, 'pocy': 5775, 'bell': 1454, 'non': 5263, '4qf2': 603, 'senor': 6588, 'giggle': 3443, 'possibly': 5827, 'person2die': 5644, 'nvq': 5322, 'professional': 5954, 'tiger': 7537, 'woods': 8270, 'reboot': 6151, 'grinder': 3565, 'pt2': 6003, 'buyers': 1752, 'figuring': 3124, 'entirely': 2885, 'understood': 7811, 'phoned': 5674, 'disconnected': 2599, 'onluy': 5406, 'matters': 4817, 'offcampus': 5355, 'improved': 3995, 'riley': 6338, 'ew': 2962, 'wesley': 8157, 'lingo': 4533, '400mins': 546, 'j5q': 4139, 'hm': 3788, '69200': 678, 'chrgd': 1998, '2exit': 445, 'salon': 6454, 'approaching': 1149, 'sankranti': 6465, 'republic': 6266, 'shivratri': 6683, 'ugadi': 7777, 'fools': 3226, 'independence': 4015, 'teachers': 7381, 'childrens': 1973, 'festival': 3102, 'dasara': 2403, 'mornings': 5029, 'afternoons': 974, 'evenings': 2938, 'rememberi': 6229, 'raj': 6082, 'joys': 4228, 'lifeis': 4502, 'daywith': 2417, 'somewheresomeone': 6903, 'tosend': 7641, 'greeting': 3562, 'selflessness': 6575, 'initiate': 4037, 'tallent': 7347, 'wasting': 8082, 'payment': 5601, 'portal': 5812, 't4get2text': 7315, 'lennon': 4476, 'bothering': 1601, 'crab': 2270, 'shore': 6695, 'waves': 8099, 'footprints': 3231, 'clearing': 2033, 'fox': 3265, 'frndsship': 3316, 'dwn': 2762, 'slaaaaave': 6802, 'summon': 7229, '33': 510, 'changes': 1905, 'appendix': 1136, 'range': 6100, 'slob': 6823, 'smiled': 6846, 'topic': 7631, 'webpage': 8118, 'yeesh': 8378, 'unsubscribed': 7848, 'hunks': 3900, 'gotbabes': 3518, 'subscriptions': 7192, 'gopalettan': 3510, 'participate': 5561, 'admin': 935, 'abroad': 871, 'xxsp': 8348, 'visionsms': 7983, 'stopcost': 7116, '08712400603': 116, 'agent': 982, 'goodies': 3500, 'mat': 4802, 'ay': 1310, 'andros': 1081, 'steal': 7080, 'isaiah': 4111, 'meets': 4855, 'foot': 3227, 'penis': 5621, 'expert': 2995, 'sigh': 6737, 'thinl': 7498, 'importantly': 3986, 'tightly': 7539, 'wnevr': 8250, 'fal': 3040, 'vth': 8012, 'books': 1585, 'fals': 3046, 'yen': 8383, 'madodu': 4722, 'nav': 5158, 'pretsorginta': 5907, 'nammanna': 5134, 'pretsovru': 5908, 'alwa': 1049, 'eveb': 2936, 'window': 8206, 'lord': 4618, 'rings': 6342, 'soundtrack': 6937, 'stdtxtrate': 7078, 'sg': 6626, 'phyhcmk': 5682, 'pc1323': 5606, 'emigrated': 2846, 'hopeful': 3833, 'olol': 5393, 'stagwood': 7042, 'winterstone': 8218, 'victors': 7956, 'hill': 3769, 'jp': 4229, 'mofo': 4997, 'pathaya': 5584, 'enketa': 2874, 'maraikara': 4775, 'priest': 5918, 'reserves': 6279, 'intrude': 4079, 'walkabout': 8046, 'cashed': 1850, 'announced': 1092, 'blog': 1542, '28th': 435, 'removal': 6238, '08708034412': 102, 'prove': 5987, 'footie': 3230, 'blow': 1552, 'phil': 5666, 'neville': 5207, 'abbey': 859, 'returning': 6313, 'knowing': 4346, 'punj': 6018, 'str8': 7128, 'classic': 2024, '200p': 406, 'thurs': 7528, 'cancelled': 1807, 'sacked': 6434, 'lookatme': 4606, 'clip': 2039, '35p': 514, 'mmsto': 4973, '32323': 508, 'barred': 1374, 'twat': 7746, 'dungerees': 2752, 'decking': 2443, 'punch': 6015, 'mentionned': 4877, 'vat': 7929, 'planned': 5725, 'grl': 3568, 'hogolo': 3801, 'kodstini': 4352, 'agalla': 977, 'madstini': 4724, 'hogli': 3800, 'mutai': 5105, 'eerulli': 2807, 'kodthini': 4353, 'thasa': 7461, 'messed': 4890, 'shudvetold': 6726, 'urgran': 7877, 'neway': 5210, 'illspeak': 3966, 'u2moro': 7772, 'tex': 7434, 'mecause': 4845, 'werebored': 8154, 'okden': 5380, 'uin': 7782, 'likeyour': 4516, 'gr8fun': 3530, 'updat': 7854, 'countinlots': 2250, 'xxxxx': 8353, 'tagged': 7326, 'count': 2248, 'challenge': 1896, 'hdd': 3700, 'casing': 1852, 'opened': 5418, '09053750005': 198, '310303': 503, '08718725756': 159, '140ppm': 343, 'asus': 1240, 'randomly': 6097, 'reformat': 6194, 'otside': 5468, 'plumbers': 5748, 'tape': 7353, 'wrench': 8306, 'bcum': 1414, 'films': 3131, 'appeal': 1134, 'thriller': 7517, 'director': 2584, 'size': 6784, 'elephant': 2832, 'shove': 6709, 'um': 7790, 'cr': 2267, 'pookie': 5799, 'wouldn': 8301, 'nri': 5301, '08712101358': 108, 'x2': 8334, 'deserve': 2505, 'tight': 7538, 'lick': 4495, 'diddy': 2547, 'neighbor': 5188, 'toothpaste': 7629, 'av': 1281, 'poking': 5782, 'everyday': 2945, 'curious': 2345, 'coccooning': 2073, 'auto': 1279, 'mus': 5096, 'newquay': 5213, 'postcard': 5830, '1im': 382, 'talkin': 7342, 'bread': 1647, 'windy': 8209, '09066358361': 260, 'y87': 8359, 'mahal': 4734, 'tirunelvai': 7557, 'dusk': 2757, 'puzzles': 6037, 'x29': 8335, '09065989180': 256, 'stairs': 7043, 'phews': 5665, 'relation': 6212, 'luvs': 4682, 'praying': 5873, 'recycling': 6180, 'earning': 2772, 'toledo': 7599, 'ding': 2575, 'tai': 7328, 'feng': 3101, 'reservations': 6276, 'swimsuit': 7298, 'allowed': 1040, 'necessary': 5171, 'watever': 8091, 'shared': 6648, 'squeeeeeze': 7028, 'hug': 3885, 'lik': 4511, 'frndshp': 3315, 'luvd': 4681, 'asks': 1221, 'volcanoes': 8000, 'erupt': 2912, 'arise': 1181, 'hurricanes': 3904, 'sway': 7285, 'aroundn': 1191, 'disasters': 2594, 'lighters': 4509, 'lasagna': 4416, 'chickened': 1965, 'messaged': 4887, 'woould': 8273, '08718726978': 164, 'deus': 2521, '44': 563, '7732584351': 717, '3510i': 513, 'deliveredtomorrow': 2475, '300': 489, 'tap': 7352, 'spile': 6984, 'broad': 1681, 'canal': 1803, 'engin': 2867, 'edge': 2793, 'raviyog': 6108, 'peripherals': 5635, 'bhayandar': 1487, 'east': 2778, 'sunoco': 7237, 'howard': 3866, 'musical': 5100, 'plate': 5728, 'leftovers': 4465, 'starving': 7064, 'cooked': 2214, 'cheat': 1932, 'fatty': 3072, 'badrith': 1336, 'owe': 5500, 'checkin': 1938, 'block': 1540, 'armenia': 1186, 'swann': 7280, '09058097189': 213, '09061221066': 222, 'fromm': 3321, '330': 511, '1120': 313, '1205': 324, 'smoking': 6855, 'wylie': 8333, 'justify': 4253, 'ruining': 6409, 'meds': 4849, 'hunt': 3902, 'in2': 3997, '5226': 632, 'hava': 3689, '1131': 315, 'rct': 6115, 'thnq': 7505, 'adrian': 944, 'vatian': 7930, 'everyones': 2946, 'babysitting': 1329, 'gonnamissu': 3496, 'buttheres': 1747, 'aboutas': 870, 'merememberin': 4882, 'asthere': 1234, 'ofsi': 5368, 'breakin': 1652, 'yaxx': 8371, 'ee': 2804, 'poortiyagi': 5804, 'odalebeku': 5351, 'hanumanji': 3656, 'hanuman': 3655, 'bajarangabali': 1342, 'maruti': 4792, 'pavanaputra': 5592, 'sankatmochan': 6464, 'ramaduth': 6092, 'mahaveer': 4735, 'janarige': 4155, 'ivatte': 4132, 'kalisidare': 4267, 'olage': 5387, 'ondu': 5401, 'keluviri': 4291, 'maretare': 4778, 'inde': 4014, 'dodda': 2637, 'problum': 5945, 'nalli': 5129, 'siguviri': 6746, 'idu': 3950, 'matra': 4813, 'neglet': 5187, 'easily': 2777, 'ijust': 3958, 'talked': 7341, 'opps': 5431, 'gei': 3408, 'tron': 7703, 'dl': 2622, 'selfish': 6574, 'spiffing': 6983, 'workage': 8279, 'craving': 2280, 'supose': 7248, 'babysit': 1328, 'spaces': 6949, 'embassy': 2842, 'lightly': 4510, 'custom': 2353, 'checkboxes': 1936, 'sac': 6431, 'batsman': 1394, 'yetty': 8390, 'jiayin': 4195, '09050000928': 190, 'pobox45w2tg150p': 5767, 'forgotten': 3246, 'reverse': 6319, 'cheating': 1933, 'mathematics': 4810, '2waxsto': 481, 'basic': 1382, 'emailed': 2838, 'yifeng': 8394, 'slurp': 6831, 'minimum': 4923, '3miles': 532, 'brainless': 1636, 'doll': 2657, 'vehicle': 7938, 'sariyag': 6476, 'madoke': 4723, 'barolla': 1373, '07090201529': 25, 'postponed': 5834, 'stocked': 7103, 'elaine': 2825, 'tiime': 7542, 'afternon': 972, 'interviews': 4074, 'resizing': 6282, '09066364349': 266, 'box434sk38wp150ppm18': 1622, 'opposed': 5429, 'drunken': 2733, 'billed': 1496, 'shortcode': 6699, '83332': 763, '08081263000': 66, 'refunded': 6197, 'somerset': 6898, 'overtime': 5495, 'nigpun': 5233, 'dismissial': 2608, 'screwd': 6533, '08712402972': 121, 'bull': 1724, 'floating': 3189, 'mess': 4885, '09058095201': 212, 'heehee': 3726, 'arithmetic': 1183, 'percentages': 5626, 'chillaxin': 1976, 'das': 2402, 'iknow': 3961, 'wellda': 8146, 'peril': 5633, 'studentfinancial': 7159, 'crisis': 2300, 'monster': 5017, '____': 850, 'ths': 7524, 'ias': 3923, 'obey': 5337, 'uhhhhrmm': 7781, 'mb': 4828, '600': 656, '400': 545, 'deltomorrow': 2477, '09066368470': 269, '24m': 421, 'smartcall': 6836, '68866': 676, 'subscriptn3gbp': 7193, '08448714184': 72, 'landlineonly': 4398, 'mths': 5068, 'callback': 1780, 'orno': 5458, 'fink': 3150, '09099726553': 291, 'promised': 5968, 'carlie': 1835, 'minmobsmore': 4924, 'lkpobox177hp51fl': 4565, 'youphone': 8407, 'athome': 1244, 'youwanna': 8412, 'jack': 4142, 'helpful': 3741, 'pretend': 5906, 'hypotheticalhuagauahahuagahyuhagga': 3921, 'brainy': 1638, 'occasion': 5343, 'celebrated': 1879, 'reflection': 6192, 'values': 7920, 'desires': 2507, 'affections': 964, 'traditions': 7660, 'cantdo': 1812, 'anythingtomorrow': 1117, 'myparents': 5113, 'aretaking': 1172, 'outfor': 5477, 'katexxx': 4280, 'level': 4488, 'gate': 3388, '89105': 813, 'wedding': 8122, 'lingerie': 4532, 'bridal': 1663, 'petticoatdreams': 5658, 'weddingfriend': 8123, 'board': 1563, 'overheating': 5494, 'reslove': 6283, 'inst': 4053, 'western': 8160, 'outta': 5487, 'notixiquating': 5291, 'laxinorficated': 4435, 'bambling': 1352, 'entropication': 2888, 'oblisingately': 5340, 'opted': 5433, 'masteriastering': 4800, 'amplikater': 1066, 'fidalfication': 3112, 'champlaxigating': 1899, 'atrocious': 1249, 'wotz': 8298, 'junna': 4247, 'knickers': 4342, '01223585236': 6, 'nikiyu4': 5236, 'accident': 890, 'a30': 852, 'divert': 2616, 'wadebridge': 8029, 'vill': 7969, '1030': 306, 'orc': 5443, 'bloomberg': 1551, '447797706009': 567, 'careers': 1829, 'seeking': 6563, 'priscilla': 5929, 'wisdom': 8222, 'inform': 4030, 'wherre': 8177, 'phone750': 5672, 'resolution': 6284, 'frank': 3270, 'logoff': 4590, 'parkin': 5559, 'kent': 4293, 'vale': 7912, 'cann': 1810, 'asa': 1207, '09050000878': 189, 'wan2': 8059, 'westlife': 8161, 'unbreakable': 7797, 'untamed': 7849, 'unkempt': 7833, '83049': 759, 'prince': 5920, 'charming': 1919, 'mention': 4875, 'served': 6604, 'arnt': 1190, 'xxxxxxxxxxxxxx': 8357, 'dorothy': 2677, 'kiefer': 4316, 'granite': 3543, 'explosive': 3002, 'nasdaq': 5142, 'symbol': 7308, 'cdgt': 1873, 'alle': 1037, 'mone': 5008, 'eppolum': 2897, 'allalo': 1035, 'fundamentals': 3346, '1mega': 384, 'pixels': 5713, '3optical': 535, '5digital': 641, 'dooms': 2672, 'noi': 5253, 'js': 4230, 'burgundy': 1732, 'captaining': 1819, 'base': 1379, 'placement': 5718, 'amrita': 1068, 'profile': 5956, 'bpo': 1632, 'nighters': 5230, 'persevered': 5640, 'regretted': 6208, 'spouse': 7016, 'pmt': 5755, 'sumthin': 7230, '4give': 595, 'shldxxxx': 6685, 'scenario': 6508, 'spun': 7024, 'wrld': 8315, 'nytho': 5329, 'tx': 7753, 'fonin': 3222, '2mwen': 465, 'frmcloud': 3311, '09071517866': 278, '150ppmpobox10183bhamb64xe': 357, 'pounded': 5841, 'lion': 4537, 'devouring': 2528, 'airtel': 1005, 'broadband': 1682, 'processed': 5950, 'installation': 4055, 'tensed': 7416, 'coughing': 2245, 'warned': 8072, 'sprint': 7022, 'prolly': 5964, 'gower': 3526, 'morrow': 5031, 'chik': 1967, 'filth': 3132, '69669': 679, 'saristar': 6475, 'e14': 2765, '9yt': 849, '08701752560': 88, '450p': 574, 'stop2': 7113, '420': 556, '9061100010': 827, 'wire3': 8221, '1st4terms': 388, 'mobcudb': 4980, 'sabarish': 6430, 'jaya': 4166, '09050000460': 187, 'j89': 4140, 'box245c2150pm': 1613, 'inpersonation': 4046, 'flea': 3177, 'forums': 3257, 'banneduk': 1362, 'highest': 3767, 'maximum': 4825, '71': 703, 'taj': 7330, 'lesser': 4481, 'known': 4347, 'facts': 3026, 'mumtaz': 5089, 'shahjahan': 6634, 'wifes': 8193, 'arises': 1182, 'hari': 3673, '69101': 677, 'rtf': 6399, 'sphosting': 6980, 'webadres': 8116, 'geting': 3428, 'incredible': 4012, 'o2fwd': 5333, '18p': 372, 'ship': 6672, 'maturity': 4820, 'confirmed': 2169, 'passport': 5577, 'multiply': 5082, 'independently': 4016, 'showed': 6711, 'twins': 7751, 'strt': 7150, 'ltdhelpdesk': 4664, '02085076972': 13, 'equally': 2899, 'uneventful': 7816, 'pesky': 5652, 'cyclists': 2368, 'adi': 933, 'entey': 2883, 'nattil': 5152, 'kittum': 4335, 'kavalan': 4282, 'hire': 3776, 'hitman': 3780, '09066660100': 275, '2309': 416, 'cps': 2266, 'causing': 1865, 'outages': 5473, 'conserve': 2183, 'voted': 8005, 'epi': 2896, 'bare': 1368, 'bhaskar': 1486, 'dubsack': 2741, 'gong': 3494, 'kaypoh': 4284, 'basketball': 1385, 'outdoors': 5475, 'macho': 4714, 'interfued': 4070, 'blank': 1527, 'listed': 4546, 'apology': 1131, 'hustle': 3912, 'forth': 3254, 'audition': 1267, 'harlem': 3675, 'workout': 8283, 'fats': 3071, 'zac': 8428, 'tonights': 7619, 'hui': 3891, 'xin': 8342, 'lib': 4492, 'difference': 2558, 'versus': 7948, 'underdtand': 7808, 'muchxxlove': 5076, 'locaxx': 4580, '07090298926': 26, '9307622': 833, 'skateboarding': 6788, 'despite': 2512, 'thrown': 7522, 'winds': 8208, 'bandages': 1354, 'html': 3879, 'gbp4': 3400, 'mfl': 4896, '1146': 317, 'hectic': 3724, 'fell': 3097, 'swoop': 7303, 'wamma': 8057, 'doggin': 2646, 'dogs': 2649, 'langport': 4403, 'virtual': 7981, 'senthil': 6596, 'apnt': 1126, 'pants': 5538, 'go2sri': 3473, 'lanka': 4405, 'merely': 4881, 'relationship': 6213, 'wherevr': 8176, 'forevr': 3238, 'gudnyt': 3593, 'mistakes': 4955, 'plum': 5747, 'smacks': 6832, '50s': 630, 'alot': 1042, 'formatting': 3252, 'attracts': 1262, 'promotion': 5972, '8714714': 796, 'vegas': 7935, 'lou': 4633, 'lancaster': 4394, 'soc': 6879, 'bsn': 1702, 'advising': 955, 'lobby': 4576, 'texted': 7443, 'showered': 6713, 'ything': 8419, 'vewy': 7950, 'lubly': 4666, '087147123779am': 131, 'catches': 1859, 'specify': 6967, 'domain': 2662, 'nusstu': 5317, 'bari': 1370, 'hudgi': 3884, 'yorge': 8402, 'pataistha': 5581, 'ertini': 2910, 'hasbro': 3678, 'jump': 4243, 'hoops': 3829, 'ummifying': 7792, 'associate': 1230, 'rip': 6347, 'uterus': 7899, 'pool': 5800, 'jacuzzi': 4146, 'x49': 8336, '09065989182': 257, 'txtstar': 7763, '2nights': 468, 'uve': 7904, 'wildest': 8199, 'aldrine': 1020, 'rtm': 6400, 'sources': 6940, 'unhappiness': 7820, 'necesity': 5169, 'witout': 8236, 'colleg': 2096, 'wth': 8324, 'functions': 3344, 'events': 2940, 'espe': 2919, 'irritated': 4106, '4wrd': 613, 'wthout': 8325, 'takecare': 7332, 'univ': 7830, 'rajas': 6083, 'burrito': 1738, 'disconnect': 2598, 'terrorist': 7427, 'confirmd': 2168, 'verified': 7944, 'cnn': 2066, 'ibn': 3928, 'stitch': 7101, 'trouser': 7706, '146tf150p': 346, 'cheetos': 1949, 'synced': 7311, 'shangela': 6642, 'hppnss': 3874, 'sorrow': 6922, 'goodfriend': 3499, 'passes': 5574, '08704439680': 94, 'poo': 5797, 'gloucesterroad': 3465, 'uup': 7902, 'ouch': 5470, 'stayed': 7073, 'forgiveness': 3244, 'fruit': 3325, 'stone': 7108, 'glo': 3461, '09058095107': 211, 's3xy': 6428, 'wlcome': 8246, 'eaten': 2783, 'timi': 7548, 'mila': 4907, 'age23': 980, 'blonde': 1547, 'mtalk': 5066, '69866': 683, '30pp': 498, '5free': 642, 'increments': 4013, 'help08718728876': 3740, 'fishrman': 3160, 'sack': 6433, 'stones': 7110, 'strtd': 7151, 'throwin': 7520, 'atlast': 1246, '1stone': 390, '08717895698': 154, 'mobstorequiz10ppm': 4989, 'physics': 5683, 'praveesh': 5870, 'delicious': 2472, 'salad': 6446, 'desert': 2504, 'beers': 1441, 'whore': 8182, 'funk': 3348, 'tones2u': 7613, 'twinks': 7750, 'scallies': 6503, 'skins': 6793, 'jocks': 4204, '08712466669': 126, 'nat': 5145, 'flood': 3190, 'beads': 1419, 'wishlist': 8229, 'section': 6555, 'nitro': 5244, 'sold': 6889, 'creative': 2287, 'reffering': 6190, 'getiing': 3427, 'weirdy': 8142, 'brownies': 1694, '09061701851': 225, 'k61': 4258, '12hours': 333, 'restrict': 6300, 'funeral': 3347, 'vivek': 7991, '74355': 708, 'tnc': 7580, 'brah': 1633, 'possession': 5822, 'greece': 3559, 'protect': 5986, 'sib': 6733, 'sensitive': 6593, 'passwords': 5579, 'recorded': 6173, 'someday': 6895, 'grandfather': 3540, 'blu': 1555, 'concert': 2158, 'november': 5296, '09061104276': 217, '75max': 712, 'yuou': 8425, 'spot': 7014, 'ipad': 4095, 'bunch': 1726, 'lotto': 4631, 'bird': 1505, 'purchases': 6023, 'authorise': 1278, '45pm': 578, 'gimmi': 3446, 'goss': 3513, 'ystrday': 8418, 'chile': 1974, 'subletting': 7180, 'ammae': 1061, 'steering': 7085, 'sleeps': 6810, 'rounder': 6385, 'required': 6270, 'lambu': 4392, 'ji': 4193, 'batchlor': 1389, 'zoom': 8438, '62220cncl': 663, 'stopcs': 7117, '08717890890': 153, 'cheese': 1947, 'tms': 7578, 'widelive': 8190, 'index': 4017, 'wml': 8248, '1b6a5ecef91ff9': 377, '37819': 520, 'true18': 7710, '0430': 17, 'jul': 4238, 'xafter': 8337, 'cst': 2318, 'chg': 1960, 'pure': 6024, 'hearted': 3717, 'enemies': 2860, 'smiley': 6848, 'gail': 3362, 'yaxxx': 8372, 'theoretically': 7477, 'hooked': 3828, 'formally': 3250, 'multimedia': 5081, 'hsbc': 3878, 'vague': 7910, 'accounting': 899, 'delayed': 2468, 'housing': 3865, 'agency': 981, 'renting': 6247, 'presents': 5898, 'nicky': 5225, 'gumby': 3605, 'alto18': 1047, 'wave': 8097, 'asp': 1224, '44345': 566, 'sized': 6785, 'tarpon': 7356, 'springs': 7021, 'cab': 1765, 'steps': 7087, 'limited': 4522, 'hf8': 3758, '09061702893': 227, '08719181259': 176, '26': 428, 'radiator': 6070, 'proper': 5978, 'tongued': 7617, 'shorts': 6702, 'qi': 6042, 'suddenly': 7204, 'flurries': 3200, 'melt': 4865, 'eek': 2805, 'born': 1595, 'real1': 6132, 'pushbutton': 6030, 'dontcha': 2667, 'babygoodbye': 1326, 'golddigger': 3487, 'webeburnin': 8117, 'perform': 5629, 'cards': 1824, 'rebooting': 6152, 'nigh': 5228, 'nooooooo': 5268, 'cable': 1767, 'outage': 5472, 'sos': 6932, 'playin': 5734, 'guoyang': 3606, 'rahul': 6075, 'dengra': 2483, 'antelope': 1106, 'toplay': 7632, 'fieldof': 3114, 'selfindependence': 6573, 'contention': 2196, 'gnarls': 3469, 'barkleys': 1371, 'borderline': 1591, '545': 640, 'nightnight': 5231, 'possibility': 5825, 'grooved': 3570, 'affairs': 961, 'mising': 4941, 'secured': 6558, 'unsecured': 7843, '195': 374, '6669': 673, 'lanre': 4406, 'fakeye': 3039, 'eckankar': 2789, '3000': 490, '09061743386': 228, 'heater': 3720, 'degrees': 2463, 'dodgey': 2638, '674': 674, 'seing': 6568, 'asssssholeeee': 1231, 'ceri': 1889, 'rebel': 6150, 'dreamz': 2707, 'buddy': 1712, 'blokes': 1546, '84484': 776, 'nationwide': 5151, 'newport': 5212, 'juliana': 4240, 'nachos': 5121, 'eta': 2925, 'dizzamn': 2620, 'suitemates': 7220, 'nimbomsons': 5237, 'continent': 2198, 'housewives': 3863, '0871750': 150, '77': 716, 'landlines': 4399, '087104711148': 107, 'emerging': 2845, 'fiend': 3115, 'impede': 3983, 'hesitant': 3753, '60': 655, '400thousad': 547, 'nose': 5281, 'essay': 2922, 'tram': 7667, 'vic': 7954, 'coherently': 2080, 'triple': 7698, 'echo': 2788, 'gran': 3538, 'onlyfound': 5408, 'afew': 959, 'cusoon': 2350, 'honi': 3822, 'dial': 2536, 'bx526': 1761, 'university': 7831, 'southern': 6942, 'california': 1777, 'rayan': 6110, 'macleran': 4716, 'balls': 1350, 'olave': 5388, 'mandara': 4764, 'trishul': 7700, 'woo': 8268, 'hoo': 3824, 'panties': 5537, 'thout': 7513, '09066364311': 265, 'flatter': 3175, 'pints': 5706, 'carlin': 1836, 'literally': 4555, 'ciao': 2006, 'starve': 7063, 'impression': 3992, 'motivate': 5035, 'darkness': 2396, 'wknd': 8244, 'yalrigu': 8363, 'heltini': 3745, 'iyo': 4136, 'kothi': 4361, 'uttered': 7901, 'trusting': 7715, 'noice': 5254, 'esaplanade': 2914, 'accessible': 888, '08709501522': 105, '139': 339, 'la3': 4376, '2wu': 484, 'occurs': 5347, 'prof': 5953, 'sem': 6579, 'student': 7158, 'enna': 2875, 'kalaachutaarama': 4265, 'coco': 2077, 'sporadically': 7009, '09064017305': 246, 'pobox75ldns7': 5768, 'tbs': 7373, 'persolvo': 5642, '38': 521, 'kath': 4281, 'manchester': 4761, 'burden': 1730, 'noworriesloans': 5299, '08717111821': 147, 'actual': 920, 'harder': 3670, 'nbme': 5161, 'sickness': 6736, 'villa': 7970, 'sathya': 6482, 'gam': 3369, 'smash': 6838, 'religiously': 6220, 'heroes': 3750, 'tips': 7554, '07973788240': 50, '08715203649': 138, 'dealing': 2424, 'muhommad': 5079, 'penny': 5622, 'doc': 2630, 'fiting': 3162, 'load': 4572, 'mj': 4962, 'unconvinced': 7805, 'elaborate': 2823, 'willpower': 8202, 'value': 7918, 'absence': 872, 'answerin': 1102, 'reasonable': 6146, 'evey': 2950, 'mnth': 4975, 'prin': 5919, 'gsoh': 3583, 'spam': 6952, 'gigolo': 3444, 'mens': 4873, 'oncall': 5400, 'mjzgroup': 4963, '08714342399': 130, '50rcvd': 629, 'ashwini': 1212, '08707500020': 98, 'ukp': 7785, '09061790125': 235, 'thet': 7485, 'skinny': 6792, 'casting': 1854, 'elections': 2830, '116': 318, 'hlday': 3786, 'camp': 1799, 'amrca': 1067, 'serena': 6601, 'prescribed': 5893, 'kappa': 4275, 'meatballs': 4844, 'approve': 1151, 'panalam': 5529, 'spjanuary': 6990, 'fortune': 3255, 'allday': 1036, 'piss': 5708, 'perf': 5627, 'outsider': 5484, 'receipts': 6157, '98321561': 840, 'familiar': 3048, 'depression': 2498, 'infact': 4025, 'simpsons': 6757, 'band': 1353, 'shite': 6678, 'kip': 4329, 'hont': 3823, 'amanda': 1051, 'regard': 6201, 'renewing': 6244, 'upgrading': 7858, 'subject': 7179, 'nannys': 5139, 'puts': 6033, 'perspective': 5649, 'conveying': 2209, 'debating': 2431, 'wtlp': 8326, 'guessing': 3598, 'jb': 4170, 'florida': 3193, 'hidden': 3762, 'royal': 6391, 'tog': 7591, 'teams': 7385, 'swhrt': 7296, '0906346330': 240, '47': 579, 'po19': 5757, '2ez': 446, 'general': 3411, 'jetton': 4190, 'cmon': 2063, 'sticky': 7097, 'replies': 6259, 'lunsford': 4677, 'enjoying': 2873, '0796xxxxxx': 49, 'prizeawaiting': 5935, 'kfc': 4303, 'meals': 4835, 'gravy': 3551, '07008009200': 23, 'attended': 1256, 'mw': 5108, 'tuth': 7744, 'eviction': 2951, 'spiral': 6987, 'michael': 4900, 'riddance': 6331, 'suffers': 7209, 'raglan': 6074, 'edward': 2802, 'cricket': 2296, 'closeby': 2044, 'skye': 6798, 'bookedthe': 1582, 'hut': 3913, 'drastic': 2701, 'indicate': 4021, '3750': 519, 'garments': 3384, 'sez': 6624, 'arab': 1163, 'evry1': 2960, 'eshxxxxxxxxxxx': 2918, 'lay': 4436, 'bimbo': 1502, 'ugo': 7779, '3lions': 530, 'portege': 5813, 'm100': 4693, 'semiobscure': 6582, 'gprs': 3527, 'repeat': 6252, 'loosu': 4616, 'careless': 1832, 'freaking': 3277, 'myspace': 5115, 'logged': 4586, 'method': 4894, 'calculation': 1774, 'blur': 1560, 'clothes': 2050, 'jewelry': 4191, 'breaker': 1650, 'deluxe': 2478, 'features': 3083, 'graphics': 3545, 'bbdeluxe': 1403, 'lush': 4678, 'fumbling': 3341, '2find': 447, 'taunton': 7365, 'weekdays': 8130, 'haiz': 3631, 'nails': 5126, 'common': 2120, 'asia': 1213, 'greatest': 3556, 'courage': 2255, 'bear': 1420, 'defeat': 2455, 'stil': 7099, 'fucked': 3330, 'tobed': 7585, '430': 561, 'beauty': 1425, 'natalja': 5149, '440': 564, 'nat27081980': 5146, 'asthma': 1235, 'attack': 1252, 'ball': 1347, 'moving': 5049, 'spin': 6985, 'haiyoh': 3630, 'million': 4912, 'prsn': 5994, 'saves': 6493, 'sunlight': 7235, 'loss': 4623, 'audiitions': 1266, 'relocate': 6221, 'pocked': 5772, 'motivating': 5036, 'brison': 1676, 'spelled': 6975, 'caps': 1817, 'bullshit': 1725, 'motherfucker': 5034, 'kit': 4334, 'strip': 7144, '1013': 305, 'ig11': 3953, 'oja': 5376, '08712402578': 118, 'thesmszone': 7484, 'anonymous': 1096, 'masked': 4796, 'abuse': 879, 'woodland': 8269, 'avenue': 1291, 'parish': 5556, 'magazine': 4728, 'billy': 1500, 'jogging': 4207, 'awww': 1306, 'useless': 7889, 'loo': 4604, 'ed': 2792, 'shelf': 6657, 'swollen': 7302, 'glands': 3458, 'previous': 5912, 'captain': 1818, 'bcaz': 1406, 'stu': 7154, 'truble': 7707, 'evone': 2956, 'hates': 3683, 'mokka': 5000, 'view': 7964, 'gays': 3395, 'dual': 2739, 'hostile': 3851, 'haircut': 3628, 'breezy': 1661, '09061744553': 232, 'polyh': 5791, '1apple': 376, '1tulsi': 392, 'leaf': 4451, '1lemon': 383, '1cup': 378, 'bone': 1575, 'problms': 5944, 'litres': 4556, 'watr': 8094, 'diseases': 2604, 'snd': 6868, 'lavender': 4433, 'manky': 4770, 'scouse': 6524, 'steve': 7092, 'travelling': 7683, 'inmind': 4040, 'recreation': 6179, 'epsilon': 2898, 'mesages': 4884, 'judgemental': 4236, 'fridays': 3300, 'waheeda': 8034, 'bot': 1599, 'notes': 5286, 'eventually': 2941, 'tolerance': 7600, 'hits': 3781, '0789xxxxxxx': 47, 'hellogorgeous': 3735, 'lst': 4662, 'nitw': 5246, 'texd': 7436, 'hopeu': 3838, '4ward': 612, 'jaz': 4168, '09058091870': 202, 'exorcism': 2984, 'emily': 2847, 'evry': 2959, 'emotion': 2848, 'dsn': 2737, 'prayrs': 5874, 'othrwise': 5467, 'ujhhhhhhh': 7783, 'sandiago': 6461, 'parantella': 5550, 'hugging': 3887, 'sweater': 7288, 'mango': 4768, 'massive': 4799, 'involved': 4091, 'landmark': 4400, 'bob': 1566, 'barry': 1377, '83738': 770, 'absolutly': 874, 'consent': 2182, 'forms': 3253, 'tonexs': 7615, 'renewed': 6243, 'clubzed': 2058, 'billing': 1497, 'polo': 5787, '373': 518, 'w1j': 8018, '6hl': 691, 'mathews': 4811, 'tait': 7329, 'edwards': 2803, 'anderson': 1077, 'haunt': 3686, 'promoting': 5971, 'crowd': 2305, '8000930705': 733, 'snowboarding': 6876, 'christmassy': 2002, 'recpt': 6178, 'baaaaaaaabe': 1320, 'ignoring': 3956, 'shola': 6689, 'academic': 882, 'sagamu': 6442, 'lautech': 4432, 'vital': 7988, 'completes': 2139, 'education': 2799, 'zealand': 8430, 'qet': 6041, 'browser': 1696, 'surf': 7261, 'subscribers': 7190, 'convinced': 2211, 'conversations': 2205, 'senses': 6591, 'overemphasise': 5493, 'headset': 3706, 'adp': 942, 'internal': 4071, 'extract': 3011, 'immed': 3978, 'skint': 6794, 'fancied': 3052, 'bevies': 1480, 'waz': 8102, 'othrs': 5466, 'spoon': 7007, 'watchng': 8089, 'comfey': 2111, 'quitting': 6061, 'least5times': 4457, 'wudn': 8328, 'coast': 2069, 'frequently': 3294, 'cupboard': 2342, 'route': 6387, '2mro': 463, 'floppy': 3192, 'snappy': 6866, 'risk': 6350, 'grasp': 3546, 'flavour': 3176, 'laready': 4412, 'denying': 2490, 'dom': 2661, 'ffffuuuuuuu': 3109, 'julianaland': 4241, 'oblivious': 5341, 'dehydrated': 2464, 'mapquest': 4773, 'dogwood': 2650, 'tiny': 7552, 'parking': 5560, 'suppose': 7254, 'archive': 1166, '08719839835': 179, 'mgs': 4897, '89123': 814, 'lengths': 4475, 'behalf': 1449, 'stunning': 7171, 'visa': 7982, 'gucci': 3589, 'sozi': 6945, 'culdnt': 2336, 'talkbut': 7340, 'wannatell': 8062, 'wenwecan': 8152, 'smsing': 6859, 'efficient': 2810, 'explicit': 3000, 'secs': 6554, '02073162414': 12, '15pm': 363, 'erutupalam': 2913, 'thandiyachu': 7451, 'invention': 4081, 'lyrics': 4692, 'nevr': 5208, 'unrecognized': 7841, 'somone': 6905, 'valuing': 7921, 'definitly': 2460, 'undrstnd': 7813, 'ger': 3424, 'toking': 7596, 'syd': 7306, 'khelate': 4305, 'kintu': 4327, 'opponenter': 5427, 'dhorte': 2534, 'lage': 4387, 'fried': 3302, 'spares': 6955, 'looovvve': 4613, 'warwick': 8076, 'tmw': 7579, 'canceled': 1806, 'havn': 3697, 'tops': 7635, 'grandma': 3541, 'parade': 5546, 'proze': 5993, 'norcorp': 5272, 'posting': 5833, '7cfca1a': 723, 'grumble': 3580, 'linear': 4528, 'algebra': 1028, 'decorating': 2445, 'wining': 8213, '946': 835, 'roomate': 6376, 'graduated': 3534, 'adjustable': 934, 'cooperative': 2219, 'allows': 1041, 'nottingham': 5292, '63miles': 668, '40mph': 553, 'clearly': 2034, 'thanku': 7457, 'guessed': 3595, '89938': 818, 'strings': 7143, '50ea': 621, 'otbox': 5465, '731': 707, 'la1': 4375, '7ws': 729, 'gain': 3364, 'brisk': 1675, 'walks': 8050, 'sexiest': 6619, 'dirtiest': 2587, '89070': 811, 'tellmiss': 7404, 'contribute': 2202, 'greatly': 3557, 'urgh': 7874, 'coach': 2068, 'smells': 6842, 'duvet': 2759, 'predictive': 5880, 'w8in': 8024, '4utxt': 610, '24th': 422, 'beverage': 1479, 'pist': 5710, 'surrender': 7268, 'symptoms': 7310, 'rdy': 6119, 'realise': 6133, 'backwards': 1332, 'abstract': 875, 'africa': 969, 'avin': 1292, 'chit': 1986, 'logon': 4591, '8883': 807, '4217': 558, 'w1a': 8017, '6zf': 701, '118p': 320, 'quiteamuzing': 6060, 'scool': 6516, 'probpop': 5946, 'cu': 2329, 'satthen': 6486, '4brekkie': 589, 'psxtra': 5999, 'lrg': 4658, 'portions': 5814, '1000call': 300, '09071512432': 276, '300603t': 492, 'callcost150ppmmobilesvary': 1782, 'rows': 6390, 'mnths': 4976, 'engagement': 2865, 'fixd': 3164, 'njan': 5248, 'vilikkam': 7968, 'sudn': 7205, 'maths': 4812, 'chapter': 1910, 'chop': 1994, 'noooooooo': 5269, '08718727870150ppm': 168, 'firsg': 3157, 'split': 6997, 'wasnt': 8079, 'heat': 3719, 'applyed': 1142, 'sumfing': 7226, '86888': 789, 'subscribe6gbp': 7187, '3hrs': 529, 'txtstop': 7764, 'hopeso': 3837, 'amnow': 1063, 'ithink': 4126, 'tonsolitusaswell': 7622, 'layin': 4437, 'bedreal': 1433, 'lotsof': 4629, 'hiphop': 3775, 'managed': 4759, 'oxygen': 5506, 'resort': 6286, 'roller': 6371, 'recorder': 6174, 'canname': 1811, 'capital': 1815, 'australia': 1277, 'mquiz': 5051, 'showr': 6716, 'acted': 911, 'ceiling': 1876, 'presnts': 5901, 'bcz': 1416, 'mis': 4937, 'jeevithathile': 4176, 'irulinae': 4110, 'neekunna': 5183, 'prakasamanu': 5864, 'sneham': 6869, 'prakasam': 5863, 'ennal': 2876, 'mns': 4974, 'blowing': 1553, '7634': 714, '7684': 715, 'firmware': 3156, 'vijaykanth': 7966, 'anythiing': 1115, 'ripped': 6348, 'clubmoby': 2056, '08717509990': 152, 'keypad': 4300, 'btwn': 1708, 'decades': 2433, 'goverment': 3524, 'expects': 2990, 'loyal': 4656, 'customers': 2356, '09066380611': 271, 'spice': 6981, 'prasanth': 5868, 'ettans': 2928, '08718738002': 172, '48922': 585, 'appy': 1156, 'fizz': 3168, 'contains': 2193, 'genus': 3420, 'robinson': 6359, 'print': 5923, 'outs': 5482, 'soz': 6944, 'imat': 3973, 'mums': 5088, 'freinds': 3290, 'sometext': 6899, '07099833605': 27, '9280114': 830, 'chloe': 1988, 'wewa': 8166, '130': 337, 'iriver': 4103, '255': 426, '128': 332, 'bw': 1758, 'surly': 7264, '07808726822': 42, '9758': 838, 'dokey': 2656, 'mmmmmmm': 4972, 'snuggles': 6878, 'contented': 2195, 'whispers': 8179, 'error': 2908, 'healthy': 3710, '2bold': 439, 'scraped': 6525, 'barrel': 1375, 'misfits': 4940, 'sleepin': 6807, 'sections': 6556, 'clearer': 2032, 'peach': 5610, 'tasts': 7358, 'rayman': 6111, 'golf': 3490, 'activ8': 915, 'termsapply': 7422, 'minor': 4928, 'shindig': 6669, 'phonebook': 5673, 'rocking': 6362, 'ashes': 1210, 'shijutta': 6667, 'offense': 5357, 'dvg': 2761, 'vinobanagar': 7972, 'ovulate': 5497, '3wks': 541, 'woah': 8253, 'realising': 6135, 'orh': 5455, 'hides': 3764, 'secrets': 6553, 'n8': 5117, 'axel': 1308, 'akon': 1013, 'eyed': 3015, 'cashbin': 1849, 'canteen': 1813, 'stressfull': 7138, 'adds': 931, 'continued': 2200, 'president': 5899, '140': 341, '180': 370, 'pleasured': 5742, 'providing': 5991, 'assistance': 1229, 'whens': 8174, '1172': 319, 'built': 1722, 'lonlines': 4603, 'lotz': 4632, 'memories': 4870, 'gailxx': 3363, 'complacent': 2131, 'denis': 2484, 'mina': 4916, 'miwa': 4960, 'woulda': 8300, '09066649731from': 274, 'opposite': 5430, 'heavily': 3722, 'dolls': 2660, 'patrick': 5587, 'swayze': 7286, 'santa': 6466, '09077818151': 279, 'calls1': 1793, '50ppm': 628, '30s': 499, 'santacalling': 6467, 'miserable': 4939, 'quarter': 6047, 'fired': 3152, 'limping': 4525, 'aa': 853, '078498': 45, '08719180219': 174, 'oga': 5370, 'poorly': 5803, 'punishment': 6017, 'brb': 1645, 'kill': 4317, 'predicte': 5877, 'situations': 6782, 'loosing': 4615, 'smaller': 6834, 'capacity': 1814, 'videos': 7961, 'shsex': 6723, 'netun': 5199, 'fgkslpopw': 3111, 'fgkslpo': 3110, '0871277810710p': 127, 'defer': 2456, 'admission': 938, 'checkmate': 1940, 'chess': 1955, 'persian': 5641, 'phrase': 5681, 'shah': 6633, 'maat': 4707, 'rats': 6107, 'themes': 7474, 'photoshop': 5679, 'manageable': 4758, '08715203652': 139, '42810': 560, 'shoppin': 6692, 'increase': 4011, 'north': 5278, 'carolina': 1839, 'texas': 7435, 'gre': 3554, 'bomb': 1574, 'breathing': 1659, 'powerful': 5847, 'weapon': 8108, 'lovly': 4651, 'msgrcvd': 5060, 'customercare': 2355, '08718726270': 160, 'clas': 2020, 'lit': 4554, 'loooooool': 4612, 'couch': 2242, 'celebration': 1880, 'swashbuckling': 7282, 'terror': 7426, 'cruel': 2309, 'decent': 2435, 'joker': 4213, 'dip': 2580, 'gek1510': 3409, 'nuther': 5318, 'lyricalladie': 4691, '910': 828, 'hmmross': 3793, 'happiest': 3664, 'characters': 1912, 'differences': 2559, 'lists': 4553, 'antibiotic': 1110, 'abdomen': 860, 'gynae': 3615, 'infections': 4026, '6times': 699, 'exposed': 3003, 'chastity': 1924, 'device': 2525, 'beatings': 1422, 'uses': 7891, 'gut': 3608, 'wrenching': 8307, 'tallahassee': 7346, 'ou': 5469, 'taka': 7331, 'pobox202': 5763, 'nr31': 5300, '7zs': 730, '450pw': 576, 'ritten': 6353, 'fold': 3209, 'warner': 8073, '83118': 761, 'colin': 2088, 'farrell': 3061, 'swat': 7283, 'kiosk': 4328, 'mre': 5053, 'solihull': 6890, 'nhs': 5218, '2b': 438, 'terminated': 7420, 'inconvenience': 4008, 'dentists': 2488, 'henry': 3747, 'yards': 8369, 'bergkamp': 1469, 'margin': 4780, '78': 718, 'parent': 5553, 'snot': 6873, 'unintentional': 7825, 'nonetheless': 5265, 'hooch': 3825, 'toaday': 7583, 'splat': 6995, 'grazed': 3553, 'knees': 4340, 'deny': 2489, 'hearin': 3714, 'yah': 8361, 'torture': 7640, 'hopeing': 3835, 'sisters': 6774, 'sexychat': 6623, 'lips': 4543, 'congratulation': 2174, 'court': 2258, 'chapel': 1908, 'frontierville': 3323, 'mountain': 5040, 'deer': 2452, 'mailed': 4740, 'varma': 7925, 'secure': 6557, 'parties': 5564, 'farting': 3062, 'ortxt': 5460, 'select': 6569, 'trained': 7663, 'advisors': 956, 'dialling': 2537, '402': 548, 'woot': 8272, 'stuffing': 7169, 'ahhhh': 993, 'dining': 2576, 'experiencehttp': 2993, 'vouch4me': 8006, 'etlp': 2927, 'kaila': 4263, '09058094507': 205, 'donate': 2664, 'unicef': 7823, 'asian': 1214, 'tsunami': 7725, 'disaster': 2593, 'fund': 3345, '864233': 787, 'cme': 2062, 'hos': 3846, 'collapsed': 2090, 'cumming': 2340, 'jade': 4148, 'paul': 5590, 'barmed': 1372, 'thinkthis': 7497, 'dangerous': 2390, 'goldviking': 3489, '762': 713, 'rushing': 6421, 'coulda': 2246, 'phony': 5676, 'okday': 5379, 'buz': 1754, 'wedlunch': 8124, 'outsomewhere': 5485, 'adrink': 945, '2watershd': 480, 'fromwrk': 3322, 'bthere': 1706, 'petexxx': 5655, 'hmph': 3794, 'baller': 1348, 'punto': 6019, 'ayo': 1312, 'travelled': 7682, '125': 329, 'freeentry': 3283, 'xt': 8345, 'toyota': 7655, 'camry': 1801, 'olayiwola': 5389, 'mileage': 4908, 'landing': 4396, 'clover': 2052, 'achan': 902, 'amma': 1060, 'rencontre': 6241, 'mountains': 5041, '08714712412': 135, 'nìte': 5331, 'puppy': 6020, 'noise': 5255, 'sarasota': 6472, 'meg': 4856, '08715203685': 142, '4xx26': 614, '13': 336, 'crossing': 2304, 'deepest': 2451, 'darkest': 2395, '09094646631': 283, 'inconvenient': 4009, 'adsense': 947, 'approved': 1152, 'dudette': 2746, 'perumbavoor': 5651, 'stage': 7041, 'cherish': 1953, 'clarify': 2018, 'preponed': 5891, 'natalie': 5147, '165': 365, 'natalie2k9': 5148, 'younger': 8406, 'wallpaper': 8053, '08701213186': 82, 'liver': 4560, 'opener': 5419, 'guides': 3601, 'watched': 8085, 'loneliness': 4599, 'skyving': 6801, 'onwords': 5411, 'mtnl': 5072, 'mumbai': 5085, '83039': 758, '62735': 666, '450': 573, 'accommodationvouchers': 893, 'mustprovide': 5104, '15541': 362, 'rajitha': 6086, 'ranju': 6102, 'styles': 7174, 'tscs08714740323': 7723, '1winawk': 395, '50perweeksub': 624, 'slp': 6830, 'muah': 5074, '09066361921': 261, 'disagreeable': 2590, 'vivekanand': 7992, 'uawake': 7774, 'feellikw': 3093, 'justfound': 4252, 'aletter': 1024, 'thatmum': 7463, 'gotmarried': 3519, '4thnov': 607, 'ourbacks': 5471, 'fuckinnice': 3333, 'deviousbitch': 2527, 'rearrange': 6144, 'dormitory': 2676, 'astronomer': 1239, 'starer': 7054, 'election': 2829, 'recount': 6176, 'hitler': 3779, 'worms': 8287, 'suffering': 7208, 'dysentry': 2764, 'andre': 1078, 'virgil': 7978, 'gokila': 3485, 'shanil': 6644, 'exchanged': 2969, 'uncut': 7807, 'diamond': 2539, 'dino': 2578, 'kotees': 4360, 'panther': 5536, 'sugababes': 7211, 'zebra': 8431, 'badass': 1334, 'hoody': 3826, 'resent': 6275, 'queries': 6050, 'customersqueries': 2357, 'netvision': 5200, 'hassling': 3680, 'andres': 1079, 'haughaighgtujhyguj': 3684, 'fassyole': 3063, 'blacko': 1523, 'londn': 4597, '4eva': 591, 'responsibilities': 6293, '08715205273': 144, 'vco': 7932, 'humanities': 3894, 'reassurance': 6148, 'aslamalaikkum': 1222, 'tohar': 7592, 'beeen': 1436, 'muht': 5080, 'albi': 1017, 'mufti': 5078, 'mahfuuz': 4736, '078': 38, 'enufcredeit': 2891, 'tocall': 7586, 'ileave': 3963, 'treats': 7690, 'okors': 5385, 'ibored': 3929, 'adding': 929, 'zeros': 8433, 'savings': 6494, 'goigng': 3481, 'perfume': 5632, 'sday': 6538, 'grocers': 3569, 'pubs': 6009, 'frankie': 3271, 'bennys': 1468, 'changing': 1906, 'diapers': 2541, 'owed': 5501, 'unlike': 7836, 'patients': 5586, 'turkeys': 7739, 'helens': 3731, 'princes': 5921, 'unintentionally': 7826, 'garden': 3381, 'bulbs': 1723, 'seeds': 6560, 'scotsman': 6523, 'go2': 3472, 'notxt': 5293, 'wenever': 8150, 'stability': 7037, 'tranquility': 7668, 'vibrant': 7951, 'colourful': 2100, 'bawling': 1398, 'failure': 3034, 'failing': 3032, 'velusamy': 7941, 'facilities': 3023, 'karnan': 4277, 'bluray': 1561, 'salt': 6455, 'wounds': 8302, 'logging': 4587, 'geoenvironmental': 3421, 'implications': 3984, 'fuuuuck': 3355, 'salmon': 6453, 'uploaded': 7861, 'wrkin': 8312, 'ree': 6185, 'compensation': 2129, 'awkward': 1304, 'splash': 6993, 'leg': 4466, 'musta': 5102, 'overdid': 5491, 'telediscount': 7398, 'gastroenteritis': 3387, 'replace': 6255, 'reduce': 6184, 'limiting': 4523, 'illness': 3965, 'foned': 3220, 'chuck': 2003, 'port': 5811, 'step': 7086, 'stuffs': 7170, 'juswoke': 4255, 'boatin': 1565, 'docks': 2632, 'spinout': 6986, '08715203656': 140, '42049': 557, 'uworld': 7907, 'qbank': 6040, 'assessment': 1227, 'someonone': 6896, '09064015307': 244, 'tke': 7567, 'temales': 7409, 'finishd': 3146, '09061213237': 220, '177': 368, 'm227xy': 4695, 'dull': 2748, 'studies': 7161, 'anyones': 1113, 'treadmill': 7685, 'craigslist': 2272, 'absolutely': 873, 'swan': 7279, 'sall': 6452, 'hehe': 3727, 'shexy': 6663, 'lamp': 4393, 'foward': 3263, '09061790126': 236, 'misundrstud': 4956, '2u2': 479, 'genes': 3413, 'com1win150ppmx3age16subscription': 2104, 'resuming': 6307, 'reapply': 6143, 'treatin': 7689, 'treacle': 7684, 'mumhas': 5086, 'beendropping': 1438, 'theplace': 7479, 'adress': 943, 'favorite': 3077, 'oyster': 5508, 'sashimi': 6478, 'rumbling': 6413, 'marandratha': 4776, 'correctly': 2231, 'alaikkum': 1015, 'pride': 5917, 'respectful': 6288, 'heaven': 3721, 'pisces': 5707, 'aquarius': 1161, '2yrs': 487, 'steyn': 7094, 'wicket': 8187, 'sterm': 7091, 'resolved': 6285, 'jam': 4150, 'hannaford': 3654, 'wheat': 8170, 'chex': 1957, 'grownup': 3578, 'costume': 2240, 'jerk': 4184, 'stink': 7100, 'follows': 3216, 'subsequent': 7195, 'openings': 5422, 'upcharge': 7852, 'guai': 3586, 'bottle': 1602, 'amused': 1071, 'astrology': 1238, 'slacking': 6803, 'mentor': 4878, 'percent': 5625, '09095350301': 285, 'erotic': 2906, 'ecstacy': 2790, 'dept': 2499, '08717507382': 151, 'coincidence': 2083, 'sane': 6462, 'helping': 3742, 'leading': 4449, '151': 360, 'pause': 5591, 'gr8prizes': 3531, '8800': 800, 'psp': 5998, 'spacebucks': 6948, '083': 69, '6089': 658, 'squeezed': 7029, 'maintaining': 4744, 'dreading': 2704, 'thou': 7509, 'suggestion': 7216, 'lands': 4401, 'helps': 3744, 'forgt': 3247, 'ajith': 1010, 'ooooooh': 5415, 'yoville': 8413, 'mega': 4857, 'asda': 1209, 'counts': 2252, 'officer': 5363, 'bffs': 1483, 'carly': 1838, 'seperated': 6598, '〨ud': 8443, 'brolly': 1685, 'franxx': 3272, 'prometazine': 5965, 'syrup': 7313, '5mls': 646, 'feed': 3088, 'shu': 6724, 'singapore': 6762, 'victoria': 7955, 'island': 4115, 'pocay': 5771, 'wocay': 8254, '2morrowxxxx': 462, 'broth': 1687, 'ramen': 6093, 'fowler': 3264, 'tats': 7361, 'flew': 3179, '09058094583': 207, 'attention': 1258, 'tix': 7565, 'fne': 3207, 'youdoing': 8403, 'worc': 8275, 'foregate': 3235, 'shrub': 6722, 'get4an18th': 3426, '32000': 506, 'legitimat': 4468, 'efreefone': 2811, 'pendent': 5619, 'toilet': 7593, 'stolen': 7105, 'cops': 2223, 'hu': 3881, 'navigate': 5159, 'choosing': 1993, 'require': 6269, 'guidance': 3599, 'chick': 1963, 'boobs': 1579, 'revealing': 6318, 'sparkling': 6957, 'breaks': 1654, '45': 572, '0121': 5, '2025050': 407, 'shortbreaks': 6698, 'org': 5452, 'gyno': 3616, 'belong': 1458, 'gamb': 3370, 'treasure': 7686, '820554ad0a1705572711': 752, '09050000332': 186, 'positive': 5821, 'negative': 5185, 'hmmmm': 3792, 'command': 2116, 'stressful': 7137, 'holby': 3803, '09064017295': 245, 'li': 4490, 'lecturer': 4463, 'repeating': 6253, 'yeovil': 8384, 'motor': 5038, 'rhode': 6327, 'bong': 1576, 'ofcourse': 5353, '2p': 471, '08448350055': 71, 'planettalkinstant': 5724, 'marvel': 4793, 'ultimate': 7787, 'spider': 6982, '83338': 764, '8ball': 820, 'tamilnadu': 7348, 'tip': 7553, '07808247860': 41, '08719899229': 181, '40411': 550, 'identification': 3944, 'limit': 4521, 'boundaries': 1604, 'endless': 2856, 'reassuring': 6149, 'young': 8405, 'referin': 6189, 'saibaba': 6443, 'colany': 2086, 'chic': 1962, 'declare': 2444, '49557': 587, 'disappointment': 2592, 'irritation': 4109, 'tantrum': 7351, 'compliments': 2143, 'adventuring': 952, 'chief': 1966, 'gsex': 3582, '2667': 429, 'wc1n': 8103, '3xx': 543, '3mobile': 534, 'chatlines': 1927, 'inclu': 4001, 'servs': 6609, 'l8er': 4370, 'bailiff': 1341, 'mouse': 5042, 'desk': 2508, 'childporn': 1971, 'jumpers': 4244, 'hat': 3681, 'belt': 1462, 'cribbs': 2295, 'spiritual': 6989, 'barring': 1376, 'sudden': 7203, 'influx': 4028, 'kane': 4272, 'shud': 6725, 'pshew': 5997, 'units': 7829, 'accent': 884, '4years': 615, 'dental': 2486, 'nmde': 5249, 'dump': 2750, 'heap': 3711, 'lowes': 4654, 'salesman': 6451, '087187272008': 165, 'now1': 5297, 'pity': 5711, 'suggestions': 7217, 'bitching': 1515}\n"
          ]
        }
      ]
    },
    {
      "cell_type": "code",
      "source": [
        "#documents = [\"This is the first document.\", \"This is the second document.\"]"
      ],
      "metadata": {
        "id": "J2bkUH7WMpEA"
      },
      "execution_count": null,
      "outputs": []
    },
    {
      "cell_type": "code",
      "source": [
        "#vectorizer_new = CountVectorizer()"
      ],
      "metadata": {
        "id": "UUuV-zXmOiJr"
      },
      "execution_count": null,
      "outputs": []
    },
    {
      "cell_type": "code",
      "source": [
        "#x_new= vectorizer_new.fit_transform(documents)"
      ],
      "metadata": {
        "id": "_S9IZaMjORPi"
      },
      "execution_count": null,
      "outputs": []
    },
    {
      "cell_type": "code",
      "source": [
        "#print(\"Vocabulary:\", vectorizer_new.vocabulary_)"
      ],
      "metadata": {
        "colab": {
          "base_uri": "https://localhost:8080/"
        },
        "id": "gKaSMYCoNQ7B",
        "outputId": "c9538595-c02c-4109-b8af-701918d13293"
      },
      "execution_count": null,
      "outputs": [
        {
          "output_type": "stream",
          "name": "stdout",
          "text": [
            "Vocabulary: {'this': 5, 'is': 2, 'the': 4, 'first': 1, 'document': 0, 'second': 3}\n"
          ]
        }
      ]
    },
    {
      "cell_type": "code",
      "source": [
        "from sklearn.model_selection import train_test_split"
      ],
      "metadata": {
        "id": "75iSVXncKWTK"
      },
      "execution_count": null,
      "outputs": []
    },
    {
      "cell_type": "code",
      "source": [
        "x_train, x_test, y_train, y_test = train_test_split(x_df, data['label'], test_size=0.25,random_state=42)"
      ],
      "metadata": {
        "id": "6KdEPlhYKWQw"
      },
      "execution_count": null,
      "outputs": []
    },
    {
      "cell_type": "code",
      "source": [
        "x_train.shape"
      ],
      "metadata": {
        "colab": {
          "base_uri": "https://localhost:8080/"
        },
        "id": "GATw9I8kKWOi",
        "outputId": "4005ca70-104c-4c29-fc34-3bb6b030a71e"
      },
      "execution_count": null,
      "outputs": [
        {
          "output_type": "execute_result",
          "data": {
            "text/plain": [
              "(4179, 8444)"
            ]
          },
          "metadata": {},
          "execution_count": 149
        }
      ]
    },
    {
      "cell_type": "code",
      "source": [
        "x_test.shape"
      ],
      "metadata": {
        "colab": {
          "base_uri": "https://localhost:8080/"
        },
        "id": "53rOLVZfPRWp",
        "outputId": "d45ef4e2-5d9a-47f1-9f24-b5d05a1e7066"
      },
      "execution_count": null,
      "outputs": [
        {
          "output_type": "execute_result",
          "data": {
            "text/plain": [
              "(1393, 8444)"
            ]
          },
          "metadata": {},
          "execution_count": 150
        }
      ]
    },
    {
      "cell_type": "code",
      "source": [
        "y_train.size,y_test.size"
      ],
      "metadata": {
        "colab": {
          "base_uri": "https://localhost:8080/"
        },
        "id": "pAYfJmSmPare",
        "outputId": "f0a5c337-8249-4c26-c20d-28f99571f0e6"
      },
      "execution_count": null,
      "outputs": [
        {
          "output_type": "execute_result",
          "data": {
            "text/plain": [
              "(4179, 1393)"
            ]
          },
          "metadata": {},
          "execution_count": 54
        }
      ]
    },
    {
      "cell_type": "code",
      "source": [
        "from sklearn.naive_bayes import MultinomialNB"
      ],
      "metadata": {
        "id": "sgIYEXS1Pl0U"
      },
      "execution_count": null,
      "outputs": []
    },
    {
      "cell_type": "code",
      "source": [
        "naive_bayes = MultinomialNB()"
      ],
      "metadata": {
        "id": "AgZH9ghyPq4y"
      },
      "execution_count": null,
      "outputs": []
    },
    {
      "cell_type": "code",
      "source": [
        "naive_bayes.fit(x_train,y_train)"
      ],
      "metadata": {
        "colab": {
          "base_uri": "https://localhost:8080/",
          "height": 81
        },
        "id": "foSicV1ZPyHK",
        "outputId": "86b48235-e749-4948-b9ce-854777b213a4"
      },
      "execution_count": null,
      "outputs": [
        {
          "output_type": "execute_result",
          "data": {
            "text/plain": [
              "MultinomialNB()"
            ],
            "text/html": [
              "<style>#sk-container-id-3 {\n",
              "  /* Definition of color scheme common for light and dark mode */\n",
              "  --sklearn-color-text: black;\n",
              "  --sklearn-color-line: gray;\n",
              "  /* Definition of color scheme for unfitted estimators */\n",
              "  --sklearn-color-unfitted-level-0: #fff5e6;\n",
              "  --sklearn-color-unfitted-level-1: #f6e4d2;\n",
              "  --sklearn-color-unfitted-level-2: #ffe0b3;\n",
              "  --sklearn-color-unfitted-level-3: chocolate;\n",
              "  /* Definition of color scheme for fitted estimators */\n",
              "  --sklearn-color-fitted-level-0: #f0f8ff;\n",
              "  --sklearn-color-fitted-level-1: #d4ebff;\n",
              "  --sklearn-color-fitted-level-2: #b3dbfd;\n",
              "  --sklearn-color-fitted-level-3: cornflowerblue;\n",
              "\n",
              "  /* Specific color for light theme */\n",
              "  --sklearn-color-text-on-default-background: var(--sg-text-color, var(--theme-code-foreground, var(--jp-content-font-color1, black)));\n",
              "  --sklearn-color-background: var(--sg-background-color, var(--theme-background, var(--jp-layout-color0, white)));\n",
              "  --sklearn-color-border-box: var(--sg-text-color, var(--theme-code-foreground, var(--jp-content-font-color1, black)));\n",
              "  --sklearn-color-icon: #696969;\n",
              "\n",
              "  @media (prefers-color-scheme: dark) {\n",
              "    /* Redefinition of color scheme for dark theme */\n",
              "    --sklearn-color-text-on-default-background: var(--sg-text-color, var(--theme-code-foreground, var(--jp-content-font-color1, white)));\n",
              "    --sklearn-color-background: var(--sg-background-color, var(--theme-background, var(--jp-layout-color0, #111)));\n",
              "    --sklearn-color-border-box: var(--sg-text-color, var(--theme-code-foreground, var(--jp-content-font-color1, white)));\n",
              "    --sklearn-color-icon: #878787;\n",
              "  }\n",
              "}\n",
              "\n",
              "#sk-container-id-3 {\n",
              "  color: var(--sklearn-color-text);\n",
              "}\n",
              "\n",
              "#sk-container-id-3 pre {\n",
              "  padding: 0;\n",
              "}\n",
              "\n",
              "#sk-container-id-3 input.sk-hidden--visually {\n",
              "  border: 0;\n",
              "  clip: rect(1px 1px 1px 1px);\n",
              "  clip: rect(1px, 1px, 1px, 1px);\n",
              "  height: 1px;\n",
              "  margin: -1px;\n",
              "  overflow: hidden;\n",
              "  padding: 0;\n",
              "  position: absolute;\n",
              "  width: 1px;\n",
              "}\n",
              "\n",
              "#sk-container-id-3 div.sk-dashed-wrapped {\n",
              "  border: 1px dashed var(--sklearn-color-line);\n",
              "  margin: 0 0.4em 0.5em 0.4em;\n",
              "  box-sizing: border-box;\n",
              "  padding-bottom: 0.4em;\n",
              "  background-color: var(--sklearn-color-background);\n",
              "}\n",
              "\n",
              "#sk-container-id-3 div.sk-container {\n",
              "  /* jupyter's `normalize.less` sets `[hidden] { display: none; }`\n",
              "     but bootstrap.min.css set `[hidden] { display: none !important; }`\n",
              "     so we also need the `!important` here to be able to override the\n",
              "     default hidden behavior on the sphinx rendered scikit-learn.org.\n",
              "     See: https://github.com/scikit-learn/scikit-learn/issues/21755 */\n",
              "  display: inline-block !important;\n",
              "  position: relative;\n",
              "}\n",
              "\n",
              "#sk-container-id-3 div.sk-text-repr-fallback {\n",
              "  display: none;\n",
              "}\n",
              "\n",
              "div.sk-parallel-item,\n",
              "div.sk-serial,\n",
              "div.sk-item {\n",
              "  /* draw centered vertical line to link estimators */\n",
              "  background-image: linear-gradient(var(--sklearn-color-text-on-default-background), var(--sklearn-color-text-on-default-background));\n",
              "  background-size: 2px 100%;\n",
              "  background-repeat: no-repeat;\n",
              "  background-position: center center;\n",
              "}\n",
              "\n",
              "/* Parallel-specific style estimator block */\n",
              "\n",
              "#sk-container-id-3 div.sk-parallel-item::after {\n",
              "  content: \"\";\n",
              "  width: 100%;\n",
              "  border-bottom: 2px solid var(--sklearn-color-text-on-default-background);\n",
              "  flex-grow: 1;\n",
              "}\n",
              "\n",
              "#sk-container-id-3 div.sk-parallel {\n",
              "  display: flex;\n",
              "  align-items: stretch;\n",
              "  justify-content: center;\n",
              "  background-color: var(--sklearn-color-background);\n",
              "  position: relative;\n",
              "}\n",
              "\n",
              "#sk-container-id-3 div.sk-parallel-item {\n",
              "  display: flex;\n",
              "  flex-direction: column;\n",
              "}\n",
              "\n",
              "#sk-container-id-3 div.sk-parallel-item:first-child::after {\n",
              "  align-self: flex-end;\n",
              "  width: 50%;\n",
              "}\n",
              "\n",
              "#sk-container-id-3 div.sk-parallel-item:last-child::after {\n",
              "  align-self: flex-start;\n",
              "  width: 50%;\n",
              "}\n",
              "\n",
              "#sk-container-id-3 div.sk-parallel-item:only-child::after {\n",
              "  width: 0;\n",
              "}\n",
              "\n",
              "/* Serial-specific style estimator block */\n",
              "\n",
              "#sk-container-id-3 div.sk-serial {\n",
              "  display: flex;\n",
              "  flex-direction: column;\n",
              "  align-items: center;\n",
              "  background-color: var(--sklearn-color-background);\n",
              "  padding-right: 1em;\n",
              "  padding-left: 1em;\n",
              "}\n",
              "\n",
              "\n",
              "/* Toggleable style: style used for estimator/Pipeline/ColumnTransformer box that is\n",
              "clickable and can be expanded/collapsed.\n",
              "- Pipeline and ColumnTransformer use this feature and define the default style\n",
              "- Estimators will overwrite some part of the style using the `sk-estimator` class\n",
              "*/\n",
              "\n",
              "/* Pipeline and ColumnTransformer style (default) */\n",
              "\n",
              "#sk-container-id-3 div.sk-toggleable {\n",
              "  /* Default theme specific background. It is overwritten whether we have a\n",
              "  specific estimator or a Pipeline/ColumnTransformer */\n",
              "  background-color: var(--sklearn-color-background);\n",
              "}\n",
              "\n",
              "/* Toggleable label */\n",
              "#sk-container-id-3 label.sk-toggleable__label {\n",
              "  cursor: pointer;\n",
              "  display: block;\n",
              "  width: 100%;\n",
              "  margin-bottom: 0;\n",
              "  padding: 0.5em;\n",
              "  box-sizing: border-box;\n",
              "  text-align: center;\n",
              "}\n",
              "\n",
              "#sk-container-id-3 label.sk-toggleable__label-arrow:before {\n",
              "  /* Arrow on the left of the label */\n",
              "  content: \"▸\";\n",
              "  float: left;\n",
              "  margin-right: 0.25em;\n",
              "  color: var(--sklearn-color-icon);\n",
              "}\n",
              "\n",
              "#sk-container-id-3 label.sk-toggleable__label-arrow:hover:before {\n",
              "  color: var(--sklearn-color-text);\n",
              "}\n",
              "\n",
              "/* Toggleable content - dropdown */\n",
              "\n",
              "#sk-container-id-3 div.sk-toggleable__content {\n",
              "  max-height: 0;\n",
              "  max-width: 0;\n",
              "  overflow: hidden;\n",
              "  text-align: left;\n",
              "  /* unfitted */\n",
              "  background-color: var(--sklearn-color-unfitted-level-0);\n",
              "}\n",
              "\n",
              "#sk-container-id-3 div.sk-toggleable__content.fitted {\n",
              "  /* fitted */\n",
              "  background-color: var(--sklearn-color-fitted-level-0);\n",
              "}\n",
              "\n",
              "#sk-container-id-3 div.sk-toggleable__content pre {\n",
              "  margin: 0.2em;\n",
              "  border-radius: 0.25em;\n",
              "  color: var(--sklearn-color-text);\n",
              "  /* unfitted */\n",
              "  background-color: var(--sklearn-color-unfitted-level-0);\n",
              "}\n",
              "\n",
              "#sk-container-id-3 div.sk-toggleable__content.fitted pre {\n",
              "  /* unfitted */\n",
              "  background-color: var(--sklearn-color-fitted-level-0);\n",
              "}\n",
              "\n",
              "#sk-container-id-3 input.sk-toggleable__control:checked~div.sk-toggleable__content {\n",
              "  /* Expand drop-down */\n",
              "  max-height: 200px;\n",
              "  max-width: 100%;\n",
              "  overflow: auto;\n",
              "}\n",
              "\n",
              "#sk-container-id-3 input.sk-toggleable__control:checked~label.sk-toggleable__label-arrow:before {\n",
              "  content: \"▾\";\n",
              "}\n",
              "\n",
              "/* Pipeline/ColumnTransformer-specific style */\n",
              "\n",
              "#sk-container-id-3 div.sk-label input.sk-toggleable__control:checked~label.sk-toggleable__label {\n",
              "  color: var(--sklearn-color-text);\n",
              "  background-color: var(--sklearn-color-unfitted-level-2);\n",
              "}\n",
              "\n",
              "#sk-container-id-3 div.sk-label.fitted input.sk-toggleable__control:checked~label.sk-toggleable__label {\n",
              "  background-color: var(--sklearn-color-fitted-level-2);\n",
              "}\n",
              "\n",
              "/* Estimator-specific style */\n",
              "\n",
              "/* Colorize estimator box */\n",
              "#sk-container-id-3 div.sk-estimator input.sk-toggleable__control:checked~label.sk-toggleable__label {\n",
              "  /* unfitted */\n",
              "  background-color: var(--sklearn-color-unfitted-level-2);\n",
              "}\n",
              "\n",
              "#sk-container-id-3 div.sk-estimator.fitted input.sk-toggleable__control:checked~label.sk-toggleable__label {\n",
              "  /* fitted */\n",
              "  background-color: var(--sklearn-color-fitted-level-2);\n",
              "}\n",
              "\n",
              "#sk-container-id-3 div.sk-label label.sk-toggleable__label,\n",
              "#sk-container-id-3 div.sk-label label {\n",
              "  /* The background is the default theme color */\n",
              "  color: var(--sklearn-color-text-on-default-background);\n",
              "}\n",
              "\n",
              "/* On hover, darken the color of the background */\n",
              "#sk-container-id-3 div.sk-label:hover label.sk-toggleable__label {\n",
              "  color: var(--sklearn-color-text);\n",
              "  background-color: var(--sklearn-color-unfitted-level-2);\n",
              "}\n",
              "\n",
              "/* Label box, darken color on hover, fitted */\n",
              "#sk-container-id-3 div.sk-label.fitted:hover label.sk-toggleable__label.fitted {\n",
              "  color: var(--sklearn-color-text);\n",
              "  background-color: var(--sklearn-color-fitted-level-2);\n",
              "}\n",
              "\n",
              "/* Estimator label */\n",
              "\n",
              "#sk-container-id-3 div.sk-label label {\n",
              "  font-family: monospace;\n",
              "  font-weight: bold;\n",
              "  display: inline-block;\n",
              "  line-height: 1.2em;\n",
              "}\n",
              "\n",
              "#sk-container-id-3 div.sk-label-container {\n",
              "  text-align: center;\n",
              "}\n",
              "\n",
              "/* Estimator-specific */\n",
              "#sk-container-id-3 div.sk-estimator {\n",
              "  font-family: monospace;\n",
              "  border: 1px dotted var(--sklearn-color-border-box);\n",
              "  border-radius: 0.25em;\n",
              "  box-sizing: border-box;\n",
              "  margin-bottom: 0.5em;\n",
              "  /* unfitted */\n",
              "  background-color: var(--sklearn-color-unfitted-level-0);\n",
              "}\n",
              "\n",
              "#sk-container-id-3 div.sk-estimator.fitted {\n",
              "  /* fitted */\n",
              "  background-color: var(--sklearn-color-fitted-level-0);\n",
              "}\n",
              "\n",
              "/* on hover */\n",
              "#sk-container-id-3 div.sk-estimator:hover {\n",
              "  /* unfitted */\n",
              "  background-color: var(--sklearn-color-unfitted-level-2);\n",
              "}\n",
              "\n",
              "#sk-container-id-3 div.sk-estimator.fitted:hover {\n",
              "  /* fitted */\n",
              "  background-color: var(--sklearn-color-fitted-level-2);\n",
              "}\n",
              "\n",
              "/* Specification for estimator info (e.g. \"i\" and \"?\") */\n",
              "\n",
              "/* Common style for \"i\" and \"?\" */\n",
              "\n",
              ".sk-estimator-doc-link,\n",
              "a:link.sk-estimator-doc-link,\n",
              "a:visited.sk-estimator-doc-link {\n",
              "  float: right;\n",
              "  font-size: smaller;\n",
              "  line-height: 1em;\n",
              "  font-family: monospace;\n",
              "  background-color: var(--sklearn-color-background);\n",
              "  border-radius: 1em;\n",
              "  height: 1em;\n",
              "  width: 1em;\n",
              "  text-decoration: none !important;\n",
              "  margin-left: 1ex;\n",
              "  /* unfitted */\n",
              "  border: var(--sklearn-color-unfitted-level-1) 1pt solid;\n",
              "  color: var(--sklearn-color-unfitted-level-1);\n",
              "}\n",
              "\n",
              ".sk-estimator-doc-link.fitted,\n",
              "a:link.sk-estimator-doc-link.fitted,\n",
              "a:visited.sk-estimator-doc-link.fitted {\n",
              "  /* fitted */\n",
              "  border: var(--sklearn-color-fitted-level-1) 1pt solid;\n",
              "  color: var(--sklearn-color-fitted-level-1);\n",
              "}\n",
              "\n",
              "/* On hover */\n",
              "div.sk-estimator:hover .sk-estimator-doc-link:hover,\n",
              ".sk-estimator-doc-link:hover,\n",
              "div.sk-label-container:hover .sk-estimator-doc-link:hover,\n",
              ".sk-estimator-doc-link:hover {\n",
              "  /* unfitted */\n",
              "  background-color: var(--sklearn-color-unfitted-level-3);\n",
              "  color: var(--sklearn-color-background);\n",
              "  text-decoration: none;\n",
              "}\n",
              "\n",
              "div.sk-estimator.fitted:hover .sk-estimator-doc-link.fitted:hover,\n",
              ".sk-estimator-doc-link.fitted:hover,\n",
              "div.sk-label-container:hover .sk-estimator-doc-link.fitted:hover,\n",
              ".sk-estimator-doc-link.fitted:hover {\n",
              "  /* fitted */\n",
              "  background-color: var(--sklearn-color-fitted-level-3);\n",
              "  color: var(--sklearn-color-background);\n",
              "  text-decoration: none;\n",
              "}\n",
              "\n",
              "/* Span, style for the box shown on hovering the info icon */\n",
              ".sk-estimator-doc-link span {\n",
              "  display: none;\n",
              "  z-index: 9999;\n",
              "  position: relative;\n",
              "  font-weight: normal;\n",
              "  right: .2ex;\n",
              "  padding: .5ex;\n",
              "  margin: .5ex;\n",
              "  width: min-content;\n",
              "  min-width: 20ex;\n",
              "  max-width: 50ex;\n",
              "  color: var(--sklearn-color-text);\n",
              "  box-shadow: 2pt 2pt 4pt #999;\n",
              "  /* unfitted */\n",
              "  background: var(--sklearn-color-unfitted-level-0);\n",
              "  border: .5pt solid var(--sklearn-color-unfitted-level-3);\n",
              "}\n",
              "\n",
              ".sk-estimator-doc-link.fitted span {\n",
              "  /* fitted */\n",
              "  background: var(--sklearn-color-fitted-level-0);\n",
              "  border: var(--sklearn-color-fitted-level-3);\n",
              "}\n",
              "\n",
              ".sk-estimator-doc-link:hover span {\n",
              "  display: block;\n",
              "}\n",
              "\n",
              "/* \"?\"-specific style due to the `<a>` HTML tag */\n",
              "\n",
              "#sk-container-id-3 a.estimator_doc_link {\n",
              "  float: right;\n",
              "  font-size: 1rem;\n",
              "  line-height: 1em;\n",
              "  font-family: monospace;\n",
              "  background-color: var(--sklearn-color-background);\n",
              "  border-radius: 1rem;\n",
              "  height: 1rem;\n",
              "  width: 1rem;\n",
              "  text-decoration: none;\n",
              "  /* unfitted */\n",
              "  color: var(--sklearn-color-unfitted-level-1);\n",
              "  border: var(--sklearn-color-unfitted-level-1) 1pt solid;\n",
              "}\n",
              "\n",
              "#sk-container-id-3 a.estimator_doc_link.fitted {\n",
              "  /* fitted */\n",
              "  border: var(--sklearn-color-fitted-level-1) 1pt solid;\n",
              "  color: var(--sklearn-color-fitted-level-1);\n",
              "}\n",
              "\n",
              "/* On hover */\n",
              "#sk-container-id-3 a.estimator_doc_link:hover {\n",
              "  /* unfitted */\n",
              "  background-color: var(--sklearn-color-unfitted-level-3);\n",
              "  color: var(--sklearn-color-background);\n",
              "  text-decoration: none;\n",
              "}\n",
              "\n",
              "#sk-container-id-3 a.estimator_doc_link.fitted:hover {\n",
              "  /* fitted */\n",
              "  background-color: var(--sklearn-color-fitted-level-3);\n",
              "}\n",
              "</style><div id=\"sk-container-id-3\" class=\"sk-top-container\"><div class=\"sk-text-repr-fallback\"><pre>MultinomialNB()</pre><b>In a Jupyter environment, please rerun this cell to show the HTML representation or trust the notebook. <br />On GitHub, the HTML representation is unable to render, please try loading this page with nbviewer.org.</b></div><div class=\"sk-container\" hidden><div class=\"sk-item\"><div class=\"sk-estimator fitted sk-toggleable\"><input class=\"sk-toggleable__control sk-hidden--visually\" id=\"sk-estimator-id-5\" type=\"checkbox\" checked><label for=\"sk-estimator-id-5\" class=\"sk-toggleable__label fitted sk-toggleable__label-arrow fitted\">&nbsp;&nbsp;MultinomialNB<a class=\"sk-estimator-doc-link fitted\" rel=\"noreferrer\" target=\"_blank\" href=\"https://scikit-learn.org/1.5/modules/generated/sklearn.naive_bayes.MultinomialNB.html\">?<span>Documentation for MultinomialNB</span></a><span class=\"sk-estimator-doc-link fitted\">i<span>Fitted</span></span></label><div class=\"sk-toggleable__content fitted\"><pre>MultinomialNB()</pre></div> </div></div></div></div>"
            ]
          },
          "metadata": {},
          "execution_count": 151
        }
      ]
    },
    {
      "cell_type": "code",
      "source": [
        "naive_bayes.score(x_test,y_test)"
      ],
      "metadata": {
        "colab": {
          "base_uri": "https://localhost:8080/"
        },
        "id": "AXrE80RiP1do",
        "outputId": "7cfc36fb-a63f-4b87-dce8-03f5b79e52f4"
      },
      "execution_count": null,
      "outputs": [
        {
          "output_type": "execute_result",
          "data": {
            "text/plain": [
              "0.9806173725771715"
            ]
          },
          "metadata": {},
          "execution_count": 152
        }
      ]
    },
    {
      "cell_type": "code",
      "source": [
        "y_pred = naive_bayes.predict(x_test)"
      ],
      "metadata": {
        "id": "F8w9K3b8P7kK"
      },
      "execution_count": null,
      "outputs": []
    },
    {
      "cell_type": "code",
      "source": [
        "from sklearn.metrics import classification_report, accuracy_score, confusion_matrix"
      ],
      "metadata": {
        "id": "C_NfgytLQS5W"
      },
      "execution_count": null,
      "outputs": []
    },
    {
      "cell_type": "code",
      "source": [
        "confusion_matrix(y_test, y_pred)"
      ],
      "metadata": {
        "colab": {
          "base_uri": "https://localhost:8080/"
        },
        "id": "AyP3ERnjQNfq",
        "outputId": "8ef9e90f-8351-4a57-cef4-4341b3f0f22b"
      },
      "execution_count": null,
      "outputs": [
        {
          "output_type": "execute_result",
          "data": {
            "text/plain": [
              "array([[1189,   18],\n",
              "       [   9,  177]])"
            ]
          },
          "metadata": {},
          "execution_count": 154
        }
      ]
    },
    {
      "cell_type": "code",
      "source": [
        "from sklearn.metrics import ConfusionMatrixDisplay"
      ],
      "metadata": {
        "id": "1DrFT2CeQPoh"
      },
      "execution_count": null,
      "outputs": []
    },
    {
      "cell_type": "code",
      "source": [
        "ConfusionMatrixDisplay.from_predictions(y_test, y_pred)\n",
        "plt.show()\n",
        "accuracy_score(y_test, y_pred)"
      ],
      "metadata": {
        "colab": {
          "base_uri": "https://localhost:8080/",
          "height": 466
        },
        "id": "ylc3_Nx5QZIE",
        "outputId": "f18d6046-2220-4c76-f8b8-447daea25085"
      },
      "execution_count": null,
      "outputs": [
        {
          "output_type": "display_data",
          "data": {
            "text/plain": [
              "<Figure size 640x480 with 2 Axes>"
            ],
            "image/png": "[encoded data removed]"
          },
          "metadata": {}
        },
        {
          "output_type": "execute_result",
          "data": {
            "text/plain": [
              "0.9806173725771715"
            ]
          },
          "metadata": {},
          "execution_count": 156
        }
      ]
    },
    {
      "cell_type": "code",
      "source": [
        "from sklearn.model_selection import KFold, cross_val_score"
      ],
      "metadata": {
        "id": "lWjKv59fQbTb"
      },
      "execution_count": null,
      "outputs": []
    },
    {
      "cell_type": "code",
      "source": [
        "multinomial_accuracy = cross_val_score(estimator=naive_bayes, X=x_train,y=y_train,cv=5)"
      ],
      "metadata": {
        "id": "CInQOC1WStny"
      },
      "execution_count": null,
      "outputs": []
    },
    {
      "cell_type": "code",
      "source": [
        "print(multinomial_accuracy)"
      ],
      "metadata": {
        "colab": {
          "base_uri": "https://localhost:8080/"
        },
        "id": "puIC4ZmOTELl",
        "outputId": "77d5d99e-43f5-4115-d23e-e093c1e2afed"
      },
      "execution_count": null,
      "outputs": [
        {
          "output_type": "stream",
          "name": "stdout",
          "text": [
            "[0.97966507 0.98086124 0.9784689  0.97966507 0.98443114]\n"
          ]
        }
      ]
    },
    {
      "cell_type": "code",
      "source": [
        "multinomial_accuracy.mean()"
      ],
      "metadata": {
        "colab": {
          "base_uri": "https://localhost:8080/"
        },
        "id": "MtP8MB8tTaa9",
        "outputId": "acd31d0a-ae37-447a-d918-2cc4d5cdf784"
      },
      "execution_count": null,
      "outputs": [
        {
          "output_type": "execute_result",
          "data": {
            "text/plain": [
              "0.9813362748187835"
            ]
          },
          "metadata": {},
          "execution_count": 74
        }
      ]
    },
    {
      "cell_type": "code",
      "source": [
        "from sklearn.model_selection import GridSearchCV"
      ],
      "metadata": {
        "id": "3dfrkJqeTfre"
      },
      "execution_count": null,
      "outputs": []
    },
    {
      "cell_type": "code",
      "source": [
        "param_grid = {\n",
        "    'alpha': [0.9, 1.0, 1.1, 1.2, 1.3, 1.4]\n",
        "}"
      ],
      "metadata": {
        "id": "dVp6D3m_VMq-"
      },
      "execution_count": null,
      "outputs": []
    },
    {
      "cell_type": "code",
      "source": [
        "# Set up the grid search\n",
        "CV_naive_bayes = GridSearchCV(naive_bayes, param_grid, cv=5, return_train_score=False)"
      ],
      "metadata": {
        "id": "-HD4qPE7WLyp"
      },
      "execution_count": null,
      "outputs": []
    },
    {
      "cell_type": "code",
      "source": [
        "# Fit the grid search to the training data\n",
        "CV_naive_bayes.fit(x_train, y_train)"
      ],
      "metadata": {
        "colab": {
          "base_uri": "https://localhost:8080/",
          "height": 136
        },
        "id": "u-RpiqSeWN91",
        "outputId": "a3dbb987-d319-42b7-f73a-40cf73746e6f"
      },
      "execution_count": null,
      "outputs": [
        {
          "output_type": "execute_result",
          "data": {
            "text/plain": [
              "GridSearchCV(cv=5, estimator=MultinomialNB(),\n",
              "             param_grid={'alpha': [0.9, 1.0, 1.1, 1.2, 1.3, 1.4]})"
            ],
            "text/html": [
              "<style>#sk-container-id-5 {\n",
              "  /* Definition of color scheme common for light and dark mode */\n",
              "  --sklearn-color-text: black;\n",
              "  --sklearn-color-line: gray;\n",
              "  /* Definition of color scheme for unfitted estimators */\n",
              "  --sklearn-color-unfitted-level-0: #fff5e6;\n",
              "  --sklearn-color-unfitted-level-1: #f6e4d2;\n",
              "  --sklearn-color-unfitted-level-2: #ffe0b3;\n",
              "  --sklearn-color-unfitted-level-3: chocolate;\n",
              "  /* Definition of color scheme for fitted estimators */\n",
              "  --sklearn-color-fitted-level-0: #f0f8ff;\n",
              "  --sklearn-color-fitted-level-1: #d4ebff;\n",
              "  --sklearn-color-fitted-level-2: #b3dbfd;\n",
              "  --sklearn-color-fitted-level-3: cornflowerblue;\n",
              "\n",
              "  /* Specific color for light theme */\n",
              "  --sklearn-color-text-on-default-background: var(--sg-text-color, var(--theme-code-foreground, var(--jp-content-font-color1, black)));\n",
              "  --sklearn-color-background: var(--sg-background-color, var(--theme-background, var(--jp-layout-color0, white)));\n",
              "  --sklearn-color-border-box: var(--sg-text-color, var(--theme-code-foreground, var(--jp-content-font-color1, black)));\n",
              "  --sklearn-color-icon: #696969;\n",
              "\n",
              "  @media (prefers-color-scheme: dark) {\n",
              "    /* Redefinition of color scheme for dark theme */\n",
              "    --sklearn-color-text-on-default-background: var(--sg-text-color, var(--theme-code-foreground, var(--jp-content-font-color1, white)));\n",
              "    --sklearn-color-background: var(--sg-background-color, var(--theme-background, var(--jp-layout-color0, #111)));\n",
              "    --sklearn-color-border-box: var(--sg-text-color, var(--theme-code-foreground, var(--jp-content-font-color1, white)));\n",
              "    --sklearn-color-icon: #878787;\n",
              "  }\n",
              "}\n",
              "\n",
              "#sk-container-id-5 {\n",
              "  color: var(--sklearn-color-text);\n",
              "}\n",
              "\n",
              "#sk-container-id-5 pre {\n",
              "  padding: 0;\n",
              "}\n",
              "\n",
              "#sk-container-id-5 input.sk-hidden--visually {\n",
              "  border: 0;\n",
              "  clip: rect(1px 1px 1px 1px);\n",
              "  clip: rect(1px, 1px, 1px, 1px);\n",
              "  height: 1px;\n",
              "  margin: -1px;\n",
              "  overflow: hidden;\n",
              "  padding: 0;\n",
              "  position: absolute;\n",
              "  width: 1px;\n",
              "}\n",
              "\n",
              "#sk-container-id-5 div.sk-dashed-wrapped {\n",
              "  border: 1px dashed var(--sklearn-color-line);\n",
              "  margin: 0 0.4em 0.5em 0.4em;\n",
              "  box-sizing: border-box;\n",
              "  padding-bottom: 0.4em;\n",
              "  background-color: var(--sklearn-color-background);\n",
              "}\n",
              "\n",
              "#sk-container-id-5 div.sk-container {\n",
              "  /* jupyter's `normalize.less` sets `[hidden] { display: none; }`\n",
              "     but bootstrap.min.css set `[hidden] { display: none !important; }`\n",
              "     so we also need the `!important` here to be able to override the\n",
              "     default hidden behavior on the sphinx rendered scikit-learn.org.\n",
              "     See: https://github.com/scikit-learn/scikit-learn/issues/21755 */\n",
              "  display: inline-block !important;\n",
              "  position: relative;\n",
              "}\n",
              "\n",
              "#sk-container-id-5 div.sk-text-repr-fallback {\n",
              "  display: none;\n",
              "}\n",
              "\n",
              "div.sk-parallel-item,\n",
              "div.sk-serial,\n",
              "div.sk-item {\n",
              "  /* draw centered vertical line to link estimators */\n",
              "  background-image: linear-gradient(var(--sklearn-color-text-on-default-background), var(--sklearn-color-text-on-default-background));\n",
              "  background-size: 2px 100%;\n",
              "  background-repeat: no-repeat;\n",
              "  background-position: center center;\n",
              "}\n",
              "\n",
              "/* Parallel-specific style estimator block */\n",
              "\n",
              "#sk-container-id-5 div.sk-parallel-item::after {\n",
              "  content: \"\";\n",
              "  width: 100%;\n",
              "  border-bottom: 2px solid var(--sklearn-color-text-on-default-background);\n",
              "  flex-grow: 1;\n",
              "}\n",
              "\n",
              "#sk-container-id-5 div.sk-parallel {\n",
              "  display: flex;\n",
              "  align-items: stretch;\n",
              "  justify-content: center;\n",
              "  background-color: var(--sklearn-color-background);\n",
              "  position: relative;\n",
              "}\n",
              "\n",
              "#sk-container-id-5 div.sk-parallel-item {\n",
              "  display: flex;\n",
              "  flex-direction: column;\n",
              "}\n",
              "\n",
              "#sk-container-id-5 div.sk-parallel-item:first-child::after {\n",
              "  align-self: flex-end;\n",
              "  width: 50%;\n",
              "}\n",
              "\n",
              "#sk-container-id-5 div.sk-parallel-item:last-child::after {\n",
              "  align-self: flex-start;\n",
              "  width: 50%;\n",
              "}\n",
              "\n",
              "#sk-container-id-5 div.sk-parallel-item:only-child::after {\n",
              "  width: 0;\n",
              "}\n",
              "\n",
              "/* Serial-specific style estimator block */\n",
              "\n",
              "#sk-container-id-5 div.sk-serial {\n",
              "  display: flex;\n",
              "  flex-direction: column;\n",
              "  align-items: center;\n",
              "  background-color: var(--sklearn-color-background);\n",
              "  padding-right: 1em;\n",
              "  padding-left: 1em;\n",
              "}\n",
              "\n",
              "\n",
              "/* Toggleable style: style used for estimator/Pipeline/ColumnTransformer box that is\n",
              "clickable and can be expanded/collapsed.\n",
              "- Pipeline and ColumnTransformer use this feature and define the default style\n",
              "- Estimators will overwrite some part of the style using the `sk-estimator` class\n",
              "*/\n",
              "\n",
              "/* Pipeline and ColumnTransformer style (default) */\n",
              "\n",
              "#sk-container-id-5 div.sk-toggleable {\n",
              "  /* Default theme specific background. It is overwritten whether we have a\n",
              "  specific estimator or a Pipeline/ColumnTransformer */\n",
              "  background-color: var(--sklearn-color-background);\n",
              "}\n",
              "\n",
              "/* Toggleable label */\n",
              "#sk-container-id-5 label.sk-toggleable__label {\n",
              "  cursor: pointer;\n",
              "  display: block;\n",
              "  width: 100%;\n",
              "  margin-bottom: 0;\n",
              "  padding: 0.5em;\n",
              "  box-sizing: border-box;\n",
              "  text-align: center;\n",
              "}\n",
              "\n",
              "#sk-container-id-5 label.sk-toggleable__label-arrow:before {\n",
              "  /* Arrow on the left of the label */\n",
              "  content: \"▸\";\n",
              "  float: left;\n",
              "  margin-right: 0.25em;\n",
              "  color: var(--sklearn-color-icon);\n",
              "}\n",
              "\n",
              "#sk-container-id-5 label.sk-toggleable__label-arrow:hover:before {\n",
              "  color: var(--sklearn-color-text);\n",
              "}\n",
              "\n",
              "/* Toggleable content - dropdown */\n",
              "\n",
              "#sk-container-id-5 div.sk-toggleable__content {\n",
              "  max-height: 0;\n",
              "  max-width: 0;\n",
              "  overflow: hidden;\n",
              "  text-align: left;\n",
              "  /* unfitted */\n",
              "  background-color: var(--sklearn-color-unfitted-level-0);\n",
              "}\n",
              "\n",
              "#sk-container-id-5 div.sk-toggleable__content.fitted {\n",
              "  /* fitted */\n",
              "  background-color: var(--sklearn-color-fitted-level-0);\n",
              "}\n",
              "\n",
              "#sk-container-id-5 div.sk-toggleable__content pre {\n",
              "  margin: 0.2em;\n",
              "  border-radius: 0.25em;\n",
              "  color: var(--sklearn-color-text);\n",
              "  /* unfitted */\n",
              "  background-color: var(--sklearn-color-unfitted-level-0);\n",
              "}\n",
              "\n",
              "#sk-container-id-5 div.sk-toggleable__content.fitted pre {\n",
              "  /* unfitted */\n",
              "  background-color: var(--sklearn-color-fitted-level-0);\n",
              "}\n",
              "\n",
              "#sk-container-id-5 input.sk-toggleable__control:checked~div.sk-toggleable__content {\n",
              "  /* Expand drop-down */\n",
              "  max-height: 200px;\n",
              "  max-width: 100%;\n",
              "  overflow: auto;\n",
              "}\n",
              "\n",
              "#sk-container-id-5 input.sk-toggleable__control:checked~label.sk-toggleable__label-arrow:before {\n",
              "  content: \"▾\";\n",
              "}\n",
              "\n",
              "/* Pipeline/ColumnTransformer-specific style */\n",
              "\n",
              "#sk-container-id-5 div.sk-label input.sk-toggleable__control:checked~label.sk-toggleable__label {\n",
              "  color: var(--sklearn-color-text);\n",
              "  background-color: var(--sklearn-color-unfitted-level-2);\n",
              "}\n",
              "\n",
              "#sk-container-id-5 div.sk-label.fitted input.sk-toggleable__control:checked~label.sk-toggleable__label {\n",
              "  background-color: var(--sklearn-color-fitted-level-2);\n",
              "}\n",
              "\n",
              "/* Estimator-specific style */\n",
              "\n",
              "/* Colorize estimator box */\n",
              "#sk-container-id-5 div.sk-estimator input.sk-toggleable__control:checked~label.sk-toggleable__label {\n",
              "  /* unfitted */\n",
              "  background-color: var(--sklearn-color-unfitted-level-2);\n",
              "}\n",
              "\n",
              "#sk-container-id-5 div.sk-estimator.fitted input.sk-toggleable__control:checked~label.sk-toggleable__label {\n",
              "  /* fitted */\n",
              "  background-color: var(--sklearn-color-fitted-level-2);\n",
              "}\n",
              "\n",
              "#sk-container-id-5 div.sk-label label.sk-toggleable__label,\n",
              "#sk-container-id-5 div.sk-label label {\n",
              "  /* The background is the default theme color */\n",
              "  color: var(--sklearn-color-text-on-default-background);\n",
              "}\n",
              "\n",
              "/* On hover, darken the color of the background */\n",
              "#sk-container-id-5 div.sk-label:hover label.sk-toggleable__label {\n",
              "  color: var(--sklearn-color-text);\n",
              "  background-color: var(--sklearn-color-unfitted-level-2);\n",
              "}\n",
              "\n",
              "/* Label box, darken color on hover, fitted */\n",
              "#sk-container-id-5 div.sk-label.fitted:hover label.sk-toggleable__label.fitted {\n",
              "  color: var(--sklearn-color-text);\n",
              "  background-color: var(--sklearn-color-fitted-level-2);\n",
              "}\n",
              "\n",
              "/* Estimator label */\n",
              "\n",
              "#sk-container-id-5 div.sk-label label {\n",
              "  font-family: monospace;\n",
              "  font-weight: bold;\n",
              "  display: inline-block;\n",
              "  line-height: 1.2em;\n",
              "}\n",
              "\n",
              "#sk-container-id-5 div.sk-label-container {\n",
              "  text-align: center;\n",
              "}\n",
              "\n",
              "/* Estimator-specific */\n",
              "#sk-container-id-5 div.sk-estimator {\n",
              "  font-family: monospace;\n",
              "  border: 1px dotted var(--sklearn-color-border-box);\n",
              "  border-radius: 0.25em;\n",
              "  box-sizing: border-box;\n",
              "  margin-bottom: 0.5em;\n",
              "  /* unfitted */\n",
              "  background-color: var(--sklearn-color-unfitted-level-0);\n",
              "}\n",
              "\n",
              "#sk-container-id-5 div.sk-estimator.fitted {\n",
              "  /* fitted */\n",
              "  background-color: var(--sklearn-color-fitted-level-0);\n",
              "}\n",
              "\n",
              "/* on hover */\n",
              "#sk-container-id-5 div.sk-estimator:hover {\n",
              "  /* unfitted */\n",
              "  background-color: var(--sklearn-color-unfitted-level-2);\n",
              "}\n",
              "\n",
              "#sk-container-id-5 div.sk-estimator.fitted:hover {\n",
              "  /* fitted */\n",
              "  background-color: var(--sklearn-color-fitted-level-2);\n",
              "}\n",
              "\n",
              "/* Specification for estimator info (e.g. \"i\" and \"?\") */\n",
              "\n",
              "/* Common style for \"i\" and \"?\" */\n",
              "\n",
              ".sk-estimator-doc-link,\n",
              "a:link.sk-estimator-doc-link,\n",
              "a:visited.sk-estimator-doc-link {\n",
              "  float: right;\n",
              "  font-size: smaller;\n",
              "  line-height: 1em;\n",
              "  font-family: monospace;\n",
              "  background-color: var(--sklearn-color-background);\n",
              "  border-radius: 1em;\n",
              "  height: 1em;\n",
              "  width: 1em;\n",
              "  text-decoration: none !important;\n",
              "  margin-left: 1ex;\n",
              "  /* unfitted */\n",
              "  border: var(--sklearn-color-unfitted-level-1) 1pt solid;\n",
              "  color: var(--sklearn-color-unfitted-level-1);\n",
              "}\n",
              "\n",
              ".sk-estimator-doc-link.fitted,\n",
              "a:link.sk-estimator-doc-link.fitted,\n",
              "a:visited.sk-estimator-doc-link.fitted {\n",
              "  /* fitted */\n",
              "  border: var(--sklearn-color-fitted-level-1) 1pt solid;\n",
              "  color: var(--sklearn-color-fitted-level-1);\n",
              "}\n",
              "\n",
              "/* On hover */\n",
              "div.sk-estimator:hover .sk-estimator-doc-link:hover,\n",
              ".sk-estimator-doc-link:hover,\n",
              "div.sk-label-container:hover .sk-estimator-doc-link:hover,\n",
              ".sk-estimator-doc-link:hover {\n",
              "  /* unfitted */\n",
              "  background-color: var(--sklearn-color-unfitted-level-3);\n",
              "  color: var(--sklearn-color-background);\n",
              "  text-decoration: none;\n",
              "}\n",
              "\n",
              "div.sk-estimator.fitted:hover .sk-estimator-doc-link.fitted:hover,\n",
              ".sk-estimator-doc-link.fitted:hover,\n",
              "div.sk-label-container:hover .sk-estimator-doc-link.fitted:hover,\n",
              ".sk-estimator-doc-link.fitted:hover {\n",
              "  /* fitted */\n",
              "  background-color: var(--sklearn-color-fitted-level-3);\n",
              "  color: var(--sklearn-color-background);\n",
              "  text-decoration: none;\n",
              "}\n",
              "\n",
              "/* Span, style for the box shown on hovering the info icon */\n",
              ".sk-estimator-doc-link span {\n",
              "  display: none;\n",
              "  z-index: 9999;\n",
              "  position: relative;\n",
              "  font-weight: normal;\n",
              "  right: .2ex;\n",
              "  padding: .5ex;\n",
              "  margin: .5ex;\n",
              "  width: min-content;\n",
              "  min-width: 20ex;\n",
              "  max-width: 50ex;\n",
              "  color: var(--sklearn-color-text);\n",
              "  box-shadow: 2pt 2pt 4pt #999;\n",
              "  /* unfitted */\n",
              "  background: var(--sklearn-color-unfitted-level-0);\n",
              "  border: .5pt solid var(--sklearn-color-unfitted-level-3);\n",
              "}\n",
              "\n",
              ".sk-estimator-doc-link.fitted span {\n",
              "  /* fitted */\n",
              "  background: var(--sklearn-color-fitted-level-0);\n",
              "  border: var(--sklearn-color-fitted-level-3);\n",
              "}\n",
              "\n",
              ".sk-estimator-doc-link:hover span {\n",
              "  display: block;\n",
              "}\n",
              "\n",
              "/* \"?\"-specific style due to the `<a>` HTML tag */\n",
              "\n",
              "#sk-container-id-5 a.estimator_doc_link {\n",
              "  float: right;\n",
              "  font-size: 1rem;\n",
              "  line-height: 1em;\n",
              "  font-family: monospace;\n",
              "  background-color: var(--sklearn-color-background);\n",
              "  border-radius: 1rem;\n",
              "  height: 1rem;\n",
              "  width: 1rem;\n",
              "  text-decoration: none;\n",
              "  /* unfitted */\n",
              "  color: var(--sklearn-color-unfitted-level-1);\n",
              "  border: var(--sklearn-color-unfitted-level-1) 1pt solid;\n",
              "}\n",
              "\n",
              "#sk-container-id-5 a.estimator_doc_link.fitted {\n",
              "  /* fitted */\n",
              "  border: var(--sklearn-color-fitted-level-1) 1pt solid;\n",
              "  color: var(--sklearn-color-fitted-level-1);\n",
              "}\n",
              "\n",
              "/* On hover */\n",
              "#sk-container-id-5 a.estimator_doc_link:hover {\n",
              "  /* unfitted */\n",
              "  background-color: var(--sklearn-color-unfitted-level-3);\n",
              "  color: var(--sklearn-color-background);\n",
              "  text-decoration: none;\n",
              "}\n",
              "\n",
              "#sk-container-id-5 a.estimator_doc_link.fitted:hover {\n",
              "  /* fitted */\n",
              "  background-color: var(--sklearn-color-fitted-level-3);\n",
              "}\n",
              "</style><div id=\"sk-container-id-5\" class=\"sk-top-container\"><div class=\"sk-text-repr-fallback\"><pre>GridSearchCV(cv=5, estimator=MultinomialNB(),\n",
              "             param_grid={&#x27;alpha&#x27;: [0.9, 1.0, 1.1, 1.2, 1.3, 1.4]})</pre><b>In a Jupyter environment, please rerun this cell to show the HTML representation or trust the notebook. <br />On GitHub, the HTML representation is unable to render, please try loading this page with nbviewer.org.</b></div><div class=\"sk-container\" hidden><div class=\"sk-item sk-dashed-wrapped\"><div class=\"sk-label-container\"><div class=\"sk-label fitted sk-toggleable\"><input class=\"sk-toggleable__control sk-hidden--visually\" id=\"sk-estimator-id-9\" type=\"checkbox\" ><label for=\"sk-estimator-id-9\" class=\"sk-toggleable__label fitted sk-toggleable__label-arrow fitted\">&nbsp;&nbsp;GridSearchCV<a class=\"sk-estimator-doc-link fitted\" rel=\"noreferrer\" target=\"_blank\" href=\"https://scikit-learn.org/1.5/modules/generated/sklearn.model_selection.GridSearchCV.html\">?<span>Documentation for GridSearchCV</span></a><span class=\"sk-estimator-doc-link fitted\">i<span>Fitted</span></span></label><div class=\"sk-toggleable__content fitted\"><pre>GridSearchCV(cv=5, estimator=MultinomialNB(),\n",
              "             param_grid={&#x27;alpha&#x27;: [0.9, 1.0, 1.1, 1.2, 1.3, 1.4]})</pre></div> </div></div><div class=\"sk-parallel\"><div class=\"sk-parallel-item\"><div class=\"sk-item\"><div class=\"sk-label-container\"><div class=\"sk-label fitted sk-toggleable\"><input class=\"sk-toggleable__control sk-hidden--visually\" id=\"sk-estimator-id-10\" type=\"checkbox\" ><label for=\"sk-estimator-id-10\" class=\"sk-toggleable__label fitted sk-toggleable__label-arrow fitted\">best_estimator_: MultinomialNB</label><div class=\"sk-toggleable__content fitted\"><pre>MultinomialNB(alpha=1.1)</pre></div> </div></div><div class=\"sk-serial\"><div class=\"sk-item\"><div class=\"sk-estimator fitted sk-toggleable\"><input class=\"sk-toggleable__control sk-hidden--visually\" id=\"sk-estimator-id-11\" type=\"checkbox\" ><label for=\"sk-estimator-id-11\" class=\"sk-toggleable__label fitted sk-toggleable__label-arrow fitted\">&nbsp;MultinomialNB<a class=\"sk-estimator-doc-link fitted\" rel=\"noreferrer\" target=\"_blank\" href=\"https://scikit-learn.org/1.5/modules/generated/sklearn.naive_bayes.MultinomialNB.html\">?<span>Documentation for MultinomialNB</span></a></label><div class=\"sk-toggleable__content fitted\"><pre>MultinomialNB(alpha=1.1)</pre></div> </div></div></div></div></div></div></div></div></div>"
            ]
          },
          "metadata": {},
          "execution_count": 168
        }
      ]
    },
    {
      "cell_type": "code",
      "source": [
        "Message = [\"Free entry in 2 a wkly comp to win FA Cup final tkts 21st May 2005. Text FA to 87121 to receive entry question(std txt rate)T&C's apply 08452810075over18's\"]"
      ],
      "metadata": {
        "id": "PBcsHsazWZtp"
      },
      "execution_count": null,
      "outputs": []
    },
    {
      "cell_type": "code",
      "source": [
        "Message_vectorized = vectorizer.transform(Message)"
      ],
      "metadata": {
        "id": "tzxkhFnCXBDU"
      },
      "execution_count": null,
      "outputs": []
    },
    {
      "cell_type": "code",
      "source": [
        "label_predict = naive_bayes.predict(Message_vectorized )"
      ],
      "metadata": {
        "id": "AjtcX1ysXJSP"
      },
      "execution_count": null,
      "outputs": []
    },
    {
      "cell_type": "code",
      "source": [
        "label_map = {0: 'Ham', 1: 'Spam'}"
      ],
      "metadata": {
        "id": "jbZlH5d-YqqR"
      },
      "execution_count": null,
      "outputs": []
    },
    {
      "cell_type": "code",
      "source": [
        "#label_predicted_map = label_map[label_predict[0]]"
      ],
      "metadata": {
        "id": "l4mL1IPBY7Jk"
      },
      "execution_count": null,
      "outputs": []
    },
    {
      "cell_type": "code",
      "source": [
        "#print(\"label_predicted:\",  label_predicted_map)"
      ],
      "metadata": {
        "id": "s7aYspQEZIRZ"
      },
      "execution_count": null,
      "outputs": []
    },
    {
      "cell_type": "code",
      "source": [
        "print(label_map.keys())"
      ],
      "metadata": {
        "id": "jYX-yFLEamPs",
        "colab": {
          "base_uri": "https://localhost:8080/"
        },
        "outputId": "2b22cee0-0c43-4f15-e91f-3e83fff5414f"
      },
      "execution_count": null,
      "outputs": [
        {
          "output_type": "stream",
          "name": "stdout",
          "text": [
            "dict_keys([0, 1])\n"
          ]
        }
      ]
    },
    {
      "cell_type": "code",
      "source": [
        "print(\"Predicted label:\", label_predict[0])"
      ],
      "metadata": {
        "colab": {
          "base_uri": "https://localhost:8080/"
        },
        "id": "JDvyrEsQwLG_",
        "outputId": "67e07424-92c0-4506-b93b-0934bf501813"
      },
      "execution_count": null,
      "outputs": [
        {
          "output_type": "stream",
          "name": "stdout",
          "text": [
            "Predicted label: spam\n"
          ]
        }
      ]
    },
    {
      "cell_type": "code",
      "source": [],
      "metadata": {
        "id": "QR0fyCCWwO9l"
      },
      "execution_count": null,
      "outputs": []
    }
  ]
}